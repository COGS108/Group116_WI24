{
 "cells": [
  {
   "cell_type": "markdown",
   "metadata": {},
   "source": [
    "**If you lost points on the last checkpoint you can get them back by responding to TA/IA feedback**  \n",
    "\n",
    "Update/change the relevant sections where you lost those points, make sure you respond on GitHub Issues to your TA/IA to call their attention to the changes you made here.\n",
    "\n",
    "Please update your Timeline... no battle plan survives contact with the enemy, so make sure we understand how your plans have changed."
   ]
  },
  {
   "cell_type": "markdown",
   "metadata": {},
   "source": [
    "# COGS 108 - EDA Checkpoint"
   ]
  },
  {
   "cell_type": "markdown",
   "metadata": {},
   "source": [
    "# Names\n",
    "\n",
    "- Benjamin Hinnant\n",
    "- Desmond Vu\n",
    "- Kayla Maldonado\n",
    "- Alexander Gao\n",
    "- Keshav Tiwari"
   ]
  },
  {
   "cell_type": "markdown",
   "metadata": {},
   "source": [
    "# Research Question\n",
    "\n",
    "What is the relationship between the racial backgrounds and urbanization levels of western and eastern states, and what is their effect on COVID-19 mortality rates in the USA?  \n",
    "\n",
    "\n"
   ]
  },
  {
   "cell_type": "markdown",
   "metadata": {},
   "source": [
    "## Background & Prior Work\n",
    "\n",
    "During the COVID-19 pandemic, several analyses determined that people of color (POC) were experiencing a disproportionately larger COVID-19 mortality rate than Caucasians. One report from the APM Research Lab was written by Elisabeth Gawthrop, who used state-reported data from the U.S. Centers for Disease Control and Prevention, or CDC. She determined that as of September 27 of 2023, the COVID-19 mortality rate for Black individuals was around 55% higher than the rate for Caucasian individuals. The mortality rate for Latinos was nearly 65% higher than Caucasians (Gawthrop).  \n",
    "\n",
    "Another study done by Latoya Hill and Samantha Artiga used data from the CDC and the National Center for Health Statistics (NCHS). They determined that the largest differences in COVID-19 mortality rates between racial groups occurred during surges in the pandemic when the total mortality rate was particularly high. The first surge in COVID-19 deaths peaked in July 2020, and during this month, Hispanic individuals were five times more likely to die than Caucasians, American Indian or Alaska Natives (AIAN) were four times as likely to die, and Blacks were three times as likely to die. During the second surge in December 2020 and January 2021, all POC analyzed (Blacks, Hispanics, and AIAN) had higher rates of death than Caucasians. (Hill and Artiga).\n",
    "\n",
    "These previous studies have already assessed the relationship between racial background and COVID-19 mortality rates. As a result, we now want to determine the relationship between three variables: racial background, the level of urbanization, and whether the region of interest is an eastern or western state. We then want to determine the effect of these variables on COVID-19 mortality rates. By determining if any of these variables has a significant effect on mortality rates, we hope to potentially discover trends that can guide a future pandemic response.\n",
    "\n",
    "\n",
    "References \n",
    "\n",
    "Gawthrop, Elisabeth. “Color of Coronavirus: COVID-19 deaths analyzed by race and ethnicity — APM Research Lab.” APM Research Lab, 19 October 2023, https://www.apmresearchlab.org/covid/deaths-by-race. Accessed 25 February 2024. \n",
    "\n",
    "Hill, Latoya, and Samantha Artiga. “COVID-19 Cases and Deaths by Race/Ethnicity: Current Data and Changes Over Time.” KFF, 22 August 2022, https://www.kff.org/racial-equity-and-health-policy/issue-brief/covid-19-cases-and-deaths-by-race-ethnicity-current-data-and-changes-over-time/. Accessed 24 February 2024. \n"
   ]
  },
  {
   "cell_type": "markdown",
   "metadata": {},
   "source": [
    "# Hypothesis\n"
   ]
  },
  {
   "cell_type": "markdown",
   "metadata": {},
   "source": [
    "We predict that areas with a higher urbanization level will have higher COVID-19 mortality rates. Within the confined spaces of an urban region, there are more opportunities for the uninfected population to make contact with COVID-19 infected individuals. We also predict that areas with a larger population of racial minorities will have higher COVID-19 mortality rates, since these communities often have less resources available and may find it more difficult to treat every infected patient optimally. Combining our previous predictions, we predict that urban areas with a larger population of racial minorities will have the highest COVID-19 mortality rates, while rural areas with a smaller population of racial minorities will have the lowest COVID-19 mortality rates."
   ]
  },
  {
   "cell_type": "markdown",
   "metadata": {},
   "source": [
    "# Data"
   ]
  },
  {
   "cell_type": "markdown",
   "metadata": {},
   "source": [
    "## Data Overview\n",
    "**Dataset #1**\n",
    "- Dataset name: Provisional COVID-19 Deaths by County, and Race and Hispanic Origin\n",
    "- [Link to dataset](https://data.cdc.gov/NCHS/Provisional-COVID-19-Deaths-by-County-and-Race-and/k8wy-p9cg/about_data)\n",
    "- Number of Observations: 3,687\n",
    "- Number of Variables: 21\n",
    "\n",
    "**Description:** The dataset we are utilizing to address our question is the Provisional COVID-19 Deaths by County and Race and Hispanic Origin dataset, directly sourced from the Centers for Disease Control and Prevention (CDC) website. This dataset covers the period from January 4, 2020, to September 27, 2023, collected weekly from counties across all 50 states. It comprises around 3,700 observations with string and integer data types. The dataset is mostly complete, with NaN values only present for different racial populations. Key columns in the dataset include county name, state name, total deaths from all causes, deaths involving COVID-19, a description of the level of urbanization, and percentages of each racial category (such as Asian, White, Hispanic, American Indian, etc.). Deaths involving COVID-19 are identified by the presence of an U07.1 diagnosis code assigned to a deceased patient, which is assigned only if a patient tests positive for COVID-19. The urbanization level is determined by the National Center for Health Statistics (NCHS) Urban-Rural Classification Scheme for Counties, categorizing counties into 6 urban-rural categories suitable for health analyses.\n",
    "\n",
    "**Important Variables:**\n",
    "- Percentage of Race: Indicates the proportion of each racial category affected by COVID-19 in each county.\n",
    "- Urbanization level: Describes the level of urbanization of a county on a scale of 1 (large metropolitan city) to 6 (small non-core area), providing insights into how different counties address health access, resources, and disease prevention.\n",
    "- State Name: The state from which the data is collected, aiding in the analysis of regional differences in COVID-19.\n",
    "- Deaths by COVID-19: The number of deaths with a leading cause of COVID-19.\n",
    "\n",
    "**Data Wrangling:** As our focus is on COVID-19 deaths, affected populations, geographic locations, and urbanization levels, this dataset provides all the necessary information to address our research question. However, we do have concerns regarding missing data on certain races due to privacy concerns and unnecessary columns that are not required for this project. To address these, we cleaned the dataset by removing columns such as total deaths and ensured that we only considered counties that reported affected racial groups. This step was crucial to ensure the validity of our analysis by including as many individuals as possible in our observations. Despite the removal of some columns, we deemed this necessary given the ample data available from various counties that included racial populations for our analysis.\n",
    "\n"
   ]
  },
  {
   "cell_type": "markdown",
   "metadata": {},
   "source": [
    "## Dataset #1 Provisional COVID-19 Deaths by County, and Race and Hispanic Origin"
   ]
  },
  {
   "cell_type": "code",
<<<<<<< HEAD
   "execution_count": 1,
=======
   "execution_count": 23,
>>>>>>> f7cf30d55162985d7c6703a170c027bd721cebf9
   "metadata": {},
   "outputs": [],
   "source": [
    "# Set up\n",
    "%matplotlib inline\n",
    "\n",
    "import numpy as np\n",
    "import pandas as pd\n",
    "import matplotlib.pyplot as plt\n",
<<<<<<< HEAD
    "import seaborn as sns\n"
=======
    "import seaborn as sns\n",
    "import plotly.express as px\n",
    "from IPython.display import HTML\n"
>>>>>>> f7cf30d55162985d7c6703a170c027bd721cebf9
   ]
  },
  {
   "cell_type": "code",
<<<<<<< HEAD
   "execution_count": 2,
=======
   "execution_count": 24,
>>>>>>> f7cf30d55162985d7c6703a170c027bd721cebf9
   "metadata": {},
   "outputs": [],
   "source": [
    "# Reading the CSV file\n",
    "df = pd.read_csv('Provisional_COVID-19_Deaths_by_County__and_Race_and_Hispanic_Origin_20240224.csv')"
   ]
  },
  {
   "cell_type": "code",
<<<<<<< HEAD
   "execution_count": 3,
=======
   "execution_count": 25,
>>>>>>> f7cf30d55162985d7c6703a170c027bd721cebf9
   "metadata": {},
   "outputs": [
    {
     "data": {
      "text/html": [
       "<div>\n",
       "<style scoped>\n",
       "    .dataframe tbody tr th:only-of-type {\n",
       "        vertical-align: middle;\n",
       "    }\n",
       "\n",
       "    .dataframe tbody tr th {\n",
       "        vertical-align: top;\n",
       "    }\n",
       "\n",
       "    .dataframe thead th {\n",
       "        text-align: right;\n",
       "    }\n",
       "</style>\n",
       "<table border=\"1\" class=\"dataframe\">\n",
       "  <thead>\n",
       "    <tr style=\"text-align: right;\">\n",
       "      <th></th>\n",
       "      <th>Data as of</th>\n",
       "      <th>Start Date</th>\n",
       "      <th>End Date</th>\n",
       "      <th>State</th>\n",
       "      <th>County Name</th>\n",
       "      <th>Urban Rural Code</th>\n",
       "      <th>FIPS State</th>\n",
       "      <th>FIPS County</th>\n",
       "      <th>FIPS Code</th>\n",
       "      <th>Indicator</th>\n",
       "      <th>...</th>\n",
       "      <th>COVID-19 Deaths</th>\n",
       "      <th>Non-Hispanic White</th>\n",
       "      <th>Non-Hispanic Black</th>\n",
       "      <th>Non-Hispanic American Indian or Alaska Native</th>\n",
       "      <th>Non-Hispanic Asian</th>\n",
       "      <th>Non-Hispanic Native Hawaiian or Other Pacific Islander</th>\n",
       "      <th>Hispanic</th>\n",
       "      <th>Other</th>\n",
       "      <th>Urban Rural Description</th>\n",
       "      <th>Footnote</th>\n",
       "    </tr>\n",
       "  </thead>\n",
       "  <tbody>\n",
       "    <tr>\n",
       "      <th>0</th>\n",
       "      <td>09/27/2023</td>\n",
       "      <td>01/01/2020</td>\n",
       "      <td>09/23/2023</td>\n",
       "      <td>AK</td>\n",
       "      <td>Anchorage Municipality</td>\n",
       "      <td>3</td>\n",
       "      <td>2</td>\n",
       "      <td>20</td>\n",
       "      <td>2020</td>\n",
       "      <td>Distribution of all-cause deaths (%)</td>\n",
       "      <td>...</td>\n",
       "      <td>787</td>\n",
       "      <td>0.568</td>\n",
       "      <td>0.044</td>\n",
       "      <td>0.216</td>\n",
       "      <td>0.058</td>\n",
       "      <td>0.030</td>\n",
       "      <td>0.033</td>\n",
       "      <td>0.050</td>\n",
       "      <td>Medium metro</td>\n",
       "      <td>NaN</td>\n",
       "    </tr>\n",
       "    <tr>\n",
       "      <th>1</th>\n",
       "      <td>09/27/2023</td>\n",
       "      <td>01/01/2020</td>\n",
       "      <td>09/23/2023</td>\n",
       "      <td>AK</td>\n",
       "      <td>Anchorage Municipality</td>\n",
       "      <td>3</td>\n",
       "      <td>2</td>\n",
       "      <td>20</td>\n",
       "      <td>2020</td>\n",
       "      <td>Distribution of COVID-19 deaths (%)</td>\n",
       "      <td>...</td>\n",
       "      <td>787</td>\n",
       "      <td>0.452</td>\n",
       "      <td>0.037</td>\n",
       "      <td>0.255</td>\n",
       "      <td>0.111</td>\n",
       "      <td>0.074</td>\n",
       "      <td>0.038</td>\n",
       "      <td>0.033</td>\n",
       "      <td>Medium metro</td>\n",
       "      <td>NaN</td>\n",
       "    </tr>\n",
       "    <tr>\n",
       "      <th>2</th>\n",
       "      <td>09/27/2023</td>\n",
       "      <td>01/01/2020</td>\n",
       "      <td>09/23/2023</td>\n",
       "      <td>AK</td>\n",
       "      <td>Anchorage Municipality</td>\n",
       "      <td>3</td>\n",
       "      <td>2</td>\n",
       "      <td>20</td>\n",
       "      <td>2020</td>\n",
       "      <td>Distribution of population (%)</td>\n",
       "      <td>...</td>\n",
       "      <td>787</td>\n",
       "      <td>0.564</td>\n",
       "      <td>0.052</td>\n",
       "      <td>0.083</td>\n",
       "      <td>0.098</td>\n",
       "      <td>0.031</td>\n",
       "      <td>0.095</td>\n",
       "      <td>0.077</td>\n",
       "      <td>Medium metro</td>\n",
       "      <td>NaN</td>\n",
       "    </tr>\n",
       "    <tr>\n",
       "      <th>3</th>\n",
       "      <td>09/27/2023</td>\n",
       "      <td>01/01/2020</td>\n",
       "      <td>09/23/2023</td>\n",
       "      <td>AK</td>\n",
       "      <td>Fairbanks North Star Borough</td>\n",
       "      <td>4</td>\n",
       "      <td>2</td>\n",
       "      <td>90</td>\n",
       "      <td>2090</td>\n",
       "      <td>Distribution of all-cause deaths (%)</td>\n",
       "      <td>...</td>\n",
       "      <td>214</td>\n",
       "      <td>0.710</td>\n",
       "      <td>0.024</td>\n",
       "      <td>0.173</td>\n",
       "      <td>0.020</td>\n",
       "      <td>NaN</td>\n",
       "      <td>0.027</td>\n",
       "      <td>0.044</td>\n",
       "      <td>Small metro</td>\n",
       "      <td>One or more data cells have counts between 1-9...</td>\n",
       "    </tr>\n",
       "    <tr>\n",
       "      <th>4</th>\n",
       "      <td>09/27/2023</td>\n",
       "      <td>01/01/2020</td>\n",
       "      <td>09/23/2023</td>\n",
       "      <td>AK</td>\n",
       "      <td>Fairbanks North Star Borough</td>\n",
       "      <td>4</td>\n",
       "      <td>2</td>\n",
       "      <td>90</td>\n",
       "      <td>2090</td>\n",
       "      <td>Distribution of COVID-19 deaths (%)</td>\n",
       "      <td>...</td>\n",
       "      <td>214</td>\n",
       "      <td>0.626</td>\n",
       "      <td>NaN</td>\n",
       "      <td>0.257</td>\n",
       "      <td>NaN</td>\n",
       "      <td>NaN</td>\n",
       "      <td>NaN</td>\n",
       "      <td>0.056</td>\n",
       "      <td>Small metro</td>\n",
       "      <td>One or more data cells have counts between 1-9...</td>\n",
       "    </tr>\n",
       "  </tbody>\n",
       "</table>\n",
       "<p>5 rows × 21 columns</p>\n",
       "</div>"
      ],
      "text/plain": [
       "   Data as of  Start Date    End Date State                   County Name  \\\n",
       "0  09/27/2023  01/01/2020  09/23/2023    AK        Anchorage Municipality   \n",
       "1  09/27/2023  01/01/2020  09/23/2023    AK        Anchorage Municipality   \n",
       "2  09/27/2023  01/01/2020  09/23/2023    AK        Anchorage Municipality   \n",
       "3  09/27/2023  01/01/2020  09/23/2023    AK  Fairbanks North Star Borough   \n",
       "4  09/27/2023  01/01/2020  09/23/2023    AK  Fairbanks North Star Borough   \n",
       "\n",
       "   Urban Rural Code  FIPS State  FIPS County  FIPS Code  \\\n",
       "0                 3           2           20       2020   \n",
       "1                 3           2           20       2020   \n",
       "2                 3           2           20       2020   \n",
       "3                 4           2           90       2090   \n",
       "4                 4           2           90       2090   \n",
       "\n",
       "                              Indicator  ...  COVID-19 Deaths  \\\n",
       "0  Distribution of all-cause deaths (%)  ...              787   \n",
       "1   Distribution of COVID-19 deaths (%)  ...              787   \n",
       "2        Distribution of population (%)  ...              787   \n",
       "3  Distribution of all-cause deaths (%)  ...              214   \n",
       "4   Distribution of COVID-19 deaths (%)  ...              214   \n",
       "\n",
       "   Non-Hispanic White  Non-Hispanic Black  \\\n",
       "0               0.568               0.044   \n",
       "1               0.452               0.037   \n",
       "2               0.564               0.052   \n",
       "3               0.710               0.024   \n",
       "4               0.626                 NaN   \n",
       "\n",
       "   Non-Hispanic American Indian or Alaska Native  Non-Hispanic Asian  \\\n",
       "0                                          0.216               0.058   \n",
       "1                                          0.255               0.111   \n",
       "2                                          0.083               0.098   \n",
       "3                                          0.173               0.020   \n",
       "4                                          0.257                 NaN   \n",
       "\n",
       "   Non-Hispanic Native Hawaiian or Other Pacific Islander  Hispanic  Other  \\\n",
       "0                                              0.030          0.033  0.050   \n",
       "1                                              0.074          0.038  0.033   \n",
       "2                                              0.031          0.095  0.077   \n",
       "3                                                NaN          0.027  0.044   \n",
       "4                                                NaN            NaN  0.056   \n",
       "\n",
       "   Urban Rural Description                                           Footnote  \n",
       "0             Medium metro                                                NaN  \n",
       "1             Medium metro                                                NaN  \n",
       "2             Medium metro                                                NaN  \n",
       "3              Small metro  One or more data cells have counts between 1-9...  \n",
       "4              Small metro  One or more data cells have counts between 1-9...  \n",
       "\n",
       "[5 rows x 21 columns]"
      ]
     },
<<<<<<< HEAD
     "execution_count": 3,
=======
     "execution_count": 25,
>>>>>>> f7cf30d55162985d7c6703a170c027bd721cebf9
     "metadata": {},
     "output_type": "execute_result"
    }
   ],
   "source": [
    "# How does the file look like\n",
    "df.head()"
   ]
  },
  {
   "cell_type": "code",
<<<<<<< HEAD
   "execution_count": 4,
=======
   "execution_count": 26,
>>>>>>> f7cf30d55162985d7c6703a170c027bd721cebf9
   "metadata": {},
   "outputs": [],
   "source": [
    "# Clean Data to only include rows for deaths from COVID-19\n",
    "df = df[df['Indicator'] == 'Distribution of COVID-19 deaths (%)']\n",
    "df.reset_index(drop=True, inplace=True)"
   ]
  },
  {
   "cell_type": "code",
<<<<<<< HEAD
   "execution_count": 5,
=======
   "execution_count": 27,
>>>>>>> f7cf30d55162985d7c6703a170c027bd721cebf9
   "metadata": {},
   "outputs": [
    {
     "data": {
      "text/plain": [
       "(500, 22)"
      ]
     },
<<<<<<< HEAD
     "execution_count": 5,
=======
     "execution_count": 27,
>>>>>>> f7cf30d55162985d7c6703a170c027bd721cebf9
     "metadata": {},
     "output_type": "execute_result"
    }
   ],
   "source": [
    "# Clean Data to only include coastal states(Column with East, West)\n",
    "coast_states = ['WA', 'OR', 'CA', 'ME', 'NH', 'MA', 'RI', 'CT', 'NY', 'NJ', 'PA', 'DE', 'MD', 'VA', 'NC', 'SC', 'GA', 'FL']\n",
    "df['Coast'] = df['State'].apply(lambda x: 'West' if x in ['CA', 'OR', 'WA'] else 'East')\n",
    "df = df[df['State'].isin(coast_states)]\n",
    "df.shape"
   ]
  },
  {
   "cell_type": "code",
<<<<<<< HEAD
   "execution_count": 6,
=======
   "execution_count": 28,
>>>>>>> f7cf30d55162985d7c6703a170c027bd721cebf9
   "metadata": {},
   "outputs": [],
   "source": [
    "# 170 coastal counties where theres info for Non-Hispanic Whites, Non-Hispanic Blacks, Hispanics, Non-Hispanic Asians\n",
    "mask_white = df['Non-Hispanic White'].notna()\n",
    "mask_black = df['Non-Hispanic Black'].notna()\n",
    "mask_asian = df['Non-Hispanic Asian'].notna()\n",
    "mask_hispanic = df['Hispanic'].notna()\n",
    "combined_mask = mask_white & mask_black & mask_hispanic &mask_asian\n",
    "num_rows_non_nan = combined_mask.sum()\n",
    "\n"
   ]
  },
  {
   "cell_type": "code",
<<<<<<< HEAD
   "execution_count": 7,
=======
   "execution_count": 29,
>>>>>>> f7cf30d55162985d7c6703a170c027bd721cebf9
   "metadata": {},
   "outputs": [],
   "source": [
    "#One of the biggest challenges we were thinking about was that a lot of counties had different or missing information for ethnicities. Some counties have information for every ethnicity, while others have missing data for one ethnicity only or for many ethnicities. Taking a look at the data, at least a significant number of counties had information for Non-Hispanic White, Black and Asians and Hispanics, which we felt was strong enough to analyze racial data trends for these counties. Thus we kept counties which had information for these categories and added one which were all ethnicities outside of these.\n",
    "# Drop counties where theres missing info in any of aforementioned columns\n",
    "df = df[combined_mask]\n",
    "df.reset_index(drop=True, inplace=True)\n",
    "df['Non-White, Non-Black, Non-Hispanic, Non-Asian'] = 1 - df['Non-Hispanic White'] - df['Non-Hispanic Black'] - df['Hispanic'] - df['Non-Hispanic Asian']\n"
   ]
  },
  {
   "cell_type": "code",
<<<<<<< HEAD
   "execution_count": 8,
=======
   "execution_count": 30,
>>>>>>> f7cf30d55162985d7c6703a170c027bd721cebf9
   "metadata": {},
   "outputs": [],
   "source": [
    "# Drop unnecessary columns, Remember Data is from 01/01/2020 to 09/23/2023\n",
<<<<<<< HEAD
    "df = df.drop(['Data as of', 'Total deaths', 'Start Date', 'End Date', 'Urban Rural Code', 'FIPS State', 'FIPS Code','FIPS County', 'Indicator'], axis=1)"
=======
    "df = df.drop(['Data as of', 'Start Date', 'End Date', 'Urban Rural Code', 'FIPS State', 'FIPS Code','FIPS County', 'Indicator'], axis=1)"
>>>>>>> f7cf30d55162985d7c6703a170c027bd721cebf9
   ]
  },
  {
   "cell_type": "code",
<<<<<<< HEAD
   "execution_count": 9,
=======
   "execution_count": 31,
>>>>>>> f7cf30d55162985d7c6703a170c027bd721cebf9
   "metadata": {},
   "outputs": [],
   "source": [
    "# Rearrange the columns to have data arranged in desirable order\n",
<<<<<<< HEAD
    "df = df[[\"State\",\"County Name\", \"Coast\",\"COVID-19 Deaths\",\"Non-Hispanic White\",\"Non-Hispanic Black\", \"Hispanic\", \"Non-Hispanic Asian\", \"Non-White, Non-Black, Non-Hispanic, Non-Asian\", \"Non-Hispanic American Indian or Alaska Native\",\"Non-Hispanic Native Hawaiian or Other Pacific Islander\",\"Other\",\"Urban Rural Description\",\"Footnote\"]]"
=======
    "df = df[[\"State\",\"County Name\", \"Coast\",\"Total deaths\", \"COVID-19 Deaths\",\"Non-Hispanic White\",\"Non-Hispanic Black\", \"Hispanic\", \"Non-Hispanic Asian\", \"Non-White, Non-Black, Non-Hispanic, Non-Asian\", \"Non-Hispanic American Indian or Alaska Native\",\"Non-Hispanic Native Hawaiian or Other Pacific Islander\",\"Other\",\"Urban Rural Description\",\"Footnote\"]]"
>>>>>>> f7cf30d55162985d7c6703a170c027bd721cebf9
   ]
  },
  {
   "cell_type": "code",
<<<<<<< HEAD
   "execution_count": 10,
=======
   "execution_count": 32,
>>>>>>> f7cf30d55162985d7c6703a170c027bd721cebf9
   "metadata": {},
   "outputs": [
    {
     "data": {
      "text/html": [
       "<div>\n",
       "<style scoped>\n",
       "    .dataframe tbody tr th:only-of-type {\n",
       "        vertical-align: middle;\n",
       "    }\n",
       "\n",
       "    .dataframe tbody tr th {\n",
       "        vertical-align: top;\n",
       "    }\n",
       "\n",
       "    .dataframe thead th {\n",
       "        text-align: right;\n",
       "    }\n",
       "</style>\n",
       "<table border=\"1\" class=\"dataframe\">\n",
       "  <thead>\n",
       "    <tr style=\"text-align: right;\">\n",
       "      <th></th>\n",
       "      <th>State</th>\n",
       "      <th>County Name</th>\n",
       "      <th>Coast</th>\n",
<<<<<<< HEAD
=======
       "      <th>Total deaths</th>\n",
>>>>>>> f7cf30d55162985d7c6703a170c027bd721cebf9
       "      <th>COVID-19 Deaths</th>\n",
       "      <th>Non-Hispanic White</th>\n",
       "      <th>Non-Hispanic Black</th>\n",
       "      <th>Hispanic</th>\n",
       "      <th>Non-Hispanic Asian</th>\n",
       "      <th>Non-White, Non-Black, Non-Hispanic, Non-Asian</th>\n",
       "      <th>Urban Rural Description</th>\n",
       "    </tr>\n",
       "  </thead>\n",
       "  <tbody>\n",
       "    <tr>\n",
       "      <th>0</th>\n",
       "      <td>CA</td>\n",
       "      <td>Alameda County</td>\n",
       "      <td>West</td>\n",
<<<<<<< HEAD
=======
       "      <td>41916</td>\n",
>>>>>>> f7cf30d55162985d7c6703a170c027bd721cebf9
       "      <td>2628</td>\n",
       "      <td>0.312</td>\n",
       "      <td>0.191</td>\n",
       "      <td>0.239</td>\n",
       "      <td>0.219</td>\n",
       "      <td>0.039</td>\n",
       "      <td>Large central metro</td>\n",
       "    </tr>\n",
       "    <tr>\n",
       "      <th>1</th>\n",
       "      <td>CA</td>\n",
       "      <td>Butte County</td>\n",
       "      <td>West</td>\n",
<<<<<<< HEAD
=======
       "      <td>9294</td>\n",
>>>>>>> f7cf30d55162985d7c6703a170c027bd721cebf9
       "      <td>789</td>\n",
       "      <td>0.790</td>\n",
       "      <td>0.015</td>\n",
       "      <td>0.119</td>\n",
       "      <td>0.041</td>\n",
       "      <td>0.035</td>\n",
       "      <td>Small metro</td>\n",
       "    </tr>\n",
       "    <tr>\n",
       "      <th>2</th>\n",
       "      <td>CA</td>\n",
       "      <td>Contra Costa County</td>\n",
       "      <td>West</td>\n",
<<<<<<< HEAD
=======
       "      <td>31889</td>\n",
>>>>>>> f7cf30d55162985d7c6703a170c027bd721cebf9
       "      <td>1754</td>\n",
       "      <td>0.536</td>\n",
       "      <td>0.127</td>\n",
       "      <td>0.198</td>\n",
       "      <td>0.111</td>\n",
       "      <td>0.028</td>\n",
       "      <td>Large fringe metro</td>\n",
       "    </tr>\n",
       "    <tr>\n",
       "      <th>3</th>\n",
       "      <td>CA</td>\n",
       "      <td>Fresno County</td>\n",
       "      <td>West</td>\n",
<<<<<<< HEAD
=======
       "      <td>33704</td>\n",
>>>>>>> f7cf30d55162985d7c6703a170c027bd721cebf9
       "      <td>3278</td>\n",
       "      <td>0.393</td>\n",
       "      <td>0.046</td>\n",
       "      <td>0.450</td>\n",
       "      <td>0.092</td>\n",
       "      <td>0.019</td>\n",
       "      <td>Medium metro</td>\n",
       "    </tr>\n",
       "    <tr>\n",
       "      <th>4</th>\n",
       "      <td>CA</td>\n",
       "      <td>Kern County</td>\n",
       "      <td>West</td>\n",
<<<<<<< HEAD
=======
       "      <td>27860</td>\n",
>>>>>>> f7cf30d55162985d7c6703a170c027bd721cebf9
       "      <td>2711</td>\n",
       "      <td>0.373</td>\n",
       "      <td>0.058</td>\n",
       "      <td>0.505</td>\n",
       "      <td>0.040</td>\n",
       "      <td>0.024</td>\n",
       "      <td>Medium metro</td>\n",
       "    </tr>\n",
       "  </tbody>\n",
       "</table>\n",
       "</div>"
      ],
      "text/plain": [
<<<<<<< HEAD
       "  State          County Name Coast  COVID-19 Deaths  Non-Hispanic White  \\\n",
       "0    CA       Alameda County  West             2628               0.312   \n",
       "1    CA         Butte County  West              789               0.790   \n",
       "2    CA  Contra Costa County  West             1754               0.536   \n",
       "3    CA        Fresno County  West             3278               0.393   \n",
       "4    CA          Kern County  West             2711               0.373   \n",
       "\n",
       "   Non-Hispanic Black  Hispanic  Non-Hispanic Asian  \\\n",
       "0               0.191     0.239               0.219   \n",
       "1               0.015     0.119               0.041   \n",
       "2               0.127     0.198               0.111   \n",
       "3               0.046     0.450               0.092   \n",
       "4               0.058     0.505               0.040   \n",
=======
       "  State          County Name Coast  Total deaths  COVID-19 Deaths  \\\n",
       "0    CA       Alameda County  West         41916             2628   \n",
       "1    CA         Butte County  West          9294              789   \n",
       "2    CA  Contra Costa County  West         31889             1754   \n",
       "3    CA        Fresno County  West         33704             3278   \n",
       "4    CA          Kern County  West         27860             2711   \n",
       "\n",
       "   Non-Hispanic White  Non-Hispanic Black  Hispanic  Non-Hispanic Asian  \\\n",
       "0               0.312               0.191     0.239               0.219   \n",
       "1               0.790               0.015     0.119               0.041   \n",
       "2               0.536               0.127     0.198               0.111   \n",
       "3               0.393               0.046     0.450               0.092   \n",
       "4               0.373               0.058     0.505               0.040   \n",
>>>>>>> f7cf30d55162985d7c6703a170c027bd721cebf9
       "\n",
       "   Non-White, Non-Black, Non-Hispanic, Non-Asian Urban Rural Description  \n",
       "0                                          0.039     Large central metro  \n",
       "1                                          0.035             Small metro  \n",
       "2                                          0.028      Large fringe metro  \n",
       "3                                          0.019            Medium metro  \n",
       "4                                          0.024            Medium metro  "
      ]
     },
<<<<<<< HEAD
     "execution_count": 10,
=======
     "execution_count": 32,
>>>>>>> f7cf30d55162985d7c6703a170c027bd721cebf9
     "metadata": {},
     "output_type": "execute_result"
    }
   ],
   "source": [
    "# Because we standardized the ethnicity data above, we decide to remove all data for specific ethnicities which we are not observing and only keep the ones that we described above.\n",
    "df = df.drop(['Non-Hispanic American Indian or Alaska Native','Non-Hispanic Native Hawaiian or Other Pacific Islander', 'Other', 'Footnote'], axis=1)\n",
    "df.head()"
   ]
  },
  {
   "cell_type": "code",
<<<<<<< HEAD
   "execution_count": 11,
=======
   "execution_count": 33,
>>>>>>> f7cf30d55162985d7c6703a170c027bd721cebf9
   "metadata": {},
   "outputs": [
    {
     "data": {
      "text/plain": [
<<<<<<< HEAD
       "(170, 10)"
      ]
     },
     "execution_count": 11,
=======
       "(170, 11)"
      ]
     },
     "execution_count": 33,
>>>>>>> f7cf30d55162985d7c6703a170c027bd721cebf9
     "metadata": {},
     "output_type": "execute_result"
    }
   ],
   "source": [
    "# Cleaned dataset\n",
    "df.shape"
   ]
  },
  {
   "cell_type": "markdown",
   "metadata": {},
   "source": [
    "### Data Cleaning\n",
    "\n",
    "To get the data into a usable format, we first had to keep only the parts of the data that were deaths specific to COVID, as the data also included non-COVID deaths. Based on our research question, we wanted to analyze states on the east and west coast. So, we only kept the remaining data that were for counties in east and west coast states. Then, we had to analyze which parts of the data were missing. Even though there were columns for specific ethnicities such as American Indian or Native Hawaiian, a lot of counties had missing information for these columns and only had data for few columns Non-Hispanic Whites and Non-Hispanic Blacks and NaN for others. In order to standardize the data, while still having a decent number of obvservations, we decided to see how many counties had data for Non-Hispanic Whites, Non-Hispanic Blacks, Non-Hispanic Asians, and Hispanics, which was 170, and removed those which didn’t. Then, we added essentially a column that was for the proportion of the population not in those ethnicities (the remainder/other column basically). Finally, we dropped a lot of columns which were unnecessary to our data, such as codes for counties and states (which do not provide as easily understandable info as county names and state names) and date-range, which was standard across the whole data set (1/2020 to 9/2023). We also removed total deaths, as we only cared about COVID-19 deaths."
   ]
  },
  {
   "cell_type": "markdown",
   "metadata": {},
   "source": [
    "# Results\n",
    "\n",
    "## Exploratory Data Analysis\n",
    "\n",
    "Before we delve into the EDA, it is important to note that our data comprises of small units that cumulate together to answer our research question. Therefore, creating the characteristics table in order to understand our data better first requires the collation of county-wise mortality counts into state and coastal levels of granularity. Moreoever, all data must also be reorganized as per differing Rural Urban Descriptions, in order for us to better understand our dataset's ability to explore the relationships between different urbanization levels and racial backgrounds in the context of COVID-19 Deaths."
   ]
  },
  {
   "cell_type": "markdown",
   "metadata": {},
   "source": [
<<<<<<< HEAD
    "### Section 1: Shifting from county to coastal levels of granularity\n",
    "\n",
    "In order to compare east and west coast states, we must transform our data from county-wise proportions to a much higher level of granularity. By doing that, we can much easier observe patterns/comprehend if there is any preliminary relationships/distributions that can be seen in our cleaned dataset."
=======
    "Also, one aspect we need to be aware of is that because a lot of counties have a higher population than others, naturally, they will have a higher number of COVID deaths. Thus, we need to make sure that we take into account the covid death rate in order to truly understand what factors cause a higher percentage of COVID deaths. To this, we add a column called COVID death rate, which is the number of COVID deaths divided by the total number of deaths."
>>>>>>> f7cf30d55162985d7c6703a170c027bd721cebf9
   ]
  },
  {
   "cell_type": "code",
   "execution_count": 34,
   "metadata": {},
   "outputs": [
    {
     "data": {
      "text/html": [
       "<div>\n",
       "<style scoped>\n",
       "    .dataframe tbody tr th:only-of-type {\n",
       "        vertical-align: middle;\n",
       "    }\n",
       "\n",
       "    .dataframe tbody tr th {\n",
       "        vertical-align: top;\n",
       "    }\n",
       "\n",
       "    .dataframe thead th {\n",
       "        text-align: right;\n",
       "    }\n",
       "</style>\n",
       "<table border=\"1\" class=\"dataframe\">\n",
       "  <thead>\n",
       "    <tr style=\"text-align: right;\">\n",
       "      <th></th>\n",
<<<<<<< HEAD
       "      <th>COVID-19 Deaths</th>\n",
=======
       "      <th>State</th>\n",
       "      <th>County Name</th>\n",
       "      <th>Coast</th>\n",
       "      <th>Total deaths</th>\n",
       "      <th>COVID-19 Deaths</th>\n",
       "      <th>Portion of Deaths due to COVID</th>\n",
>>>>>>> f7cf30d55162985d7c6703a170c027bd721cebf9
       "      <th>Non-Hispanic White</th>\n",
       "      <th>Non-Hispanic Black</th>\n",
       "      <th>Hispanic</th>\n",
       "      <th>Non-Hispanic Asian</th>\n",
       "      <th>Non-White, Non-Black, Non-Hispanic, Non-Asian</th>\n",
<<<<<<< HEAD
=======
       "      <th>Urban Rural Description</th>\n",
>>>>>>> f7cf30d55162985d7c6703a170c027bd721cebf9
       "    </tr>\n",
       "  </thead>\n",
       "  <tbody>\n",
       "    <tr>\n",
<<<<<<< HEAD
       "      <th>East</th>\n",
       "      <td>308361</td>\n",
       "      <td>0.604031</td>\n",
       "      <td>0.197201</td>\n",
       "      <td>0.150331</td>\n",
       "      <td>0.038731</td>\n",
       "      <td>0.009706</td>\n",
       "    </tr>\n",
       "    <tr>\n",
       "      <th>West</th>\n",
       "      <td>116605</td>\n",
       "      <td>0.409395</td>\n",
       "      <td>0.068750</td>\n",
       "      <td>0.382217</td>\n",
       "      <td>0.114059</td>\n",
       "      <td>0.025578</td>\n",
       "    </tr>\n",
       "    <tr>\n",
       "      <th>CA</th>\n",
       "      <td>103793</td>\n",
       "      <td>0.365473</td>\n",
       "      <td>0.071580</td>\n",
       "      <td>0.420816</td>\n",
       "      <td>0.119665</td>\n",
       "      <td>0.022466</td>\n",
       "    </tr>\n",
       "    <tr>\n",
       "      <th>CT</th>\n",
       "      <td>11220</td>\n",
       "      <td>0.736910</td>\n",
       "      <td>0.130128</td>\n",
       "      <td>0.111873</td>\n",
       "      <td>0.015340</td>\n",
       "      <td>0.005749</td>\n",
       "    </tr>\n",
       "    <tr>\n",
       "      <th>DE</th>\n",
       "      <td>1785</td>\n",
       "      <td>0.711000</td>\n",
       "      <td>0.229000</td>\n",
       "      <td>0.047000</td>\n",
       "      <td>0.011000</td>\n",
       "      <td>0.002000</td>\n",
=======
       "      <th>0</th>\n",
       "      <td>CA</td>\n",
       "      <td>Alameda County</td>\n",
       "      <td>West</td>\n",
       "      <td>41916</td>\n",
       "      <td>2628</td>\n",
       "      <td>0.062697</td>\n",
       "      <td>0.312</td>\n",
       "      <td>0.191</td>\n",
       "      <td>0.239</td>\n",
       "      <td>0.219</td>\n",
       "      <td>0.039</td>\n",
       "      <td>Large central metro</td>\n",
       "    </tr>\n",
       "    <tr>\n",
       "      <th>1</th>\n",
       "      <td>CA</td>\n",
       "      <td>Butte County</td>\n",
       "      <td>West</td>\n",
       "      <td>9294</td>\n",
       "      <td>789</td>\n",
       "      <td>0.084893</td>\n",
       "      <td>0.790</td>\n",
       "      <td>0.015</td>\n",
       "      <td>0.119</td>\n",
       "      <td>0.041</td>\n",
       "      <td>0.035</td>\n",
       "      <td>Small metro</td>\n",
       "    </tr>\n",
       "    <tr>\n",
       "      <th>2</th>\n",
       "      <td>CA</td>\n",
       "      <td>Contra Costa County</td>\n",
       "      <td>West</td>\n",
       "      <td>31889</td>\n",
       "      <td>1754</td>\n",
       "      <td>0.055003</td>\n",
       "      <td>0.536</td>\n",
       "      <td>0.127</td>\n",
       "      <td>0.198</td>\n",
       "      <td>0.111</td>\n",
       "      <td>0.028</td>\n",
       "      <td>Large fringe metro</td>\n",
       "    </tr>\n",
       "    <tr>\n",
       "      <th>3</th>\n",
       "      <td>CA</td>\n",
       "      <td>Fresno County</td>\n",
       "      <td>West</td>\n",
       "      <td>33704</td>\n",
       "      <td>3278</td>\n",
       "      <td>0.097258</td>\n",
       "      <td>0.393</td>\n",
       "      <td>0.046</td>\n",
       "      <td>0.450</td>\n",
       "      <td>0.092</td>\n",
       "      <td>0.019</td>\n",
       "      <td>Medium metro</td>\n",
       "    </tr>\n",
       "    <tr>\n",
       "      <th>4</th>\n",
       "      <td>CA</td>\n",
       "      <td>Kern County</td>\n",
       "      <td>West</td>\n",
       "      <td>27860</td>\n",
       "      <td>2711</td>\n",
       "      <td>0.097308</td>\n",
       "      <td>0.373</td>\n",
       "      <td>0.058</td>\n",
       "      <td>0.505</td>\n",
       "      <td>0.040</td>\n",
       "      <td>0.024</td>\n",
       "      <td>Medium metro</td>\n",
>>>>>>> f7cf30d55162985d7c6703a170c027bd721cebf9
       "    </tr>\n",
       "  </tbody>\n",
       "</table>\n",
       "</div>"
      ],
      "text/plain": [
<<<<<<< HEAD
       "      COVID-19 Deaths  Non-Hispanic White  Non-Hispanic Black  Hispanic  \\\n",
       "East           308361            0.604031            0.197201  0.150331   \n",
       "West           116605            0.409395            0.068750  0.382217   \n",
       "CA             103793            0.365473            0.071580  0.420816   \n",
       "CT              11220            0.736910            0.130128  0.111873   \n",
       "DE               1785            0.711000            0.229000  0.047000   \n",
       "\n",
       "      Non-Hispanic Asian  Non-White, Non-Black, Non-Hispanic, Non-Asian  \n",
       "East            0.038731                                       0.009706  \n",
       "West            0.114059                                       0.025578  \n",
       "CA              0.119665                                       0.022466  \n",
       "CT              0.015340                                       0.005749  \n",
       "DE              0.011000                                       0.002000  "
      ]
     },
     "metadata": {},
     "output_type": "display_data"
    }
   ],
   "source": [
    "state_deaths = df.groupby('State').agg({'COVID-19 Deaths': 'sum'})\n",
    "race_columns = ['Non-Hispanic White', 'Non-Hispanic Black', 'Hispanic', 'Non-Hispanic Asian', 'Non-White, Non-Black, Non-Hispanic, Non-Asian']\n",
    "race_deaths = pd.DataFrame()\n",
    "for col in race_columns:\n",
    "    race_deaths[col] = df[col] * df['COVID-19 Deaths']\n",
    "state_race_deaths = race_deaths.groupby(df['State']).sum()\n",
    "state_race_death_proportions = state_race_deaths.div(state_deaths['COVID-19 Deaths'], axis=0)\n",
    "state_df = pd.concat([state_deaths, state_race_death_proportions], axis=1)\n",
    "\n",
    "coast_deaths = df.groupby('Coast').agg({'COVID-19 Deaths':'sum'})\n",
    "race_deaths_coast = pd.DataFrame()\n",
    "for col in race_columns:\n",
    "    race_deaths_coast[col] = df[col] * df['COVID-19 Deaths']\n",
    "coast_race_deaths = race_deaths_coast.groupby(df['Coast']).sum()\n",
    "coast_race_death_proportions = coast_race_deaths.div(coast_deaths['COVID-19 Deaths'], axis=0)\n",
    "coast_df = pd.concat([coast_deaths, coast_race_death_proportions], axis=1)\n",
    "\n",
    "location_df = pd.concat([coast_df, state_df], axis=0)\n",
    "coastal_mean = pd.DataFrame(coast_df[race_columns].mean())\n",
    "\n",
    "location_df.head()\n"
=======
       "  State          County Name Coast  Total deaths  COVID-19 Deaths  \\\n",
       "0    CA       Alameda County  West         41916             2628   \n",
       "1    CA         Butte County  West          9294              789   \n",
       "2    CA  Contra Costa County  West         31889             1754   \n",
       "3    CA        Fresno County  West         33704             3278   \n",
       "4    CA          Kern County  West         27860             2711   \n",
       "\n",
       "   Portion of Deaths due to COVID  Non-Hispanic White  Non-Hispanic Black  \\\n",
       "0                        0.062697               0.312               0.191   \n",
       "1                        0.084893               0.790               0.015   \n",
       "2                        0.055003               0.536               0.127   \n",
       "3                        0.097258               0.393               0.046   \n",
       "4                        0.097308               0.373               0.058   \n",
       "\n",
       "   Hispanic  Non-Hispanic Asian  \\\n",
       "0     0.239               0.219   \n",
       "1     0.119               0.041   \n",
       "2     0.198               0.111   \n",
       "3     0.450               0.092   \n",
       "4     0.505               0.040   \n",
       "\n",
       "   Non-White, Non-Black, Non-Hispanic, Non-Asian Urban Rural Description  \n",
       "0                                          0.039     Large central metro  \n",
       "1                                          0.035             Small metro  \n",
       "2                                          0.028      Large fringe metro  \n",
       "3                                          0.019            Medium metro  \n",
       "4                                          0.024            Medium metro  "
      ]
     },
     "execution_count": 34,
     "metadata": {},
     "output_type": "execute_result"
    }
   ],
   "source": [
    "df.insert(5, \"Portion of Deaths due to COVID\", df[\"COVID-19 Deaths\"] / df[\"Total deaths\"])\n",
    "df.head()"
>>>>>>> f7cf30d55162985d7c6703a170c027bd721cebf9
   ]
  },
  {
   "cell_type": "markdown",
   "metadata": {},
   "source": [
<<<<<<< HEAD
    "### Section 2 : Shifting from county to urbanization levels of granularity\n",
    "\n",
    "This section helps us look at different counties's central tendency when collated into distinct Urban Rural Descriptions. For it, we need to follow a similar process to the earlier shift in granularity."
=======
    "### Section 1: Shifting from county to coastal levels of granularity\n",
    "\n",
    "In order to compare east and west coast states, we must transform our data from county-wise proportions to a much higher level of granularity. By doing that, we can much easier observe patterns/comprehend if there is any preliminary relationships/distributions that can be seen in our cleaned dataset."
>>>>>>> f7cf30d55162985d7c6703a170c027bd721cebf9
   ]
  },
  {
   "cell_type": "code",
   "execution_count": 35,
   "metadata": {},
   "outputs": [
    {
     "data": {
      "text/html": [
       "<div>\n",
       "<style scoped>\n",
       "    .dataframe tbody tr th:only-of-type {\n",
       "        vertical-align: middle;\n",
       "    }\n",
       "\n",
       "    .dataframe tbody tr th {\n",
       "        vertical-align: top;\n",
       "    }\n",
       "\n",
       "    .dataframe thead th {\n",
       "        text-align: right;\n",
       "    }\n",
       "</style>\n",
       "<table border=\"1\" class=\"dataframe\">\n",
       "  <thead>\n",
       "    <tr style=\"text-align: right;\">\n",
       "      <th></th>\n",
       "      <th>COVID-19 Deaths</th>\n",
<<<<<<< HEAD
=======
       "      <th>Total deaths</th>\n",
       "      <th>Portion of Deaths due to COVID</th>\n",
>>>>>>> f7cf30d55162985d7c6703a170c027bd721cebf9
       "      <th>Non-Hispanic White</th>\n",
       "      <th>Non-Hispanic Black</th>\n",
       "      <th>Hispanic</th>\n",
       "      <th>Non-Hispanic Asian</th>\n",
       "      <th>Non-White, Non-Black, Non-Hispanic, Non-Asian</th>\n",
       "    </tr>\n",
<<<<<<< HEAD
       "    <tr>\n",
       "      <th>Urban Rural Description</th>\n",
       "      <th></th>\n",
       "      <th></th>\n",
       "      <th></th>\n",
       "      <th></th>\n",
       "      <th></th>\n",
       "      <th></th>\n",
       "    </tr>\n",
       "  </thead>\n",
       "  <tbody>\n",
       "    <tr>\n",
       "      <th>Large central metro</th>\n",
       "      <td>191458</td>\n",
       "      <td>0.417235</td>\n",
       "      <td>0.180711</td>\n",
       "      <td>0.295912</td>\n",
       "      <td>0.087729</td>\n",
       "      <td>0.018414</td>\n",
       "    </tr>\n",
       "    <tr>\n",
       "      <th>Large fringe metro</th>\n",
       "      <td>127965</td>\n",
       "      <td>0.629158</td>\n",
       "      <td>0.162205</td>\n",
       "      <td>0.153517</td>\n",
       "      <td>0.045279</td>\n",
       "      <td>0.009841</td>\n",
       "    </tr>\n",
       "    <tr>\n",
       "      <th>Medium metro</th>\n",
       "      <td>99183</td>\n",
       "      <td>0.696529</td>\n",
       "      <td>0.130604</td>\n",
       "      <td>0.136558</td>\n",
       "      <td>0.025022</td>\n",
       "      <td>0.011288</td>\n",
       "    </tr>\n",
       "    <tr>\n",
       "      <th>Small metro</th>\n",
       "      <td>6360</td>\n",
       "      <td>0.710745</td>\n",
       "      <td>0.081267</td>\n",
       "      <td>0.169957</td>\n",
       "      <td>0.026856</td>\n",
       "      <td>0.011176</td>\n",
=======
       "  </thead>\n",
       "  <tbody>\n",
       "    <tr>\n",
       "      <th>East</th>\n",
       "      <td>308361</td>\n",
       "      <td>3058381</td>\n",
       "      <td>0.100825</td>\n",
       "      <td>0.604031</td>\n",
       "      <td>0.197201</td>\n",
       "      <td>0.150331</td>\n",
       "      <td>0.038731</td>\n",
       "      <td>0.009706</td>\n",
       "    </tr>\n",
       "    <tr>\n",
       "      <th>West</th>\n",
       "      <td>116605</td>\n",
       "      <td>1308280</td>\n",
       "      <td>0.089128</td>\n",
       "      <td>0.409395</td>\n",
       "      <td>0.068750</td>\n",
       "      <td>0.382217</td>\n",
       "      <td>0.114059</td>\n",
       "      <td>0.025578</td>\n",
       "    </tr>\n",
       "    <tr>\n",
       "      <th>CA</th>\n",
       "      <td>103793</td>\n",
       "      <td>1096827</td>\n",
       "      <td>0.094630</td>\n",
       "      <td>0.365473</td>\n",
       "      <td>0.071580</td>\n",
       "      <td>0.420816</td>\n",
       "      <td>0.119665</td>\n",
       "      <td>0.022466</td>\n",
       "    </tr>\n",
       "    <tr>\n",
       "      <th>CT</th>\n",
       "      <td>11220</td>\n",
       "      <td>112140</td>\n",
       "      <td>0.100054</td>\n",
       "      <td>0.736910</td>\n",
       "      <td>0.130128</td>\n",
       "      <td>0.111873</td>\n",
       "      <td>0.015340</td>\n",
       "      <td>0.005749</td>\n",
       "    </tr>\n",
       "    <tr>\n",
       "      <th>DE</th>\n",
       "      <td>1785</td>\n",
       "      <td>22575</td>\n",
       "      <td>0.079070</td>\n",
       "      <td>0.711000</td>\n",
       "      <td>0.229000</td>\n",
       "      <td>0.047000</td>\n",
       "      <td>0.011000</td>\n",
       "      <td>0.002000</td>\n",
>>>>>>> f7cf30d55162985d7c6703a170c027bd721cebf9
       "    </tr>\n",
       "  </tbody>\n",
       "</table>\n",
       "</div>"
      ],
      "text/plain": [
<<<<<<< HEAD
       "                         COVID-19 Deaths  Non-Hispanic White  \\\n",
       "Urban Rural Description                                        \n",
       "Large central metro               191458            0.417235   \n",
       "Large fringe metro                127965            0.629158   \n",
       "Medium metro                       99183            0.696529   \n",
       "Small metro                         6360            0.710745   \n",
       "\n",
       "                         Non-Hispanic Black  Hispanic  Non-Hispanic Asian  \\\n",
       "Urban Rural Description                                                     \n",
       "Large central metro                0.180711  0.295912            0.087729   \n",
       "Large fringe metro                 0.162205  0.153517            0.045279   \n",
       "Medium metro                       0.130604  0.136558            0.025022   \n",
       "Small metro                        0.081267  0.169957            0.026856   \n",
       "\n",
       "                         Non-White, Non-Black, Non-Hispanic, Non-Asian  \n",
       "Urban Rural Description                                                 \n",
       "Large central metro                                           0.018414  \n",
       "Large fringe metro                                            0.009841  \n",
       "Medium metro                                                  0.011288  \n",
       "Small metro                                                   0.011176  "
      ]
     },
     "metadata": {},
     "output_type": "display_data"
    }
   ],
   "source": [
    "urban_deaths = df.groupby('Urban Rural Description').agg({'COVID-19 Deaths': 'sum'})\n",
=======
       "      COVID-19 Deaths  Total deaths  Portion of Deaths due to COVID  \\\n",
       "East           308361       3058381                        0.100825   \n",
       "West           116605       1308280                        0.089128   \n",
       "CA             103793       1096827                        0.094630   \n",
       "CT              11220        112140                        0.100054   \n",
       "DE               1785         22575                        0.079070   \n",
       "\n",
       "      Non-Hispanic White  Non-Hispanic Black  Hispanic  Non-Hispanic Asian  \\\n",
       "East            0.604031            0.197201  0.150331            0.038731   \n",
       "West            0.409395            0.068750  0.382217            0.114059   \n",
       "CA              0.365473            0.071580  0.420816            0.119665   \n",
       "CT              0.736910            0.130128  0.111873            0.015340   \n",
       "DE              0.711000            0.229000  0.047000            0.011000   \n",
       "\n",
       "      Non-White, Non-Black, Non-Hispanic, Non-Asian  \n",
       "East                                       0.009706  \n",
       "West                                       0.025578  \n",
       "CA                                         0.022466  \n",
       "CT                                         0.005749  \n",
       "DE                                         0.002000  "
      ]
     },
     "execution_count": 35,
     "metadata": {},
     "output_type": "execute_result"
    }
   ],
   "source": [
    "state_deaths = df.groupby('State').agg({'COVID-19 Deaths': 'sum'})\n",
    "state_total_deaths = df.groupby('State').agg({'Total deaths': 'sum'})\n",
    "\n",
    "race_columns = ['Non-Hispanic White', 'Non-Hispanic Black', 'Hispanic', 'Non-Hispanic Asian', 'Non-White, Non-Black, Non-Hispanic, Non-Asian']\n",
    "race_deaths = pd.DataFrame()\n",
    "for col in race_columns:\n",
    "    race_deaths[col] = df[col] * df['COVID-19 Deaths']\n",
    "state_race_deaths = race_deaths.groupby(df['State']).sum()\n",
    "state_race_death_proportions = state_race_deaths.div(state_deaths['COVID-19 Deaths'], axis=0)\n",
    "state_df = pd.concat([state_deaths, state_race_death_proportions], axis=1)\n",
    "\n",
    "state_df.insert(1, 'Total deaths', state_total_deaths['Total deaths'])\n",
    "state_df.insert(2, 'Portion of Deaths due to COVID', state_deaths['COVID-19 Deaths']/state_total_deaths['Total deaths'])\n",
    "\n",
    "\n",
    "\n",
    "coast_deaths = df.groupby('Coast').agg({'COVID-19 Deaths':'sum'})\n",
    "coast_total_deaths = df.groupby('Coast').agg({'Total deaths': 'sum'})\n",
    "race_deaths_coast = pd.DataFrame()\n",
    "for col in race_columns:\n",
    "    race_deaths_coast[col] = df[col] * df['COVID-19 Deaths']\n",
    "coast_race_deaths = race_deaths_coast.groupby(df['Coast']).sum()\n",
    "coast_race_death_proportions = coast_race_deaths.div(coast_deaths['COVID-19 Deaths'], axis=0)\n",
    "coast_df = pd.concat([coast_deaths, coast_race_death_proportions], axis=1)\n",
    "coast_df.insert(1, 'Total deaths', coast_total_deaths['Total deaths'])\n",
    "coast_df.insert(2, 'Portion of Deaths due to COVID', coast_deaths['COVID-19 Deaths']/coast_total_deaths['Total deaths'])\n",
    "\n",
    "\n",
    "location_df = pd.concat([coast_df, state_df], axis=0)\n",
    "\n",
    "coastal_mean = pd.DataFrame(coast_df[race_columns].mean())\n",
    "\n",
    "location_df.head()\n"
   ]
  },
  {
   "cell_type": "markdown",
   "metadata": {},
   "source": [
    "### Section 2 : Shifting from county to urbanization levels of granularity\n",
    "\n",
    "This section helps us look at different counties's central tendency when collated into distinct Urban Rural Descriptions. For it, we need to follow a similar process to the earlier shift in granularity."
   ]
  },
  {
   "cell_type": "code",
   "execution_count": 36,
   "metadata": {},
   "outputs": [
    {
     "data": {
      "text/html": [
       "<div>\n",
       "<style scoped>\n",
       "    .dataframe tbody tr th:only-of-type {\n",
       "        vertical-align: middle;\n",
       "    }\n",
       "\n",
       "    .dataframe tbody tr th {\n",
       "        vertical-align: top;\n",
       "    }\n",
       "\n",
       "    .dataframe thead th {\n",
       "        text-align: right;\n",
       "    }\n",
       "</style>\n",
       "<table border=\"1\" class=\"dataframe\">\n",
       "  <thead>\n",
       "    <tr style=\"text-align: right;\">\n",
       "      <th></th>\n",
       "      <th>COVID-19 Deaths</th>\n",
       "      <th>Total deaths</th>\n",
       "      <th>Portion of Deaths due to COVID</th>\n",
       "      <th>Non-Hispanic White</th>\n",
       "      <th>Non-Hispanic Black</th>\n",
       "      <th>Hispanic</th>\n",
       "      <th>Non-Hispanic Asian</th>\n",
       "      <th>Non-White, Non-Black, Non-Hispanic, Non-Asian</th>\n",
       "    </tr>\n",
       "    <tr>\n",
       "      <th>Urban Rural Description</th>\n",
       "      <th></th>\n",
       "      <th></th>\n",
       "      <th></th>\n",
       "      <th></th>\n",
       "      <th></th>\n",
       "      <th></th>\n",
       "      <th></th>\n",
       "      <th></th>\n",
       "    </tr>\n",
       "  </thead>\n",
       "  <tbody>\n",
       "    <tr>\n",
       "      <th>Large central metro</th>\n",
       "      <td>191458</td>\n",
       "      <td>1898063</td>\n",
       "      <td>0.100870</td>\n",
       "      <td>0.417235</td>\n",
       "      <td>0.180711</td>\n",
       "      <td>0.295912</td>\n",
       "      <td>0.087729</td>\n",
       "      <td>0.018414</td>\n",
       "    </tr>\n",
       "    <tr>\n",
       "      <th>Large fringe metro</th>\n",
       "      <td>127965</td>\n",
       "      <td>1328164</td>\n",
       "      <td>0.096347</td>\n",
       "      <td>0.629158</td>\n",
       "      <td>0.162205</td>\n",
       "      <td>0.153517</td>\n",
       "      <td>0.045279</td>\n",
       "      <td>0.009841</td>\n",
       "    </tr>\n",
       "    <tr>\n",
       "      <th>Medium metro</th>\n",
       "      <td>99183</td>\n",
       "      <td>1078031</td>\n",
       "      <td>0.092004</td>\n",
       "      <td>0.696529</td>\n",
       "      <td>0.130604</td>\n",
       "      <td>0.136558</td>\n",
       "      <td>0.025022</td>\n",
       "      <td>0.011288</td>\n",
       "    </tr>\n",
       "    <tr>\n",
       "      <th>Small metro</th>\n",
       "      <td>6360</td>\n",
       "      <td>62403</td>\n",
       "      <td>0.101918</td>\n",
       "      <td>0.710745</td>\n",
       "      <td>0.081267</td>\n",
       "      <td>0.169957</td>\n",
       "      <td>0.026856</td>\n",
       "      <td>0.011176</td>\n",
       "    </tr>\n",
       "  </tbody>\n",
       "</table>\n",
       "</div>"
      ],
      "text/plain": [
       "                         COVID-19 Deaths  Total deaths  \\\n",
       "Urban Rural Description                                  \n",
       "Large central metro               191458       1898063   \n",
       "Large fringe metro                127965       1328164   \n",
       "Medium metro                       99183       1078031   \n",
       "Small metro                         6360         62403   \n",
       "\n",
       "                         Portion of Deaths due to COVID  Non-Hispanic White  \\\n",
       "Urban Rural Description                                                       \n",
       "Large central metro                            0.100870            0.417235   \n",
       "Large fringe metro                             0.096347            0.629158   \n",
       "Medium metro                                   0.092004            0.696529   \n",
       "Small metro                                    0.101918            0.710745   \n",
       "\n",
       "                         Non-Hispanic Black  Hispanic  Non-Hispanic Asian  \\\n",
       "Urban Rural Description                                                     \n",
       "Large central metro                0.180711  0.295912            0.087729   \n",
       "Large fringe metro                 0.162205  0.153517            0.045279   \n",
       "Medium metro                       0.130604  0.136558            0.025022   \n",
       "Small metro                        0.081267  0.169957            0.026856   \n",
       "\n",
       "                         Non-White, Non-Black, Non-Hispanic, Non-Asian  \n",
       "Urban Rural Description                                                 \n",
       "Large central metro                                           0.018414  \n",
       "Large fringe metro                                            0.009841  \n",
       "Medium metro                                                  0.011288  \n",
       "Small metro                                                   0.011176  "
      ]
     },
     "execution_count": 36,
     "metadata": {},
     "output_type": "execute_result"
    }
   ],
   "source": [
    "urban_deaths = df.groupby('Urban Rural Description').agg({'COVID-19 Deaths': 'sum'})\n",
    "urban_total_deaths = df.groupby('Urban Rural Description').agg({'Total deaths': 'sum'})\n",
    "\n",
>>>>>>> f7cf30d55162985d7c6703a170c027bd721cebf9
    "race_columns = ['Non-Hispanic White', 'Non-Hispanic Black', 'Hispanic', 'Non-Hispanic Asian', 'Non-White, Non-Black, Non-Hispanic, Non-Asian']\n",
    "race_deaths = pd.DataFrame()\n",
    "for col in race_columns:\n",
    "    race_deaths[col] = df[col] * df['COVID-19 Deaths']\n",
    "urban_race_deaths = race_deaths.groupby(df['Urban Rural Description']).sum()\n",
    "urban_death_proportions = urban_race_deaths.div(urban_deaths['COVID-19 Deaths'], axis=0)\n",
    "urban_df = pd.concat([urban_deaths, urban_death_proportions], axis=1)\n",
    "\n",
<<<<<<< HEAD
=======
    "urban_df.insert(1, 'Total deaths', urban_total_deaths['Total deaths'])\n",
    "urban_df.insert(2, 'Portion of Deaths due to COVID', urban_deaths['COVID-19 Deaths']/urban_total_deaths['Total deaths'])\n",
    "\n",
    "\n",
    "\n",
>>>>>>> f7cf30d55162985d7c6703a170c027bd721cebf9
    "urban_mean = pd.DataFrame(urban_df[race_columns].mean())\n",
    "\n",
    "urban_df.head()"
   ]
  },
  {
   "cell_type": "markdown",
   "metadata": {},
   "source": [
<<<<<<< HEAD
    "Upon running some basic operations on our cleaned dataset, we now have a clearer picture of it. Through the operations, we were able to collate county-wide data into state and then eventually coast-based data on how differing racial backgrounds contribute to COVID-19 Deaths. \n",
    "\n",
    "| Location                | COVID-19 Deaths | Non-Hispanic White | Non-Hispanic Black | Hispanic | Non-Hispanic Asian | Non-White, Non-Black, Non-Hispanic, Non-Asian |\n",
    "| ----------------------- | --------------- | ------------------ | ------------------ | -------- | ------------------ | --------------------------------------------- |\n",
    "| East Coast              | 308361          | 0.604031           | 0.197201           | 0.150331 | 0.038731           | 0.009706                                      |\n",
    "| PA                      | 32841           | 0.76695            | 0.155161           | 0.050191 | 0.023392           | 0.004307                                      |\n",
    "| RI                      | 3090            | 0.825              | 0.048              | 0.098    | 0.021              | 0.008                                         |\n",
    "| SC                      | 9118            | 0.683834           | 0.2721             | 0.030526 | 0.008786           | 0.004755                                      |\n",
    "| VA                      | 8754            | 0.560425           | 0.269564           | 0.093352 | 0.065306           | 0.011353                                      |\n",
    "| CT                      | 11220           | 0.73691            | 0.130128           | 0.111873 | 0.01534            | 0.005749                                      |\n",
    "| DE                      | 1785            | 0.711              | 0.229              | 0.047    | 0.011              | 0.002                                         |\n",
    "| FL                      | 71835           | 0.579327           | 0.163834           | 0.235863 | 0.015229           | 0.005747                                      |\n",
    "| GA                      | 17831           | 0.524462           | 0.37907            | 0.064399 | 0.027953           | 0.004117                                      |\n",
    "| MA                      | 18331           | 0.797811           | 0.069738           | 0.081987 | 0.03539            | 0.015074                                      |\n",
    "| MD                      | 13712           | 0.467536           | 0.404675           | 0.079256 | 0.043006           | 0.005526                                      |\n",
    "| NC                      | 14094           | 0.67063            | 0.246959           | 0.055425 | 0.017636           | 0.00935                                       |\n",
    "| NH                      | 1120            | 0.929              | 0.018              | 0.037    | 0.012              | 0.004                                         |\n",
    "| NJ                      | 33862           | 0.596163           | 0.163926           | 0.180358 | 0.055443           | 0.00411                                       |\n",
    "| NY                      | 70768           | 0.49686            | 0.204164           | 0.202909 | 0.07484            | 0.021227                                      |\n",
    "| West Coast              | 116605          | 0.409395           | 0.06875            | 0.382217 | 0.114059           | 0.025578                                      |\n",
    "| CA                      | 103793          | 0.365473           | 0.07158            | 0.420816 | 0.119665           | 0.022466                                      |\n",
    "| OR                      | 2922            | 0.76077            | 0.044697           | 0.105151 | 0.053705           | 0.035676                                      |\n",
    "| WA                      | 9890            | 0.766532           | 0.046158           | 0.058991 | 0.073065           | 0.055254                                      |\n",
    "|                         |                 |                    |                    |          |                    |                                               |\n",
    "| Urban Rural Description | COVID-19 Deaths | Non-Hispanic White | Non-Hispanic Black | Hispanic | Non-Hispanic Asian | Non-White, Non-Black, Non-Hispanic, Non-Asian |\n",
    "| Large central metro     | 191458          | 0.417235           | 0.180711           | 0.295912 | 0.087729           | 0.018414                                      |\n",
    "| Large fringe metro      | 127965          | 0.629158           | 0.162205           | 0.153517 | 0.045279           | 0.009841                                      |\n",
    "| Medium metro            | 99183           | 0.696529           | 0.130604           | 0.136558 | 0.025022           | 0.011288                                      |\n",
    "| Small metro             | 6360            | 0.710745           | 0.081267           | 0.169957 | 0.026856           | 0.011176                                      |"
=======
    "Upon running some basic operations on our cleaned dataset, we now have a clearer picture of it. Through the operations, we were able to collate county-wide data into state and then eventually coast-based data on how differing racial backgrounds contribute to COVID-19 Deaths. \n"
   ]
  },
  {
   "cell_type": "code",
   "execution_count": 37,
   "metadata": {},
   "outputs": [
    {
     "data": {
      "text/html": [
       "<div>\n",
       "<style scoped>\n",
       "    .dataframe tbody tr th:only-of-type {\n",
       "        vertical-align: middle;\n",
       "    }\n",
       "\n",
       "    .dataframe tbody tr th {\n",
       "        vertical-align: top;\n",
       "    }\n",
       "\n",
       "    .dataframe thead th {\n",
       "        text-align: right;\n",
       "    }\n",
       "</style>\n",
       "<table border=\"1\" class=\"dataframe\">\n",
       "  <thead>\n",
       "    <tr style=\"text-align: right;\">\n",
       "      <th></th>\n",
       "      <th>COVID-19 Deaths</th>\n",
       "      <th>Total deaths</th>\n",
       "      <th>Portion of Deaths due to COVID</th>\n",
       "      <th>Non-Hispanic White</th>\n",
       "      <th>Non-Hispanic Black</th>\n",
       "      <th>Hispanic</th>\n",
       "      <th>Non-Hispanic Asian</th>\n",
       "      <th>Non-White, Non-Black, Non-Hispanic, Non-Asian</th>\n",
       "    </tr>\n",
       "  </thead>\n",
       "  <tbody>\n",
       "    <tr>\n",
       "      <th>East</th>\n",
       "      <td>308361</td>\n",
       "      <td>3058381</td>\n",
       "      <td>0.100825</td>\n",
       "      <td>0.604031</td>\n",
       "      <td>0.197201</td>\n",
       "      <td>0.150331</td>\n",
       "      <td>0.038731</td>\n",
       "      <td>0.009706</td>\n",
       "    </tr>\n",
       "    <tr>\n",
       "      <th>West</th>\n",
       "      <td>116605</td>\n",
       "      <td>1308280</td>\n",
       "      <td>0.089128</td>\n",
       "      <td>0.409395</td>\n",
       "      <td>0.068750</td>\n",
       "      <td>0.382217</td>\n",
       "      <td>0.114059</td>\n",
       "      <td>0.025578</td>\n",
       "    </tr>\n",
       "    <tr>\n",
       "      <th>CA</th>\n",
       "      <td>103793</td>\n",
       "      <td>1096827</td>\n",
       "      <td>0.094630</td>\n",
       "      <td>0.365473</td>\n",
       "      <td>0.071580</td>\n",
       "      <td>0.420816</td>\n",
       "      <td>0.119665</td>\n",
       "      <td>0.022466</td>\n",
       "    </tr>\n",
       "    <tr>\n",
       "      <th>CT</th>\n",
       "      <td>11220</td>\n",
       "      <td>112140</td>\n",
       "      <td>0.100054</td>\n",
       "      <td>0.736910</td>\n",
       "      <td>0.130128</td>\n",
       "      <td>0.111873</td>\n",
       "      <td>0.015340</td>\n",
       "      <td>0.005749</td>\n",
       "    </tr>\n",
       "    <tr>\n",
       "      <th>DE</th>\n",
       "      <td>1785</td>\n",
       "      <td>22575</td>\n",
       "      <td>0.079070</td>\n",
       "      <td>0.711000</td>\n",
       "      <td>0.229000</td>\n",
       "      <td>0.047000</td>\n",
       "      <td>0.011000</td>\n",
       "      <td>0.002000</td>\n",
       "    </tr>\n",
       "    <tr>\n",
       "      <th>FL</th>\n",
       "      <td>71835</td>\n",
       "      <td>788709</td>\n",
       "      <td>0.091079</td>\n",
       "      <td>0.579327</td>\n",
       "      <td>0.163834</td>\n",
       "      <td>0.235863</td>\n",
       "      <td>0.015229</td>\n",
       "      <td>0.005747</td>\n",
       "    </tr>\n",
       "    <tr>\n",
       "      <th>GA</th>\n",
       "      <td>17831</td>\n",
       "      <td>187722</td>\n",
       "      <td>0.094986</td>\n",
       "      <td>0.524462</td>\n",
       "      <td>0.379070</td>\n",
       "      <td>0.064399</td>\n",
       "      <td>0.027953</td>\n",
       "      <td>0.004117</td>\n",
       "    </tr>\n",
       "    <tr>\n",
       "      <th>MA</th>\n",
       "      <td>18331</td>\n",
       "      <td>197817</td>\n",
       "      <td>0.092666</td>\n",
       "      <td>0.797811</td>\n",
       "      <td>0.069738</td>\n",
       "      <td>0.081987</td>\n",
       "      <td>0.035390</td>\n",
       "      <td>0.015074</td>\n",
       "    </tr>\n",
       "    <tr>\n",
       "      <th>MD</th>\n",
       "      <td>13712</td>\n",
       "      <td>154126</td>\n",
       "      <td>0.088966</td>\n",
       "      <td>0.467536</td>\n",
       "      <td>0.404675</td>\n",
       "      <td>0.079256</td>\n",
       "      <td>0.043006</td>\n",
       "      <td>0.005526</td>\n",
       "    </tr>\n",
       "    <tr>\n",
       "      <th>NC</th>\n",
       "      <td>14094</td>\n",
       "      <td>166180</td>\n",
       "      <td>0.084812</td>\n",
       "      <td>0.670630</td>\n",
       "      <td>0.246959</td>\n",
       "      <td>0.055425</td>\n",
       "      <td>0.017636</td>\n",
       "      <td>0.009350</td>\n",
       "    </tr>\n",
       "    <tr>\n",
       "      <th>NH</th>\n",
       "      <td>1120</td>\n",
       "      <td>14555</td>\n",
       "      <td>0.076950</td>\n",
       "      <td>0.929000</td>\n",
       "      <td>0.018000</td>\n",
       "      <td>0.037000</td>\n",
       "      <td>0.012000</td>\n",
       "      <td>0.004000</td>\n",
       "    </tr>\n",
       "    <tr>\n",
       "      <th>NJ</th>\n",
       "      <td>33862</td>\n",
       "      <td>291394</td>\n",
       "      <td>0.116207</td>\n",
       "      <td>0.596163</td>\n",
       "      <td>0.163926</td>\n",
       "      <td>0.180358</td>\n",
       "      <td>0.055443</td>\n",
       "      <td>0.004110</td>\n",
       "    </tr>\n",
       "    <tr>\n",
       "      <th>NY</th>\n",
       "      <td>70768</td>\n",
       "      <td>535486</td>\n",
       "      <td>0.132157</td>\n",
       "      <td>0.496860</td>\n",
       "      <td>0.204164</td>\n",
       "      <td>0.202909</td>\n",
       "      <td>0.074840</td>\n",
       "      <td>0.021227</td>\n",
       "    </tr>\n",
       "    <tr>\n",
       "      <th>OR</th>\n",
       "      <td>2922</td>\n",
       "      <td>45400</td>\n",
       "      <td>0.064361</td>\n",
       "      <td>0.760770</td>\n",
       "      <td>0.044697</td>\n",
       "      <td>0.105151</td>\n",
       "      <td>0.053705</td>\n",
       "      <td>0.035676</td>\n",
       "    </tr>\n",
       "    <tr>\n",
       "      <th>PA</th>\n",
       "      <td>32841</td>\n",
       "      <td>352451</td>\n",
       "      <td>0.093179</td>\n",
       "      <td>0.766950</td>\n",
       "      <td>0.155161</td>\n",
       "      <td>0.050191</td>\n",
       "      <td>0.023392</td>\n",
       "      <td>0.004307</td>\n",
       "    </tr>\n",
       "    <tr>\n",
       "      <th>RI</th>\n",
       "      <td>3090</td>\n",
       "      <td>27867</td>\n",
       "      <td>0.110884</td>\n",
       "      <td>0.825000</td>\n",
       "      <td>0.048000</td>\n",
       "      <td>0.098000</td>\n",
       "      <td>0.021000</td>\n",
       "      <td>0.008000</td>\n",
       "    </tr>\n",
       "    <tr>\n",
       "      <th>SC</th>\n",
       "      <td>9118</td>\n",
       "      <td>90028</td>\n",
       "      <td>0.101280</td>\n",
       "      <td>0.683834</td>\n",
       "      <td>0.272100</td>\n",
       "      <td>0.030526</td>\n",
       "      <td>0.008786</td>\n",
       "      <td>0.004755</td>\n",
       "    </tr>\n",
       "    <tr>\n",
       "      <th>VA</th>\n",
       "      <td>8754</td>\n",
       "      <td>117331</td>\n",
       "      <td>0.074609</td>\n",
       "      <td>0.560425</td>\n",
       "      <td>0.269564</td>\n",
       "      <td>0.093352</td>\n",
       "      <td>0.065306</td>\n",
       "      <td>0.011353</td>\n",
       "    </tr>\n",
       "    <tr>\n",
       "      <th>WA</th>\n",
       "      <td>9890</td>\n",
       "      <td>166053</td>\n",
       "      <td>0.059559</td>\n",
       "      <td>0.766532</td>\n",
       "      <td>0.046158</td>\n",
       "      <td>0.058991</td>\n",
       "      <td>0.073065</td>\n",
       "      <td>0.055254</td>\n",
       "    </tr>\n",
       "  </tbody>\n",
       "</table>\n",
       "</div>"
      ],
      "text/plain": [
       "      COVID-19 Deaths  Total deaths  Portion of Deaths due to COVID  \\\n",
       "East           308361       3058381                        0.100825   \n",
       "West           116605       1308280                        0.089128   \n",
       "CA             103793       1096827                        0.094630   \n",
       "CT              11220        112140                        0.100054   \n",
       "DE               1785         22575                        0.079070   \n",
       "FL              71835        788709                        0.091079   \n",
       "GA              17831        187722                        0.094986   \n",
       "MA              18331        197817                        0.092666   \n",
       "MD              13712        154126                        0.088966   \n",
       "NC              14094        166180                        0.084812   \n",
       "NH               1120         14555                        0.076950   \n",
       "NJ              33862        291394                        0.116207   \n",
       "NY              70768        535486                        0.132157   \n",
       "OR               2922         45400                        0.064361   \n",
       "PA              32841        352451                        0.093179   \n",
       "RI               3090         27867                        0.110884   \n",
       "SC               9118         90028                        0.101280   \n",
       "VA               8754        117331                        0.074609   \n",
       "WA               9890        166053                        0.059559   \n",
       "\n",
       "      Non-Hispanic White  Non-Hispanic Black  Hispanic  Non-Hispanic Asian  \\\n",
       "East            0.604031            0.197201  0.150331            0.038731   \n",
       "West            0.409395            0.068750  0.382217            0.114059   \n",
       "CA              0.365473            0.071580  0.420816            0.119665   \n",
       "CT              0.736910            0.130128  0.111873            0.015340   \n",
       "DE              0.711000            0.229000  0.047000            0.011000   \n",
       "FL              0.579327            0.163834  0.235863            0.015229   \n",
       "GA              0.524462            0.379070  0.064399            0.027953   \n",
       "MA              0.797811            0.069738  0.081987            0.035390   \n",
       "MD              0.467536            0.404675  0.079256            0.043006   \n",
       "NC              0.670630            0.246959  0.055425            0.017636   \n",
       "NH              0.929000            0.018000  0.037000            0.012000   \n",
       "NJ              0.596163            0.163926  0.180358            0.055443   \n",
       "NY              0.496860            0.204164  0.202909            0.074840   \n",
       "OR              0.760770            0.044697  0.105151            0.053705   \n",
       "PA              0.766950            0.155161  0.050191            0.023392   \n",
       "RI              0.825000            0.048000  0.098000            0.021000   \n",
       "SC              0.683834            0.272100  0.030526            0.008786   \n",
       "VA              0.560425            0.269564  0.093352            0.065306   \n",
       "WA              0.766532            0.046158  0.058991            0.073065   \n",
       "\n",
       "      Non-White, Non-Black, Non-Hispanic, Non-Asian  \n",
       "East                                       0.009706  \n",
       "West                                       0.025578  \n",
       "CA                                         0.022466  \n",
       "CT                                         0.005749  \n",
       "DE                                         0.002000  \n",
       "FL                                         0.005747  \n",
       "GA                                         0.004117  \n",
       "MA                                         0.015074  \n",
       "MD                                         0.005526  \n",
       "NC                                         0.009350  \n",
       "NH                                         0.004000  \n",
       "NJ                                         0.004110  \n",
       "NY                                         0.021227  \n",
       "OR                                         0.035676  \n",
       "PA                                         0.004307  \n",
       "RI                                         0.008000  \n",
       "SC                                         0.004755  \n",
       "VA                                         0.011353  \n",
       "WA                                         0.055254  "
      ]
     },
     "metadata": {},
     "output_type": "display_data"
    },
    {
     "data": {
      "text/html": [
       "<div>\n",
       "<style scoped>\n",
       "    .dataframe tbody tr th:only-of-type {\n",
       "        vertical-align: middle;\n",
       "    }\n",
       "\n",
       "    .dataframe tbody tr th {\n",
       "        vertical-align: top;\n",
       "    }\n",
       "\n",
       "    .dataframe thead th {\n",
       "        text-align: right;\n",
       "    }\n",
       "</style>\n",
       "<table border=\"1\" class=\"dataframe\">\n",
       "  <thead>\n",
       "    <tr style=\"text-align: right;\">\n",
       "      <th></th>\n",
       "      <th>COVID-19 Deaths</th>\n",
       "      <th>Total deaths</th>\n",
       "      <th>Portion of Deaths due to COVID</th>\n",
       "      <th>Non-Hispanic White</th>\n",
       "      <th>Non-Hispanic Black</th>\n",
       "      <th>Hispanic</th>\n",
       "      <th>Non-Hispanic Asian</th>\n",
       "      <th>Non-White, Non-Black, Non-Hispanic, Non-Asian</th>\n",
       "    </tr>\n",
       "    <tr>\n",
       "      <th>Urban Rural Description</th>\n",
       "      <th></th>\n",
       "      <th></th>\n",
       "      <th></th>\n",
       "      <th></th>\n",
       "      <th></th>\n",
       "      <th></th>\n",
       "      <th></th>\n",
       "      <th></th>\n",
       "    </tr>\n",
       "  </thead>\n",
       "  <tbody>\n",
       "    <tr>\n",
       "      <th>Large central metro</th>\n",
       "      <td>191458</td>\n",
       "      <td>1898063</td>\n",
       "      <td>0.100870</td>\n",
       "      <td>0.417235</td>\n",
       "      <td>0.180711</td>\n",
       "      <td>0.295912</td>\n",
       "      <td>0.087729</td>\n",
       "      <td>0.018414</td>\n",
       "    </tr>\n",
       "    <tr>\n",
       "      <th>Large fringe metro</th>\n",
       "      <td>127965</td>\n",
       "      <td>1328164</td>\n",
       "      <td>0.096347</td>\n",
       "      <td>0.629158</td>\n",
       "      <td>0.162205</td>\n",
       "      <td>0.153517</td>\n",
       "      <td>0.045279</td>\n",
       "      <td>0.009841</td>\n",
       "    </tr>\n",
       "    <tr>\n",
       "      <th>Medium metro</th>\n",
       "      <td>99183</td>\n",
       "      <td>1078031</td>\n",
       "      <td>0.092004</td>\n",
       "      <td>0.696529</td>\n",
       "      <td>0.130604</td>\n",
       "      <td>0.136558</td>\n",
       "      <td>0.025022</td>\n",
       "      <td>0.011288</td>\n",
       "    </tr>\n",
       "    <tr>\n",
       "      <th>Small metro</th>\n",
       "      <td>6360</td>\n",
       "      <td>62403</td>\n",
       "      <td>0.101918</td>\n",
       "      <td>0.710745</td>\n",
       "      <td>0.081267</td>\n",
       "      <td>0.169957</td>\n",
       "      <td>0.026856</td>\n",
       "      <td>0.011176</td>\n",
       "    </tr>\n",
       "  </tbody>\n",
       "</table>\n",
       "</div>"
      ],
      "text/plain": [
       "                         COVID-19 Deaths  Total deaths  \\\n",
       "Urban Rural Description                                  \n",
       "Large central metro               191458       1898063   \n",
       "Large fringe metro                127965       1328164   \n",
       "Medium metro                       99183       1078031   \n",
       "Small metro                         6360         62403   \n",
       "\n",
       "                         Portion of Deaths due to COVID  Non-Hispanic White  \\\n",
       "Urban Rural Description                                                       \n",
       "Large central metro                            0.100870            0.417235   \n",
       "Large fringe metro                             0.096347            0.629158   \n",
       "Medium metro                                   0.092004            0.696529   \n",
       "Small metro                                    0.101918            0.710745   \n",
       "\n",
       "                         Non-Hispanic Black  Hispanic  Non-Hispanic Asian  \\\n",
       "Urban Rural Description                                                     \n",
       "Large central metro                0.180711  0.295912            0.087729   \n",
       "Large fringe metro                 0.162205  0.153517            0.045279   \n",
       "Medium metro                       0.130604  0.136558            0.025022   \n",
       "Small metro                        0.081267  0.169957            0.026856   \n",
       "\n",
       "                         Non-White, Non-Black, Non-Hispanic, Non-Asian  \n",
       "Urban Rural Description                                                 \n",
       "Large central metro                                           0.018414  \n",
       "Large fringe metro                                            0.009841  \n",
       "Medium metro                                                  0.011288  \n",
       "Small metro                                                   0.011176  "
      ]
     },
     "metadata": {},
     "output_type": "display_data"
    }
   ],
   "source": [
    "display(location_df)\n",
    "display(urban_df)"
>>>>>>> f7cf30d55162985d7c6703a170c027bd721cebf9
   ]
  },
  {
   "cell_type": "markdown",
   "metadata": {},
   "source": [
    "##### Size\n",
    "There have been 170 observations (rows) and 10 columns as established earlier upon the cleaning of our data. Then, all of that data is collated together to give us differing levels of granularity.\n",
    "#### Missingness\n",
    "No observations were missing, since it was ensured that through the cleaning process, there must remain a consistent number of observations across different racial backgrounds. This is reflected by the mathematicaaly sound proportion calculations made, that do not reflect NaN for any division by 0.\n",
    "#### Shape\n",
    "We will be exploring distributions for this data in the following section.\n",
    "#### Central Tendency and Variability\n",
    "By cumulating all county-based proportions into coast-based and urbanization-based proportions, the proportion values calculated were a fair indication of the central tendencies of the data. As for our cleaned dataset, we will explore central tendencies and variabilities through the following discussion on distributions. "
   ]
  },
  {
   "cell_type": "markdown",
   "metadata": {},
   "source": [
    "### Exploring Relationships between variables and COVID-19 Mortality Rates\n",
    "\n",
    "In this section we will be looking at the correlations between our variables and the COVID-19 mortality rates."
   ]
  },
  {
<<<<<<< HEAD
=======
   "cell_type": "markdown",
   "metadata": {},
   "source": [
    "### Total COVID Deaths vs Coast"
   ]
  },
  {
>>>>>>> f7cf30d55162985d7c6703a170c027bd721cebf9
   "cell_type": "code",
   "execution_count": 38,
   "metadata": {},
   "outputs": [
    {
<<<<<<< HEAD
     "name": "stderr",
     "output_type": "stream",
     "text": [
      "/tmp/ipykernel_3042/854540682.py:4: FutureWarning: \n",
      "\n",
      "Passing `palette` without assigning `hue` is deprecated and will be removed in v0.14.0. Assign the `x` variable to `hue` and set `legend=False` for the same effect.\n",
      "\n",
      "  boxplot = sns.boxplot(data = df, y = 'COVID-19 Deaths', x = 'Coast', palette = ['r', 'g'])\n"
=======
     "data": {
      "application/vnd.plotly.v1+json": {
       "config": {
        "plotlyServerURL": "https://plot.ly"
       },
       "data": [
        {
         "geo": "geo",
         "hovertemplate": "<b>%{hovertext}</b><br><br>Portion of Deaths due to COVID=%{marker.color}<br>State=%{location}<extra></extra>",
         "hovertext": [
          "CA",
          "CT",
          "DE",
          "FL",
          "GA",
          "MA",
          "MD",
          "NC",
          "NH",
          "NJ",
          "NY",
          "OR",
          "PA",
          "RI",
          "SC",
          "VA",
          "WA"
         ],
         "legendgroup": "",
         "locationmode": "USA-states",
         "locations": [
          "CA",
          "CT",
          "DE",
          "FL",
          "GA",
          "MA",
          "MD",
          "NC",
          "NH",
          "NJ",
          "NY",
          "OR",
          "PA",
          "RI",
          "SC",
          "VA",
          "WA"
         ],
         "marker": {
          "color": [
           2.419650201207198,
           0.38614458535363183,
           0.07906976744186046,
           2.318434429584363,
           1.2811831207313256,
           0.645717294404181,
           0.6976032111441709,
           0.7688647021104055,
           0.0769495018893851,
           1.8132088929763888,
           1.9842786156685377,
           0.12724883628130074,
           1.45074380405454,
           0.11088384110237916,
           0.5020137019501795,
           0.9783939690555743,
           0.36356543766090177
          ],
          "coloraxis": "coloraxis",
          "line": {
           "color": "rgb(0,0,0)",
           "width": 2
          },
          "size": [
           2.419650201207198,
           0.38614458535363183,
           0.07906976744186046,
           2.318434429584363,
           1.2811831207313256,
           0.645717294404181,
           0.6976032111441709,
           0.7688647021104055,
           0.0769495018893851,
           1.8132088929763888,
           1.9842786156685377,
           0.12724883628130074,
           1.45074380405454,
           0.11088384110237916,
           0.5020137019501795,
           0.9783939690555743,
           0.36356543766090177
          ],
          "sizemode": "area",
          "sizeref": 0.006049125503017994,
          "symbol": "circle"
         },
         "mode": "markers",
         "name": "",
         "showlegend": false,
         "type": "scattergeo"
        }
       ],
       "layout": {
        "coloraxis": {
         "colorbar": {
          "title": {
           "side": "right",
           "text": "Portion of Deaths due to COVID"
          }
         },
         "colorscale": [
          [
           0,
           "#fcfdbf"
          ],
          [
           0.1111111111111111,
           "#feca8d"
          ],
          [
           0.2222222222222222,
           "#fd9668"
          ],
          [
           0.3333333333333333,
           "#f1605d"
          ],
          [
           0.4444444444444444,
           "#cd4071"
          ],
          [
           0.5555555555555556,
           "#9e2f7f"
          ],
          [
           0.6666666666666666,
           "#721f81"
          ],
          [
           0.7777777777777778,
           "#440f76"
          ],
          [
           0.8888888888888888,
           "#180f3d"
          ],
          [
           1,
           "#000004"
          ]
         ]
        },
        "geo": {
         "center": {},
         "countrycolor": "gray",
         "domain": {
          "x": [
           0,
           1
          ],
          "y": [
           0,
           1
          ]
         },
         "fitbounds": "locations",
         "landcolor": "rgb(217, 217, 217)",
         "projection": {
          "type": "albers usa"
         },
         "showcountries": true,
         "showland": true,
         "showsubunits": true,
         "subunitcolor": "gray",
         "visible": false
        },
        "height": 600,
        "legend": {
         "itemsizing": "constant",
         "tracegroupgap": 0
        },
        "template": {
         "data": {
          "bar": [
           {
            "error_x": {
             "color": "#2a3f5f"
            },
            "error_y": {
             "color": "#2a3f5f"
            },
            "marker": {
             "line": {
              "color": "#E5ECF6",
              "width": 0.5
             },
             "pattern": {
              "fillmode": "overlay",
              "size": 10,
              "solidity": 0.2
             }
            },
            "type": "bar"
           }
          ],
          "barpolar": [
           {
            "marker": {
             "line": {
              "color": "#E5ECF6",
              "width": 0.5
             },
             "pattern": {
              "fillmode": "overlay",
              "size": 10,
              "solidity": 0.2
             }
            },
            "type": "barpolar"
           }
          ],
          "carpet": [
           {
            "aaxis": {
             "endlinecolor": "#2a3f5f",
             "gridcolor": "white",
             "linecolor": "white",
             "minorgridcolor": "white",
             "startlinecolor": "#2a3f5f"
            },
            "baxis": {
             "endlinecolor": "#2a3f5f",
             "gridcolor": "white",
             "linecolor": "white",
             "minorgridcolor": "white",
             "startlinecolor": "#2a3f5f"
            },
            "type": "carpet"
           }
          ],
          "choropleth": [
           {
            "colorbar": {
             "outlinewidth": 0,
             "ticks": ""
            },
            "type": "choropleth"
           }
          ],
          "contour": [
           {
            "colorbar": {
             "outlinewidth": 0,
             "ticks": ""
            },
            "colorscale": [
             [
              0,
              "#0d0887"
             ],
             [
              0.1111111111111111,
              "#46039f"
             ],
             [
              0.2222222222222222,
              "#7201a8"
             ],
             [
              0.3333333333333333,
              "#9c179e"
             ],
             [
              0.4444444444444444,
              "#bd3786"
             ],
             [
              0.5555555555555556,
              "#d8576b"
             ],
             [
              0.6666666666666666,
              "#ed7953"
             ],
             [
              0.7777777777777778,
              "#fb9f3a"
             ],
             [
              0.8888888888888888,
              "#fdca26"
             ],
             [
              1,
              "#f0f921"
             ]
            ],
            "type": "contour"
           }
          ],
          "contourcarpet": [
           {
            "colorbar": {
             "outlinewidth": 0,
             "ticks": ""
            },
            "type": "contourcarpet"
           }
          ],
          "heatmap": [
           {
            "colorbar": {
             "outlinewidth": 0,
             "ticks": ""
            },
            "colorscale": [
             [
              0,
              "#0d0887"
             ],
             [
              0.1111111111111111,
              "#46039f"
             ],
             [
              0.2222222222222222,
              "#7201a8"
             ],
             [
              0.3333333333333333,
              "#9c179e"
             ],
             [
              0.4444444444444444,
              "#bd3786"
             ],
             [
              0.5555555555555556,
              "#d8576b"
             ],
             [
              0.6666666666666666,
              "#ed7953"
             ],
             [
              0.7777777777777778,
              "#fb9f3a"
             ],
             [
              0.8888888888888888,
              "#fdca26"
             ],
             [
              1,
              "#f0f921"
             ]
            ],
            "type": "heatmap"
           }
          ],
          "heatmapgl": [
           {
            "colorbar": {
             "outlinewidth": 0,
             "ticks": ""
            },
            "colorscale": [
             [
              0,
              "#0d0887"
             ],
             [
              0.1111111111111111,
              "#46039f"
             ],
             [
              0.2222222222222222,
              "#7201a8"
             ],
             [
              0.3333333333333333,
              "#9c179e"
             ],
             [
              0.4444444444444444,
              "#bd3786"
             ],
             [
              0.5555555555555556,
              "#d8576b"
             ],
             [
              0.6666666666666666,
              "#ed7953"
             ],
             [
              0.7777777777777778,
              "#fb9f3a"
             ],
             [
              0.8888888888888888,
              "#fdca26"
             ],
             [
              1,
              "#f0f921"
             ]
            ],
            "type": "heatmapgl"
           }
          ],
          "histogram": [
           {
            "marker": {
             "pattern": {
              "fillmode": "overlay",
              "size": 10,
              "solidity": 0.2
             }
            },
            "type": "histogram"
           }
          ],
          "histogram2d": [
           {
            "colorbar": {
             "outlinewidth": 0,
             "ticks": ""
            },
            "colorscale": [
             [
              0,
              "#0d0887"
             ],
             [
              0.1111111111111111,
              "#46039f"
             ],
             [
              0.2222222222222222,
              "#7201a8"
             ],
             [
              0.3333333333333333,
              "#9c179e"
             ],
             [
              0.4444444444444444,
              "#bd3786"
             ],
             [
              0.5555555555555556,
              "#d8576b"
             ],
             [
              0.6666666666666666,
              "#ed7953"
             ],
             [
              0.7777777777777778,
              "#fb9f3a"
             ],
             [
              0.8888888888888888,
              "#fdca26"
             ],
             [
              1,
              "#f0f921"
             ]
            ],
            "type": "histogram2d"
           }
          ],
          "histogram2dcontour": [
           {
            "colorbar": {
             "outlinewidth": 0,
             "ticks": ""
            },
            "colorscale": [
             [
              0,
              "#0d0887"
             ],
             [
              0.1111111111111111,
              "#46039f"
             ],
             [
              0.2222222222222222,
              "#7201a8"
             ],
             [
              0.3333333333333333,
              "#9c179e"
             ],
             [
              0.4444444444444444,
              "#bd3786"
             ],
             [
              0.5555555555555556,
              "#d8576b"
             ],
             [
              0.6666666666666666,
              "#ed7953"
             ],
             [
              0.7777777777777778,
              "#fb9f3a"
             ],
             [
              0.8888888888888888,
              "#fdca26"
             ],
             [
              1,
              "#f0f921"
             ]
            ],
            "type": "histogram2dcontour"
           }
          ],
          "mesh3d": [
           {
            "colorbar": {
             "outlinewidth": 0,
             "ticks": ""
            },
            "type": "mesh3d"
           }
          ],
          "parcoords": [
           {
            "line": {
             "colorbar": {
              "outlinewidth": 0,
              "ticks": ""
             }
            },
            "type": "parcoords"
           }
          ],
          "pie": [
           {
            "automargin": true,
            "type": "pie"
           }
          ],
          "scatter": [
           {
            "fillpattern": {
             "fillmode": "overlay",
             "size": 10,
             "solidity": 0.2
            },
            "type": "scatter"
           }
          ],
          "scatter3d": [
           {
            "line": {
             "colorbar": {
              "outlinewidth": 0,
              "ticks": ""
             }
            },
            "marker": {
             "colorbar": {
              "outlinewidth": 0,
              "ticks": ""
             }
            },
            "type": "scatter3d"
           }
          ],
          "scattercarpet": [
           {
            "marker": {
             "colorbar": {
              "outlinewidth": 0,
              "ticks": ""
             }
            },
            "type": "scattercarpet"
           }
          ],
          "scattergeo": [
           {
            "marker": {
             "colorbar": {
              "outlinewidth": 0,
              "ticks": ""
             }
            },
            "type": "scattergeo"
           }
          ],
          "scattergl": [
           {
            "marker": {
             "colorbar": {
              "outlinewidth": 0,
              "ticks": ""
             }
            },
            "type": "scattergl"
           }
          ],
          "scattermapbox": [
           {
            "marker": {
             "colorbar": {
              "outlinewidth": 0,
              "ticks": ""
             }
            },
            "type": "scattermapbox"
           }
          ],
          "scatterpolar": [
           {
            "marker": {
             "colorbar": {
              "outlinewidth": 0,
              "ticks": ""
             }
            },
            "type": "scatterpolar"
           }
          ],
          "scatterpolargl": [
           {
            "marker": {
             "colorbar": {
              "outlinewidth": 0,
              "ticks": ""
             }
            },
            "type": "scatterpolargl"
           }
          ],
          "scatterternary": [
           {
            "marker": {
             "colorbar": {
              "outlinewidth": 0,
              "ticks": ""
             }
            },
            "type": "scatterternary"
           }
          ],
          "surface": [
           {
            "colorbar": {
             "outlinewidth": 0,
             "ticks": ""
            },
            "colorscale": [
             [
              0,
              "#0d0887"
             ],
             [
              0.1111111111111111,
              "#46039f"
             ],
             [
              0.2222222222222222,
              "#7201a8"
             ],
             [
              0.3333333333333333,
              "#9c179e"
             ],
             [
              0.4444444444444444,
              "#bd3786"
             ],
             [
              0.5555555555555556,
              "#d8576b"
             ],
             [
              0.6666666666666666,
              "#ed7953"
             ],
             [
              0.7777777777777778,
              "#fb9f3a"
             ],
             [
              0.8888888888888888,
              "#fdca26"
             ],
             [
              1,
              "#f0f921"
             ]
            ],
            "type": "surface"
           }
          ],
          "table": [
           {
            "cells": {
             "fill": {
              "color": "#EBF0F8"
             },
             "line": {
              "color": "white"
             }
            },
            "header": {
             "fill": {
              "color": "#C8D4E3"
             },
             "line": {
              "color": "white"
             }
            },
            "type": "table"
           }
          ]
         },
         "layout": {
          "annotationdefaults": {
           "arrowcolor": "#2a3f5f",
           "arrowhead": 0,
           "arrowwidth": 1
          },
          "autotypenumbers": "strict",
          "coloraxis": {
           "colorbar": {
            "outlinewidth": 0,
            "ticks": ""
           }
          },
          "colorscale": {
           "diverging": [
            [
             0,
             "#8e0152"
            ],
            [
             0.1,
             "#c51b7d"
            ],
            [
             0.2,
             "#de77ae"
            ],
            [
             0.3,
             "#f1b6da"
            ],
            [
             0.4,
             "#fde0ef"
            ],
            [
             0.5,
             "#f7f7f7"
            ],
            [
             0.6,
             "#e6f5d0"
            ],
            [
             0.7,
             "#b8e186"
            ],
            [
             0.8,
             "#7fbc41"
            ],
            [
             0.9,
             "#4d9221"
            ],
            [
             1,
             "#276419"
            ]
           ],
           "sequential": [
            [
             0,
             "#0d0887"
            ],
            [
             0.1111111111111111,
             "#46039f"
            ],
            [
             0.2222222222222222,
             "#7201a8"
            ],
            [
             0.3333333333333333,
             "#9c179e"
            ],
            [
             0.4444444444444444,
             "#bd3786"
            ],
            [
             0.5555555555555556,
             "#d8576b"
            ],
            [
             0.6666666666666666,
             "#ed7953"
            ],
            [
             0.7777777777777778,
             "#fb9f3a"
            ],
            [
             0.8888888888888888,
             "#fdca26"
            ],
            [
             1,
             "#f0f921"
            ]
           ],
           "sequentialminus": [
            [
             0,
             "#0d0887"
            ],
            [
             0.1111111111111111,
             "#46039f"
            ],
            [
             0.2222222222222222,
             "#7201a8"
            ],
            [
             0.3333333333333333,
             "#9c179e"
            ],
            [
             0.4444444444444444,
             "#bd3786"
            ],
            [
             0.5555555555555556,
             "#d8576b"
            ],
            [
             0.6666666666666666,
             "#ed7953"
            ],
            [
             0.7777777777777778,
             "#fb9f3a"
            ],
            [
             0.8888888888888888,
             "#fdca26"
            ],
            [
             1,
             "#f0f921"
            ]
           ]
          },
          "colorway": [
           "#636efa",
           "#EF553B",
           "#00cc96",
           "#ab63fa",
           "#FFA15A",
           "#19d3f3",
           "#FF6692",
           "#B6E880",
           "#FF97FF",
           "#FECB52"
          ],
          "font": {
           "color": "#2a3f5f"
          },
          "geo": {
           "bgcolor": "white",
           "lakecolor": "white",
           "landcolor": "#E5ECF6",
           "showlakes": true,
           "showland": true,
           "subunitcolor": "white"
          },
          "hoverlabel": {
           "align": "left"
          },
          "hovermode": "closest",
          "mapbox": {
           "style": "light"
          },
          "paper_bgcolor": "white",
          "plot_bgcolor": "#E5ECF6",
          "polar": {
           "angularaxis": {
            "gridcolor": "white",
            "linecolor": "white",
            "ticks": ""
           },
           "bgcolor": "#E5ECF6",
           "radialaxis": {
            "gridcolor": "white",
            "linecolor": "white",
            "ticks": ""
           }
          },
          "scene": {
           "xaxis": {
            "backgroundcolor": "#E5ECF6",
            "gridcolor": "white",
            "gridwidth": 2,
            "linecolor": "white",
            "showbackground": true,
            "ticks": "",
            "zerolinecolor": "white"
           },
           "yaxis": {
            "backgroundcolor": "#E5ECF6",
            "gridcolor": "white",
            "gridwidth": 2,
            "linecolor": "white",
            "showbackground": true,
            "ticks": "",
            "zerolinecolor": "white"
           },
           "zaxis": {
            "backgroundcolor": "#E5ECF6",
            "gridcolor": "white",
            "gridwidth": 2,
            "linecolor": "white",
            "showbackground": true,
            "ticks": "",
            "zerolinecolor": "white"
           }
          },
          "shapedefaults": {
           "line": {
            "color": "#2a3f5f"
           }
          },
          "ternary": {
           "aaxis": {
            "gridcolor": "white",
            "linecolor": "white",
            "ticks": ""
           },
           "baxis": {
            "gridcolor": "white",
            "linecolor": "white",
            "ticks": ""
           },
           "bgcolor": "#E5ECF6",
           "caxis": {
            "gridcolor": "white",
            "linecolor": "white",
            "ticks": ""
           }
          },
          "title": {
           "x": 0.05
          },
          "xaxis": {
           "automargin": true,
           "gridcolor": "white",
           "linecolor": "white",
           "ticks": "",
           "title": {
            "standoff": 15
           },
           "zerolinecolor": "white",
           "zerolinewidth": 2
          },
          "yaxis": {
           "automargin": true,
           "gridcolor": "white",
           "linecolor": "white",
           "ticks": "",
           "title": {
            "standoff": 15
           },
           "zerolinecolor": "white",
           "zerolinewidth": 2
          }
         }
        },
        "title": {
         "text": "Proportional COVID-19 Deaths: West V.S. East Coast",
         "x": 0.5
        },
        "width": 1000
       }
      }
     },
     "metadata": {},
     "output_type": "display_data"
    }
   ],
   "source": [
    "# Group the Portion of Deaths due to COVID by state\n",
    "df_grouped = df.groupby('State', as_index=False)['Portion of Deaths due to COVID'].sum()\n",
    "\n",
    "# Create the plots\n",
    "fig = px.scatter_geo(df_grouped, \n",
    "                     locations=\"State\", \n",
    "                     locationmode=\"USA-states\",\n",
    "                     color=\"Portion of Deaths due to COVID\",\n",
    "                     hover_name=\"State\",\n",
    "                     size=\"Portion of Deaths due to COVID\",\n",
    "                     projection=\"albers usa\",\n",
    "                     title=\"Proportional COVID-19 Deaths: West V.S. East Coast\",\n",
    "                     color_continuous_scale='Magma_r',\n",
    "                     width=1000,  \n",
    "                     height=600                      \n",
    "                    )\n",
    "# Fix the map\n",
    "fig.update_geos(\n",
    "    fitbounds=\"locations\",\n",
    "    visible=False,\n",
    "    showcountries=True, \n",
    "    showsubunits=True,  \n",
    "    subunitcolor=\"gray\",\n",
    "    showland=True,\n",
    "    landcolor='rgb(217, 217, 217)',\n",
    "    countrycolor=\"gray\"  # Color of country borders\n",
    ")\n",
    "# Put borders onto circles\n",
    "fig.update_traces(marker=dict(line=dict(width=2, color='rgb(0,0,0)')))\n",
    "\n",
    "# Fiz the color scale \n",
    "fig.update_coloraxes(colorbar_title=\"Portion of Deaths due to COVID\", colorbar_title_side=\"right\")\n",
    "\n",
    "# Center the title\n",
    "fig.update_layout(title_x=0.5)\n",
    "\n",
    "# Display the HTML file within the notebook\n",
    "HTML(filename=\"covid_deaths_map.html\")\n",
    "\n",
    "fig.show()\n"
   ]
  },
  {
   "cell_type": "markdown",
   "metadata": {},
   "source": [
    "This graph shows the protion of deaths due to COVID by state. By comparing the West and East coast, we can see how different states were able to handle the disease by looking at their proportion of COVID-19 deaths. We can also see in this graph that more urban states like California, New York and Florida are impacted more compared to other states. "
   ]
  },
  {
   "cell_type": "code",
   "execution_count": 39,
   "metadata": {},
   "outputs": [
    {
     "name": "stderr",
     "output_type": "stream",
     "text": [
      "/var/folders/ky/91lk79yn3gd90j52mfhp82bm0000gn/T/ipykernel_30023/3471834719.py:3: FutureWarning:\n",
      "\n",
      "\n",
      "\n",
      "Passing `palette` without assigning `hue` is deprecated and will be removed in v0.14.0. Assign the `x` variable to `hue` and set `legend=False` for the same effect.\n",
      "\n",
      "\n"
>>>>>>> f7cf30d55162985d7c6703a170c027bd721cebf9
     ]
    },
    {
     "data": {
      "text/plain": [
       "Text(0.5, 1.0, 'COVID-19 Deaths for West and East Coast')"
      ]
     },
<<<<<<< HEAD
     "execution_count": 38,
=======
     "execution_count": 39,
>>>>>>> f7cf30d55162985d7c6703a170c027bd721cebf9
     "metadata": {},
     "output_type": "execute_result"
    },
    {
     "data": {
<<<<<<< HEAD
      "image/png": "iVBORw0KGgoAAAANSUhEUgAABAMAAALCCAYAAACr2hoFAAAAOXRFWHRTb2Z0d2FyZQBNYXRwbG90bGliIHZlcnNpb24zLjguMywgaHR0cHM6Ly9tYXRwbG90bGliLm9yZy/H5lhTAAAACXBIWXMAAA9hAAAPYQGoP6dpAAB6tElEQVR4nOzde1yUZf7/8fcMDAdFQfEAggikZCiBVpppHkstzTRbddUsTTezg7Vbu20tK2ZumV93rTRt82xalqWpmWlpkUpWmoqo4QHDE4EHKETlMPfvj37MOgEKCAx4v56PBw+Z+7rmns89nLzf93Vfl8UwDEMAAAAAAMA0rK4uAAAAAAAAVC3CAAAAAAAATIYwAAAAAAAAkyEMAAAAAADAZAgDAAAAAAAwGcIAAAAAAABMhjAAAAAAAACTIQwAAAAAAMBkCAMAAAAAADAZwgAAAGqQrl27ymKxVPnr5uXlacKECWrRooU8PT1lsVi0cuXKKq8DlefIkSOyWCx66KGHXF0KAKAKEAYAQCXav3+/nnjiCbVu3Vq+vr7y8PBQkyZN1KdPH82dO1cXL14s9nnff/+9Ro4cqfDwcHl7e6tu3bqKiorSs88+q+PHjzv13bBhgywWi9q1a3fFepYuXSqLxaJ7773Xsc1isRR7clm4vfDD09NTDRs2VNu2bTV69Gh9+umnKigoKOM7ImVmZmrq1KkaNmyYIiMj5e7uLovFos8///yyz9uxY4f+8Ic/qHHjxvLw8FBISIjGjRunn3/+uUyv/9BDDzkdl5ubm3x9fXXdddepf//+mjFjhk6fPl3m46oohfUdOXLEZTUUZ9q0aXrxxRfVpEkTPfPMM5owYYJatmxZZa+/fft2WSwWtW/fvtj2d9991/E1TUlJKdJ+/vx5eXl5qVatWiX+3FUUVwU2Va0wPLjSR1V9L4eGhio0NLTcz8/NzdXcuXPVp08fBQYGytPTU3Xq1FFMTIyeeuop7d69u+KKrWDV9fcGgOrN3dUFAMC16sUXX9TEiRNlt9vVoUMHPfjgg/Lx8dHPP/+sL7/8UqNHj9asWbP0/fffO55jGIaee+45vfrqq3J3d9edd96pP/zhD8rNzdXWrVv1f//3f3rzzTe1cOFC3X///ZKkO+64Q2FhYfruu++UmJioqKioEmt6++23JUl/+tOfSn0cEyZMkCQVFBQoMzNTSUlJWrx4sebOnaubb75ZS5YsUURERKn3d+TIEf31r3+VJAUHB6tBgwZXPKFfs2aN7rvvPuXn5+uee+5RRESE9u/fr9mzZ2v16tXasmWLQkJCSl2DJN17772KiYmRJP366686evSovv76a3388cd64YUX9Nprr3GF9BJr1qyRj4+PNmzYIA8Pjyp//TZt2qhevXravn27fvnlF9WtW9ep/YsvvpDFYpFhGNq4caMefvhhp/YtW7bo4sWLuvPOO+Xp6VmVpV/zfH199dRTT5XY7ufnV2W1lFdycrL69++vffv2qUGDBrrzzjsVEhKi3Nxc7d27V7Nnz9brr7+ulStXql+/fq4uFwAqhgEAqHCTJ082JBlNmzY1vvnmm2L7rF692ujatavTtokTJxqSjNDQUGPPnj1FnrN8+XLDy8vLcHNzMzZu3Fjk9Z544okSazpw4IBhsViMpk2bGgUFBY7tkozi/hyUtN0wDCMtLc34wx/+4DjGn3/+ucTX/b0zZ84Yn3/+uXH69GnDMAzjwQcfNCQZGzZsKLb/+fPnjcaNGxuSjA8//NCpbenSpYYk45577in16xe+3vz584u05eXlGW+99Zbh5eVlSDKWLl1a6v1WlML6UlJSim3v0qVLiV+XyhQWFmY0a9asyl/3UgMGDDAkGatWrSrSFhYWZnTr1s3w9/c3hg4dWqT973//uyHJeOWVVyq9Tld9ja5WSkqKIcl48MEHy9Tf1d8XhZo1a1auWtLS0ozg4GBDkvHUU08ZOTk5Rfr8/PPPxrhx44wFCxZUQKUV70q/NwCgODXvLxUAVHMpKSmGzWYzbDabkZiYeNm+Fy5ccHqeu7u7YbPZjN27d5f4nFmzZhmSjOuvv95xUn/y5EnD3d3dqFevnnH+/Plin/e3v/3NkGTExcU5bS9PGGAYhlFQUGB07drVkGSMHz/+cod5WVcKA7744gtDknHzzTcX2x4dHW1YLBbjyJEjZXq94sKAQvPmzTMkGQEBAcWeGCxdutTo2rWr4evra3h6ehotW7Y0Jk2a5PT1LLRixQpj2LBhRosWLYxatWoZtWrVMtq2bWu89tprTqGMYfzvPf/9x6UnOIUnmnl5ecbkyZON5s2bGx4eHkZwcLDx17/+1bh48WKRGuLj442+ffsaQUFBhoeHh9G4cWOjffv2Rb4XLvd+Xa4mwzCMZcuWGbfffrtRt25dw8vLy2jdurXxr3/9q9j3pPCkLSsry3j66aeNZs2aGe7u7saECRMuW8uMGTMcJ2yXKjwpfemll4z77rvPCAwMLPLc9u3bG5KM7777zrEtLy/PmDlzptG+fXujTp06hre3txETE2O88cYbRb42hmEYH3/8sdG9e3cjICDA8PDwMAIDA43OnTsbM2fOdKqjuI8uXbpc9tgMwzCOHz9uTJw40bjtttuMxo0bGzabzQgMDDT++Mc/GklJSUX6X3rynpKSYgwePNjw9/c3PD09jZtuuslYvXp1sa/zyy+/GE8//bQRFBRkeHp6Gtdff70xbdo049ChQ5UeBvz444/G3/72N+Omm24yGjRoYHh4eBghISHGmDFjjKNHjxbpb7fbjQULFhgdOnQwGjRoYHh6ehrBwcFGz549jffee88wDMPYtGlTie97aY5l9OjRhiTjj3/84xX7/v77+cSJE8a4ceOMZs2aGTabzWjQoIExYMAA4/vvvy/y3MzMTOPVV181unXrZgQFBTn633PPPcbWrVuLfb3S/OyW5vcGABSH2wQAoILNnz9feXl5GjJkiFq3bn3ZvpcOV54/f77y8/M1aNCgyw71Hz16tF588UX9+OOP+uqrr9StWzcFBASob9++WrlypT788EMNGzbM6Tn5+flauHCh3NzcNGrUqKs7wP/ParXqH//4h7788ku9++67+s9//lMp90mnpaVJksLDw4ttDw8P165du7Rx40aNHDmyQl7zwQcf1MSJE/XTTz9p48aN6tOnj6Nt1KhRmj9/voKDgzVw4ED5+fnpm2++UWxsrL744gtt2LBB7u7/+/P63HPPyWq1qn379goKClJWVpY2btyo8ePH67vvvtPixYsdfSdMmKCVK1dq165dGj9+vGN4dXHDrIcOHaqvv/5ad911l+rWrau1a9fq1VdfVXp6uubPn+/ot27dOvXp00d169ZVv379FBQUpDNnzmjfvn168803HbeBlKR///4KDQ3V9OnTJckxHPzSmp5//nm9/PLLatCggYYOHSofHx99+umnev755/XZZ59p/fr1RW4tyM3NVffu3XXmzBn17NlTdevWVVhY2GVr6d69u6Tfbgm4VOHj7t27y9fXVx999JH27t2ryMhISdIvv/yi77//XvXq1VPbtm0l/TYh4j333KPPPvtM119/vYYOHSovLy9t2rRJTzzxhLZt2+b0tfnvf/+rRx55RAEBAbrnnnvUoEEDpaena/fu3Zo/f77GjRsnPz8/TZgwQQsWLNBPP/3k9N6W5l72+Ph4vfLKK+rWrZsGDhwoHx8fHThwQMuXL9eqVau0ZcsWRUdHF3neTz/9pHbt2ik8PFwPPPCAzpw5o2XLlunee+/V559/rm7dujn6Xrx4UT169NB3332n6OhoDRs2TJmZmZo0aZK++uqrK9Z4tT766CPNnj1b3bp102233SYPDw8lJSVpzpw5Wr16tb7//nsFBQU5+r/wwgt6+eWXFRYWpkGDBsnX11cnT57Ud999pw8++ECDBw9WaGioJkyYUOR7VJLjVqCSnD9/3vF1vtLPguT8OzslJUWdOnXSiRMn1L17d/3xj3/U0aNH9cEHH+iTTz7Rhx9+qL59+zr679u3Ty+88II6d+6sPn36qF69ekpNTdWqVav06aefavXq1erdu7ejf2l/dsvyewMAnLg6jQCAa0337t0NScbbb79druf997//vWLfoUOHGpKMSZMmObatXbu2xCuQH330kSHJ6NOnT5E2lXNkgGH8dpXM3d3dkGQcPnz4inUX50ojAz777DNDknHLLbcU2x4dHW1IMv72t7+V6fUuNzLAMAxj+PDhhiTjn//8p2Pb/PnzDUnGgAEDiowYmDBhgiHJmD59utP2gwcPFtl3QUGBMWLECENSkdtISnubQNu2bR23WhiGYWRnZxvXXXedYbVajZMnTzq233fffYYkY+fOnUX2lZGRUfIb8DslDcHeunWr43aRS183Ly/P6Nu3ryHJmDx5cpF9STJ69OhhZGdnl7oGwzCMwMBAw2KxGOnp6Y5tQ4cONXx8fIy8vDxjz549hiTjjTfecLSvWrXK8XUrVPj1evzxx438/HzH9vz8fGPUqFGGJGPlypWO7W3btjU8PDyKvSXm9+9jeW8T+Pnnn41ffvmlyPadO3catWvXNnr37u20/dKRCL8f5bFu3TpDknHXXXc5bS+8pei+++5zGv1w+PBho169euUaGeDr62tMmDCh2I9Zs2Y5PefYsWPFjhb57LPPDKvVaowdO9Zpe/369Y2goCDj3LlzRZ7z+/e9PLcJxMfHG5KMoKCgMj3PMAyjZ8+ejhEpl9qyZYvh5uZm1K9f3/j1118d2zMzM4v9mTt69KgRGBhotGzZ0ml7WX52uU0AQHmwmgAAVLCTJ09K+m1yvPI8r2nTplfsW9jnxIkTjm29evVSs2bN9NVXX+nAgQNO/efMmSOpbBMHloanp6f8/f0lSRkZGRW670IdO3aUn5+fvvvuO3388cdObe+//7527dolSTp79myFvm7h1clLj+u1116Tu7u75s2bJ29vb6f+sbGx8vf315IlS5y2X3fddUX2bbVaNX78eEnSZ599Vq76pkyZovr16zse165dW8OGDZPdbnealLLQ7+uVpAYNGpTrtS81b948SdI//vEPBQQEOLa7u7tr2rRpslqtju+/35s2bZpq165dptfr0aOHDMPQpk2bHNs2bdqk22+/Xe7u7mrVqpUaNWqkjRs3OtoLP+/Ro4ckyW6364033lBAQID+85//yM3NzdHXzc1N06ZNk8ViKfK1dHd3l81mK1JTRbyPktSoUSPVqVOnyPbo6Gh1795dmzZtUl5eXpH2Zs2a6R//+IfTtl69eikkJETffvut0/b58+fLarXq1VdfldX6v/8GhoWF6cknnyxX3VlZWZo4cWKxH7Nnz3bqGxQUVOwEjj179lSrVq2K/Xmw2WxOX6NCFfG+l/f39bFjx7R+/XqFhIQ4JkQtdNttt+mPf/yjzpw5o48++six3dfXt9iag4ODdf/992v//v1KTU0t0l5ZP7sAwG0CAHCNsFqtevjhh/XPf/5Tc+bM0ZQpUyT99p/WdevWOZY0rGiGYUiS4xaBlStXaufOnU59YmJi1L9//3Ltv3bt2o6Z/e+77z7169dPLVq00P79+7VmzRrFxMRo586dTic2FeH3x5WTk6Ndu3apQYMGjuHIv+fp6al9+/Y5bTt9+rSmTp2qtWvX6vDhwzp37pxT+++Xiiytm2++uci2wpDo0mBk2LBh+uijj9S+fXsNHjxY3bp1U8eOHct88lOSHTt2SPrfEP5LRUREKDg4WCkpKcrKypKvr6+jzcvLSzfeeGOZX6979+565513tHHjRg0aNEj79u3TyZMn9fTTTzv6dO3aVRs2bJDdbpfVai0SBiQnJ+vMmTNq0aKFXnrppWJfx9vb2+lrOWzYMP3lL39RZGSkhgwZoi5duqhjx45q2LBhmY/hcj755BPNnj1b33//vU6dOqX8/Hyn9lOnTikwMNBpW0xMTLEny02bNlVCQoLj8a+//qqDBw+qadOmxYZUXbt21cSJE8tcc7NmzUq9pJ1hGFqyZIkWLFigXbt26ezZs05LlP7+dpJhw4bpjTfeUGRkpAYNGqQuXbqoQ4cOTt9LrvDDDz9Ikm6//fZiA6LC79MffvhBI0aMcGzfsmWLXnvtNSUkJCg9PV25ublOzzt+/LhjZZTK/tkFAMIAAKhggYGB2rdvX5lP8gICArRv3z4dPXr0in0L+zRp0sRp+6hRozRx4kQtXLhQL730kmw2m+bNmye73a5Ro0YVe8JwNS5cuKAzZ85IkuOkaOXKlVq4cKFTvwcffLDcYYAkjRgxQk2bNtWUKVP05Zdfau3atbrhhhu0YMECpaena+fOnWrUqFG591+cwlEXhcd19uxZGYahjIyMUp8wZWZm6pZbblFKSoratWunESNGqH79+nJ3d1dmZqZee+21cq95X9z9wIVzFVx6cnXfffdpzZo1mjZtmubNm6e33npLknTTTTfp5Zdf1p133lmu1y+UlZUlSUVOUAsFBgYqNTVVmZmZTidwjRo1KtccE4Un9IXzBFw6X0Chrl276v3339cPP/ygkJAQJSYmKigoSC1btpT0W0AjSQcOHLjs1zI7O9vx+Z///Gc1aNBAb775pl5//XVNnz5dFotFXbp00dSpU4sNZ8rqtdde01NPPaV69eo5lrarVauWLBaL457w4r5fSro33N3dXXa73fG48GvVuHHjYvtfOrKjsvz5z3/W9OnTFRgYqF69eikoKMhx5btwroVL/ec//1F4eLjmz5+vV155Ra+88orc3d119913a9q0aWrevPlV1VP4fVvW39el+b6XfvsdUGjFihW6//775eXlpTvvvFPXXXedateuLavVqi+//FJfffWV09e3sn92AYAwAAAqWKdOnbRx40Z98cUXRdY6v9LzNm3apM8//1xjxowpsV9BQYG+/PJLSb8Nob9UUFCQ7r77bq1evVqrV69W//79NW/ePFmtVo0ePbpcx3M5mzdvVn5+vho3buyYIG3BggVasGBBhb9Wt27dnCZCK1R41e2WW26psNey2+2Kj4+XJLVv316SHCeybdq0cVwNv5I5c+YoJSVFEyZMUFxcnFNbQkKCXnvttQqr+XL69OmjPn366Ny5c9q2bZvWrFmjWbNmqW/fvvrhhx8cE+2VR+H7kpaWVuzV5sJh2L+/klveySZDQkJ03XXX6eDBgzp69Kg2btwoPz8/tWnTxtGn8Ptk48aNatasmQzDcIQIl9YyYMAAp2HcVzJixAiNGDFCmZmZ2rp1q1asWKF58+apV69e2r9//1WNEsjPz1dcXJwCAgK0Y8eOIieZl17hL6/C4/7555+LbS+crLOypKen6/XXX1fr1q21devWIrdEvPvuu0We4+bmpqeeekpPPfWU0tPTtXnzZr333nv64IMPlJSUpKSkpGJvOyitm2++WZ6enjp27JiSk5MVERFRqudd+n1fnOK+72NjY+Xh4aHvv/9eN9xwg1P/Rx55pNgJHCvzZxcAmDMAACrYyJEjZbPZ9OGHH2rv3r2X7XvpVaCHHnpIbm5uWrFihZKSkkp8zrx583TixAldf/316tKlS5H2wnkB5syZow0bNuinn35Sz5491axZs3IeUfHsdrsmT54s6beZ7V0hMzNTq1evVsOGDSv0KtmCBQuUmpqqwMBAx4mlj4+PWrVqpaSkJMdoiCs5ePCgJGngwIFF2kqaub1w9MalV/crSu3atdW9e3f9+9//1vPPP6/c3Fx9+umnV7XPwpPwwoDqUgcPHtSxY8cUFhZWoTObF57Yf/755/ryyy/VpUsXp9tEWrZsqYCAAG3cuLHILQKF7YWrQBR3D/6V+Pn56e6779bbb7+thx56SGfOnHGER1L5voanTp1SZmambrvttiJBQHZ2dqkDqMupU6eOmjdvruPHj+vQoUNF2ov7Glakw4cPy263q2fPnkWCgGPHjunw4cOXfX6jRo1033336f3331f37t116NAh7dmzx9Hu5uZW5p8bb29vPfDAA5KkF1988Yr9C39nF37fFwaiv1c4p0Xh6hXSbz8PkZGRRYIAu92uzZs3X/Z1r/SzW5m/NwBcuwgDAKCChYaGKi4uTrm5uerTp0+xk7lJvy0bdddddzkeh4eH6/nnn1deXp769etXbJCwcuVKjR8/Xm5ubpo1a1ax98nfddddCg4O1meffeb4z+3lRhqUR3p6uoYMGaIvv/xSISEhev755yt0/7/366+/FtmWk5OjBx98UJmZmXrxxRev6upgofz8fL399tt67LHHZLFY9J///EdeXl6O9j//+c/Kzc3VqFGjnIb/Fjp79qzTSVvhaInfn2T98MMPevnll4utoXBCxuImEiuP+Pj4Yk9WCq8O16pV66r2X7hU5UsvveQ02WJBQYGeeeYZ2e32Mo2QKY3CWwL+85//6OzZs8WOGOnWrZu+/vprrV+/XpJzGODu7q4nnnhCJ0+e1JNPPqnz588Xef7JkyedfgY3bdrkmEfiUunp6ZKc38fyfA0bNWqkWrVqafv27U63J+Tl5Wn8+PE6depUqfd1OSNHjpTdbtff/vY3p1sIUlJS9Prrr1fIa5Sk8Odh8+bNTiet2dnZGjNmTJHv04sXL2rLli1F9pOXl+cI5H7/vmdkZBT79bycl156ScHBwVqyZImeffbZYp9/6tQpPfnkk3rvvfck/Tbp35133qkjR44UmUNk27ZtWrp0qerVq6cBAwY4Hf+BAwecJn41DENxcXHF/r4vy89uRf/eAGAO3CYAAJXg+eefV35+viZOnKhbbrlFt912m26++Wb5+Pjo559/Vnx8vA4cOFDkPuO4uDidO3dO//73vxUdHa1evXqpVatWysvL09atW7Vt2zZ5e3vr3XffLfYESPrtCtGoUaP04osvauvWrQoICFC/fv3KfSyFw9vtdrsyMzOVlJSkzZs3Kzc3V+3atdOSJUvKPLP1M8884zi5KbwiNnXqVL3zzjuSflvb/tI5BhYuXKhp06apa9euCgwM1OnTp7V69WqdPHlS48eP19ixY8t8XCtXrnRMenbu3Dmlpqbq66+/1smTJ+Xr66v//ve/Gjx4sNNzRo0ape3bt+vNN9/Udddd55ix/cyZM0pJSVF8fLxGjhzpmEF9xIgRmjp1qp566ilt2rRJLVq00IEDB7RmzRrdd999WrZsWZG6evTooalTp2rMmDEaOHCg6tSpIz8/Pz3++ONlPkZJevLJJ3X8+HF17NhRoaGh8vDw0Pbt2x1D6IcMGVKu/Ra67bbb9Ne//lWvvvqqWrdurfvvv1+1a9fWp59+qj179qhTp0569tlnr+o1fq979+6yWCxKTEx0PP69bt266d1331VKSoquv/56p7Xrpd+GbO/atUuzZ8/W6tWr1b17dwUFBSk9PV0HDhzQli1bNHnyZMcw7AEDBsjHx0e33nqrQkNDZRiGvv76a3333Xe66aabdMcddzj23aNHD33wwQe67777dPfdd8vb21vNmjVzXIEujtVq1ZNPPqlXXnlFUVFRuvfee5Wbm6tNmzbpzJkz6tatm9MKCuX1l7/8RStXrtSHH36otm3bqlevXsrMzNT777+vzp07a9WqVWXeZ2ZmZpHbYC710EMPKTQ0VAEBARoyZIjee+89xcTEqGfPnsrKytKGDRvk5eXlmAy00Pnz59WpUyc1b95cN910k5o1a6YLFy5ow4YN2rdvn/r16+d0lb1Hjx767rvv1Lt3b3Xu3Fmenp6Kjo7WPffcc9n6GzdurC+++EL9+/fX//3f/2nhwoWOORtyc3O1b98+ffnll7p48aJWrlzpeN7s2bPVsWNHPfvss1q/fr1uvvlmHT16VB988IGsVqvmz5/vNALi6aef1tixY9WmTRsNHDhQNptNW7Zs0d69e3XPPfdo9erVTnWV5We3on9vADAJly1qCAAmsHfvXuPxxx83WrVqZdSpU8ew2WxGQECA0bt3b2POnDnFrrdtGIaxbds2Y8SIEUZoaKjh5eVl1K5d22jVqpXxl7/8xTh69OgVXzc1NdWwWq2GJOPvf//7Zfvq/69TXtL2wg8PDw/D39/faNu2rTF69Gjj008/dVqnvCwK15kv6WPChAlO/RMSEoy77rrLCAgIMGw2m+Hv72/cddddxtq1a8v82oXrcRd+WK1Wo06dOkZ4eLhx7733Gm+88YZx+vTpy+5j9erVRp8+fYyGDRsaNpvNaNy4sXHLLbcYL7zwgrFv3z6nvklJScY999xjNGzY0KhVq5bRtm1b4+2333as0V7cmu7Tpk0zWrZsaXh4eBiSnNZOv9wa9vPnzzckGfPnz3dsW7ZsmTFkyBCjefPmRu3atY06deoYrVq1Mp5//nkjPT291O/bldZwf/fdd42OHTsaPj4+hqenpxEZGWm89NJLxvnz58u8r9K48cYbDUlGgwYNDLvdXqT9wIEDjq/xuHHjit2H3W43Fi1aZHTv3t2oV6+eYbPZjCZNmhgdO3Y0Jk+ebKSmpjr6zpo1y+jfv78RFhZmeHt7G/Xq1TNiYmKMKVOmGL/88ovTfvPz842///3vRlhYmOHu7m5IMrp06XLFY8rLyzOmTZtm3HDDDYaXl5fRuHFjY/jw4caRI0eKXUf+ct9DhlHy90pWVpbx9NNPG02aNDE8PT2N66+/3vi///s/49ChQ5fd3+8Vvv6VPjZt2uR4zrlz54znn3/euO666wxPT08jODjYGDdunHHq1Kki9ebm5hpTpkwxevfubTRt2tTw9PQ0GjRoYLRv396YNWuWcfHiRad6srOzjbFjxxpBQUGGm5tbmY7FMAzj4sWLxpw5c5x+1/j4+BitW7c2nnjiCWP37t1FnnPs2DFj7NixRkhIiON307333mt8++23xb7G/PnzjejoaKNWrVqGv7+/0b9/f2P37t3GhAkTirxXZf3ZvdzvDQAojsUwihnzBgAAAAAArlnMGQAAAAAAgMkQBgAAAAAAYDKEAQAAAAAAmAxhAAAAAAAAJkMYAAAAAACAyRAGAAAAAABgMoQBAAAAAACYDGEAAAAAAAAm4+7qAq51Z8+eVX5+vqvLAAAAAABc49zd3VWvXr3S9a3kWkwvPz9feXl5ri4DAAAAAAAHbhMAAAAAAMBkCAMAAAAAADAZwgAAAAAAAEyGMAAAAAAAAJMhDAAAAAAAwGQIAwAAAAAAMBnCAAAAAAAATIYwAAAAAAAAkyEMAAAAAADAZAgDAAAAAAAwGcIAAAAAAABMhjAAAAAAAACTIQwAAAAAAMBkCAMAAAAAADAZwgAAAAAAAEyGMAAAAAAAAJMhDAAAAAAAwGQIAwAAAAAAMBnCAAAAAAAATIYwAAAAAAAAk3F3dQEAUNUKCgqUmJio06dPy9/fX1FRUXJzc3N1WQAAAECVIQwAYCrx8fGaNWuW0tLSHNsCAgL06KOPqnPnzi6sDAAAAKg63CYAwDTi4+MVFxen8PBwzZw5U2vXrtXMmTMVHh6uuLg4xcfHu7pEAAAAoEpYDMMwXF3EtSwjI0N5eXmuLgMwvYKCAg0fPlzh4eGaNGmSrNb/ZaF2u12xsbFKSUnR4sWLuWUAAAAANZLNZlPDhg1L1ZeRAQBMITExUWlpaRo2bJhTECBJVqtVQ4cO1cmTJ5WYmOiiCgEAAICqQxgAwBROnz4tSQoLCyu2vXB7YT8AAADgWkYYAMAU/P39JUkpKSnFthduL+wHAAAAXMsIAwCYQlRUlAICArRkyRLZ7XanNrvdrqVLlyowMFBRUVEuqhAAAACoOoQBAEzBzc1Njz76qBISEhQbG6ukpCTl5OQoKSlJsbGxSkhI0NixY5k8EAAAAKbAagKVjNUEgOolPj5es2bNUlpammNbYGCgxo4dq86dO7uwMgAAAODqlGU1AcKASkYYAFQ/BQUFSkxM1OnTp+Xv76+oqChGBAAAAKDGK0sY4F7JtQBAtePm5qaYmBhXlwEAAAC4DHMGAAAAAABgMoQBAAAAAACYDGEAAAAAAAAmQxgAAAAAAIDJEAYAAAAAAGAyhAEAAAAAAJgMYQAAAAAAACZDGAAAAAAAgMkQBgAAAAAAYDKEAQAAAAAAmAxhAAAAAAAAJkMYAAAAAACAyRAGAAAAAABgMoQBAAAAAACYDGEAAAAAAAAmQxgAAAAAAIDJEAYAAAAAAGAyhAEAAAAAAJgMYQAAAAAAACZDGAAAAAAAgMkQBgAAAAAAYDKEAQAAAAAAmAxhAAAAAAAAJkMYAAAAAACAyRAGAAAAAABgMoQBAAAAAACYDGEAAAAAAAAmQxgAAAAAAIDJEAYAAAAAAGAyhAEAAAAAAJgMYQAAAAAAACZDGAAAAAAAgMkQBgAAAAAAYDKEAQAAAAAAmAxhAAAAAAAAJkMYAAAAAACAyRAGAAAAAABgMoQBAAAAAACYDGEAAAAAAAAmQxgAAAAAAIDJEAYAAAAAAGAy7q4u4FLr16/X+vXrlZGRIUkKDg7W/fffrzZt2kiScnNztWjRIm3dulV5eXmKjo7W6NGj5efn59jHqVOn9PbbbyspKUleXl7q0qWLhg4dKjc3N0efpKQkLVq0SEePHpW/v78GDhyorl27OtWybt06rV69WpmZmWrWrJlGjRql5s2bV/p7AAAAAABAZbMYhmG4uohC33//vaxWqwIDA2UYhr766iutWrVKr776qpo2baq3335bO3bs0GOPPaZatWpp7ty5slqtmjRpkiTJbrfr2WeflZ+fnx544AGdPXtWM2bMUI8ePTR06FBJUnp6uv7yl7/ozjvvVPfu3bVnzx4tWLBAzz33nGJiYiRJW7du1YwZMzRmzBi1aNFCn3zyib755htNnz5dvr6+ZTqmjIwM5eXlVej7BAAAAADA79lsNjVs2LBUfavVbQI333yz2rZtq8DAQDVp0kR//OMf5eXlpQMHDignJ0cbN27Ugw8+qNatWys8PFzjxo3Tjz/+qOTkZEnSrl27dOzYMT3xxBMKDQ1VmzZtNHjwYH322WfKz8+X9Nvog0aNGmnEiBEKDg5W7969deutt+qTTz5x1LFmzRr16NFD3bp1U3BwsMaMGSMPDw9t2rTJJe8LAAAAAAAVqVrdJnApu92uhIQEXbx4URERETp8+LAKCgoUFRXl6BMUFKQGDRooOTlZERERSk5OVkhIiNNtAzExMZozZ46OHj2qsLAwHThwwGkfkhQdHa0FCxZIkvLz83X48GH179/f0W61WhUVFeUIHYqTl5fnNALAYrHI29vb8TkAAAAAANVFtQsDUlNT9cILLygvL09eXl565plnFBwcrCNHjsjd3V21a9d26u/r66vMzExJUmZmplMQUNhe2Fb47++H+vv6+ur8+fPKzc1Vdna27HZ7kf34+fnpxIkTJda9YsUKLV++3PE4LCxMU6ZMKfUQDQAAAAAAqkq1CwOaNGmiqVOnKicnR998841mzpypiRMnurqsKxowYID69u3reFw4GiAjI8NxiwIAAAAAAJXF3d291Bekq10Y4O7uroCAAElSeHi4Dh06pLVr1+q2225Tfn6+zp075zQ6ICsry3EV38/PTwcPHnTaX1ZWlqOt8N/CbZf28fb2loeHh+rWrSur1eoYSVCouFEHl7LZbLLZbMW2VaM5GgEAAAAAqF4TCBbHbrcrLy9P4eHhcnNzU2JioqPtxIkTOnXqlCIiIiRJERERSk1NdTrZ3717t7y9vRUcHCxJatGihdM+CvsU7sPd3V3h4eHas2ePUw179uxx9AEAAAAAoCarVmHA0qVLtXfvXqWnpys1NdXx+Pbbb1etWrXUvXt3LVq0SHv27NHhw4f15ptvKiIiwnGSHh0dreDgYM2YMUNHjhzRzp079d5776lXr16Oq/Y9e/ZUenq63nnnHR0/flyfffaZEhIS1KdPH0cdffv21RdffKEvv/xSx44d05w5c3Tx4kV17drVFW8LAAAAAAAVymJUozHss2bN0p49e3T27FnVqlVLzZo107333qsbb7xRkpSbm6tFixZpy5Ytys/PV3R0tEaPHu00fD8jI0Nz5sxRUlKSPD091aVLFw0bNkxubm6OPklJSVq4cKGOHTsmf39/DRw4sMiJ/rp167Rq1SplZmYqNDRUI0eOVIsWLcp8TBkZGU6rDAAAAAAAUBlsNlup5wyoVmHAtYgwAAAAAABQFcoSBlSr2wQAAAAAAEDlIwwAAAAAAMBkCAMAAAAAADAZwgAAAAAAAEyGMAAAAAAAAJMhDAAAAAAAwGQIAwAAAAAAMBnCAAAAAAAATIYwAAAAAAAAkyEMAAAAAADAZAgDAAAAAAAwGcIAAAAAAABMhjAAAAAAAACTIQwAAAAAAMBkCAMAAAAAADAZwgAAAAAAAEyGMAAAAAAAAJMhDAAAAAAAwGQIAwAAAAAAMBnCAAAAAAAATIYwAAAAAAAAkyEMAAAAAADAZAgDAAAAAAAwGcIAAAAAAABMhjAAAAAAAACTIQwAAAAAAMBkCAMAAAAAADAZwgAAAAAAAEyGMAAAAAAAAJMhDAAAAAAAwGQIAwAAAAAAMBnCAAAAAAAATIYwAAAAAAAAkyEMAAAAAADAZAgDAAAAAAAwGcIAAAAAAABMhjAAAAAAAACTIQwAAAAAAMBkCAMAAAAAADAZwgAAAAAAAEyGMAAAAAAAAJMhDAAAAAAAwGQIAwAAAAAAMBnCAAAAAAAATIYwAAAAAAAAkyEMAAAAAADAZAgDAAAAAAAwGcIAAAAAAABMhjAAAAAAAACTIQwAAAAAAMBkCAMAAAAAADAZwgAAAAAAAEyGMAAAAAAAAJMhDAAAAAAAwGQIAwAAAAAAMBnCAAAAAAAATIYwAAAAAAAAkyEMAAAAAADAZAgDAAAAAAAwGcIAAAAAAABMhjAAAAAAAACTIQwAAAAAAMBkCAMAAAAAADAZwgAAAAAAAEyGMAAAAAAAAJMhDAAAAAAAwGQIAwAAAAAAMBnCAAAAAAAATIYwAAAAAAAAkyEMAAAAAADAZAgDAAAAAAAwGcIAAAAAAABMhjAAAAAAAACTIQwAAAAAAMBkCAMAAAAAADAZd1cXcKkVK1bo22+/1fHjx+Xh4aGIiAgNHz5cTZo0cfSJi4vT3r17nZ53xx136E9/+pPj8alTp/T2228rKSlJXl5e6tKli4YOHSo3NzdHn6SkJC1atEhHjx6Vv7+/Bg4cqK5duzrtd926dVq9erUyMzPVrFkzjRo1Ss2bN6+cgwcAAAAAoIpUqzBg79696tWrl6677joVFBTo3Xff1UsvvaR///vf8vLycvTr0aOHBg8e7Hjs4eHh+Nxut+vll1+Wn5+fXnrpJZ09e1YzZsyQm5ubhg4dKklKT0/XK6+8ojvvvFNPPPGE9uzZo9mzZ8vPz08xMTGSpK1bt2rRokUaM2aMWrRooU8++USTJ0/W9OnT5evrWzVvCAAAAAAAlaBahQEvvPCC0+PHHntMo0eP1uHDhxUZGenY7unpKT8/v2L3sWvXLh07dkyxsbHy8/NTaGioBg8erCVLlmjQoEFyd3fX+vXr1ahRI40YMUKSFBwcrP379+uTTz5xhAFr1qxRjx491K1bN0nSmDFjtGPHDm3atEn9+/cv8rp5eXnKy8tzPLZYLPL29nZ8DgAAAABAdVGtwoDfy8nJkST5+Pg4bf/666/19ddfy8/PTzfddJMGDhwoT09PSVJycrJCQkKcwoKYmBjNmTNHR48eVVhYmA4cOKCoqCinfUZHR2vBggWSpPz8fB0+fNjppN9qtSoqKkrJycnF1rpixQotX77c8TgsLExTpkxRw4YNy3v4AAAAAABUimobBtjtdi1YsEDXX3+9QkJCHNs7deqkBg0aqH79+vrpp5+0ZMkSnThxQs8884wkKTMzs8iogcJh/ZmZmY5/fz/U39fXV+fPn1dubq6ys7Nlt9uL7MfPz08nTpwott4BAwaob9++jseFowEyMjKUn59f5uMHAAAAAKAs3N3dS31ButqGAXPnztXRo0f14osvOm2/4447HJ+HhISoXr16evHFF5WWlqaAgICqLtPBZrPJZrMV22YYRhVXAwAAAABAyarl0oJz587Vjh07NGHCBPn7+1+2b+Hs/mlpaZJ+u3pfOAKgUFZWlqOt8N/CbZf28fb2loeHh+rWrSur1VpkP8WNOgAAAAAAoKapVmGAYRiaO3euvv32W/3zn/9Uo0aNrvicI0eOSJLq1asnSYqIiFBqaqrTyf7u3bvl7e2t4OBgSVKLFi2UmJjotJ/du3crIiJC0m9DK8LDw7Vnzx5Hu91u1549exx9AAAAAACoqapVGDB37lx9/fXXGj9+vLy9vZWZmanMzEzl5uZK+u3q//Lly3X48GGlp6fr+++/18yZM3XDDTeoWbNmkn6bCDA4OFgzZszQkSNHtHPnTr333nvq1auXYxh/z549lZ6ernfeeUfHjx/XZ599poSEBPXp08dRS9++ffXFF1/oyy+/1LFjxzRnzhxdvHhRXbt2rfL3BQAAAACAimQxqtEN7YMGDSp2+7hx49S1a1edOnVKb7zxho4ePaqLFy/K399f7dq103333adatWo5+mdkZGjOnDlKSkqSp6enunTpomHDhsnNzc3RJykpSQsXLtSxY8fk7++vgQMHFjnRX7dunVatWqXMzEyFhoZq5MiRatGiRZmOKSMjw2nJQQAAAAAAKoPNZiv1BILVKgy4FhEGAAAAAACqQlnCgGp1mwAAAAAAAKh8hAEAAAAAAJgMYQAAAAAAACZDGAAAAAAAgMkQBgAAAAAAYDKEAQAAAAAAmAxhAAAAAAAAJkMYAAAAAACAyRAGAAAAAABgMoQBAAAAAACYDGEAAAAAAAAmQxgAAAAAAIDJEAYAAAAAAGAyhAEAAAAAAJgMYQAAAAAAACZDGAAAAAAAgMkQBgAAAAAAYDKEAQAAAAAAmAxhAAAAAAAAJkMYAAAAAACAyRAGAAAAAABgMoQBAAAAAACYDGEAAAAAAAAmQxgAAAAAAIDJEAYAAAAAAGAyhAEAAAAAAJgMYQAAAAAAACZDGAAAAAAAgMkQBgAAAAAAYDKEAQAAAAAAmAxhAAAAAAAAJkMYAAAAAACAyRAGAAAAAABgMoQBAAAAAACYDGEAAAAAAAAmQxgAAAAAAIDJEAYAAAAAAGAyhAEAAAAAAJgMYQAAAAAAACZDGAAAAAAAgMkQBgAAAAAAYDKEAQAAAAAAmAxhAAAAAAAAJkMYAAAAAACAyRAGAAAAAABgMoQBAAAAAACYDGEAAAAAAAAmQxgAAAAAAIDJEAYAAAAAAGAyhAEAAAAAAJgMYQAAAAAAACZDGAAAAAAAgMkQBgAAAAAAYDKEAQAAAAAAmAxhAAAAAAAAJkMYAAAAAACAyRAGAAAAAABgMoQBAAAAAACYDGEAAAAAAAAmQxgAAAAAAIDJEAYAAAAAAGAyhAEAAAAAAJgMYQAAAAAAACZDGAAAAAAAgMkQBgAAAAAAYDLu5XnSqVOndOrUKbVs2dKx7ciRI1qzZo3y8vLUsWNHtWvXrsKKBAAAAAAAFadcIwPmzZunDz74wPE4MzNTEydO1LZt27Rv3z5NmzZN27Ztq7AiAQAAAABAxSlXGHDo0CFFRUU5HsfHxys3N1dTp07V7NmzFRUVpdWrV1dYkQAAAAAAoOKUKwzIzs6Wr6+v4/H27dsVGRmpgIAAWa1WtWvXTsePH6+wIgEAAAAAQMUpVxhQt25dZWRkSJLOnTunAwcOKDo62tFut9tlt9srpkIAAAAAAFChyjWBYFRUlD799FPVqlVLSUlJMgzDacLAY8eOyd/fv8KKBAAAAAAAFadcYcDQoUN18uRJLV68WO7u7nrggQfUqFEjSVJeXp4SEhLUsWPHCi0UAAAAAABUDIthGEZ5n5yTkyMPDw+5u/8vU8jNzdWJEyfUoEED+fj4VEiRNVlGRoby8vJcXQYAAAAA4Bpns9nUsGHDUvUt18iAQrVq1SqyzcPDQ6GhoVezWwAAAAAAUInKHQbY7Xbt3LlT6enpys7OLrbP/fffX6Z9rlixQt9++62OHz8uDw8PRUREaPjw4WrSpImjT25urhYtWqStW7cqLy9P0dHRGj16tPz8/Bx9Tp06pbfffltJSUny8vJSly5dNHToULm5uTn6JCUladGiRTp69Kj8/f01cOBAde3a1amedevWafXq1crMzFSzZs00atQoNW/evEzHBAAAAABAdVOu2wQOHTqkadOm6fTp05ftt2zZsjLtd/LkyerYsaOuu+46FRQU6N1339XRo0f173//W15eXpKkt99+Wzt27NBjjz2mWrVqae7cubJarZo0aZKk30KKZ599Vn5+fnrggQd09uxZzZgxQz169NDQoUMlSenp6frLX/6iO++8U927d9eePXu0YMECPffcc4qJiZEkbd26VTNmzNCYMWPUokULffLJJ/rmm280ffp0p2UVr4TbBAAAAAAAVaHSbxOYM2eOcnNz9eyzz+qGG25Q7dq1y7ObIl544QWnx4899phGjx6tw4cPKzIyUjk5Odq4caPGjx+v1q1bS5LGjRunp59+WsnJyYqIiNCuXbt07NgxxcbGys/PT6GhoRo8eLCWLFmiQYMGyd3dXevXr1ejRo00YsQISVJwcLD279+vTz75xBEGrFmzRj169FC3bt0kSWPGjNGOHTu0adMm9e/fv0KOFwAAAAAAVyhXGJCamqohQ4bo5ptvruh6nOTk5EiSYyLCw4cPq6CgQFFRUY4+QUFBatCggSMMSE5OVkhIiNNtAzExMZozZ46OHj2qsLAwHThwwGkfkhQdHa0FCxZIkvLz83X48GGnk36r1aqoqCglJycXW2teXp7TCACLxSJvb2/H5wAAAAAAVBflCgPq16+vq1iEoFTsdrsWLFig66+/XiEhIZKkzMxMubu7FxmJ4Ovrq8zMTEefS4OAwvbCtsJ/fz/U39fXV+fPn1dubq6ys7Nlt9uL7MfPz08nTpwott4VK1Zo+fLljsdhYWGaMmVKqYdoAAAAAABQVcoVBtx7771avXq17rjjjmJXFKgIc+fO1dGjR/Xiiy9Wyv4r2oABA9S3b1/H48LRABkZGcrPz3dVWQAAAAAAk3B3d6/YOQPWrFlTZJuXl5eefPJJ3XbbbWrQoIGsVmuRPpeeHJfF3LlztWPHDk2cOFH+/v6O7X5+fsrPz9e5c+ecRgdkZWU5ruL7+fnp4MGDTvvLyspytBX+W7jt0j7e3t7y8PBQ3bp1ZbVaHSMJChU36qCQzWaTzWYrtq2yR1EAAAAAAFAWpQoDFi9eXGLbZ599VmJbWcMAwzA0b948ffvtt4qLi1OjRo2c2sPDw+Xm5qbExETdeuutkqQTJ07o1KlTioiIkCRFREToo48+UlZWluNWgN27d8vb21vBwcGSpBYtWuiHH35w2vfu3bsd+3B3d1d4eLj27Nmjdu3aSfrttoU9e/aod+/eZTomAAAAAACqm1KFATNmzKjsOiT9NiJg8+bN+utf/ypvb2/HlflatWrJw8NDtWrVUvfu3bVo0SL5+PioVq1amjdvniIiIhwn8tHR0QoODtaMGTM0bNgwZWZm6r333lOvXr0cV+579uypzz77TO+88466deumPXv2KCEhQc8995yjlr59+2rmzJkKDw9X8+bNtXbtWl28eFFdu3atkvcCAAAAAIDKYjGq0Rj2QYMGFbt93LhxjpPw3NxcLVq0SFu2bFF+fr6io6M1evRop+H7GRkZmjNnjpKSkuTp6akuXbpo2LBhcnNzc/RJSkrSwoULdezYMfn7+2vgwIFFTvTXrVunVatWKTMzU6GhoRo5cqRatGhRpmPKyMhwWmUAAAAAAIDKYLPZSj1nQLnCgMGDB+uJJ55Qp06dim3funWrXnvtNS1btqysu77mEAYAAAAAAKpCWcKAorP+VQC73e6YTR8AAAAAAFQvFR4G5OTkaOfOnapTp05F7xoAAAAAAFSAUt8m8MEHH2j58uWl3vFdd92lhx56qLx1XTO4TQAAAAAAUBXKcptAqVYTkKTmzZurV69eMgxD69ev14033qjAwMAi/by8vBQeHu5Ykg8AAAAAAFQvpQ4D2rRpozZt2kiSLl68qDvvvLPMM+sDAAAAAADXq1ZLC16LuE0AAAAAAFAVKuU2geKcPn1aKSkpysnJUXGZQpcuXa5m9wAAAAAAoBKUKwzIzc3VzJkztW3btmJDgEKEAQAAAAAAVD/lCgPeffddffvttxoyZIgiIiI0ceJEPfbYY/Lz89PatWt19uxZPfbYYxVdKwAAAAAAqADW8jzpm2++UdeuXdW/f381bdpUklS/fn3deOONeu6551SrVi199tlnFVooAAAAAACoGOUKA3755Rc1b95ckuTh4SFJunDhgqO9ffv2+vbbbyugPAAAAAAAUNHKFQb4+vrq119/lSR5enqqdu3aOnHihKP9/Pnzys3NrZgKAQAAAABAhSrXnAHNmzfX/v37HY9vuukmrV69WvXq1ZNhGPrkk08UERFRYUUCAAAAAICKU64w4O6771ZCQoLy8vJks9k0ePBgJScna8aMGZKkxo0ba+TIkRVaKAAAAAAAqBgW43JrA5aB3W5XamqqrFargoKC5ObmVhG7rfEyMjKUl5fn6jIAAAAAANc4m82mhg0blqpvuUYGFMdqtSo0NLSidgcAAAAAACpJucOAnJwcrV+/XklJScrKytKf/vQnNW/eXNnZ2fryyy918803KyAgoCJrBQAAAAAAFaBcYcDp06cVFxenU6dOKTAwUMePH3csLejj46MNGzYoIyODeQMAAAAAAKiGyhUGLF68WOfPn9fUqVNVt25djRkzxqn9lltu0Y4dOyqkQAAAAAAAULGs5XnS7t27dddddyk4OFgWi6VIe+PGjXX69OmrLg4AAAAAAFS8coUBubm5qlu3bont58+fL3dBAAAAAACgcpUrDAgODta+fftKbP/uu+9YWQAAAAAAgGqqXGHA3XffrS1btmjlypXKycmRJNntdqWlpemNN95QcnKy+vTpU6GFAgAAAACAimExDMMozxM/+ugjffDBBzIMQ4ZhyGKxyDAMWa1WDR48WP3796/gUmumjIwM5eXluboMAAAAAMA1zmazqWHDhqXqW+4wQPrtRHfbtm1KS0uTYRhq3Lix2rdvr8aNG5d3l9ccwgAAAAAAQFWosjAAV0YYAAAAAACoCmUJA9zL8wLnz5/X/v379fPPP+v8+fPy9vZWQECAWrZsKS8vr/LsEgAAAAAAVJEyhQF2u13vvfee1q1bp4sXLxZp9/T01N13361BgwbJai3X3IQAAAAAAKCSlSkMeP3115WQkKDg4GB17NhRTZs2lZeXly5cuKDU1FRt3rxZK1asUHp6up588snKqhkAAAAAAFyFUocBu3fvVkJCgnr16qWHHnqoyJX/W265RQMGDNC8efO0YcMGde/eXa1bt67wggEAAAAAwNUp9Vj++Ph4NW7cWCNHjizxFgCr1apRo0apcePG+vLLLyuqRgAAAAAAUIFKHQYcPHhQ7dq1k8ViufwOrVa1a9dOBw8evOriAAAAAABAxSt1GHD27FkFBASUqm9AQIDOnj1b7qIAAAAAAEDlKXUYcOHChVIvG+jp6akLFy6UuygAAAAAAFB5WP8PAAAAAACTKdPSgkuXLtXKlSuv2C8nJ6e89QAAAAAAgEpW6jDghhtuuOLkgYXq1Kmjxo0bl7soAAAAAABQeSyGYRiuLuJalpGRoby8PFeXAQAAAAC4xtlsNjVs2LBUfZkzAAAAAAAAkyEMAAAAAADAZAgDAAAAAAAwGcIAAAAAAABMhjAAAAAAAACTIQwAAAAAAMBk3Mv7xKysLJ05c0a5ubny8vJSQECAPD09K7I2AAAAAABQCcoUBvz6669auXKltm7dqjNnzji1Wa1WtWjRQn379lW7du0qtEgAAAAAAFBxLIZhGKXpmJGRoX/+8586e/asgoKC5OnpqWPHjqmgoEDdunXTuXPntHfvXmVmZqpHjx7605/+VNm11wgZGRnKy8tzdRkAAAAAgGuczWZTw4YNS9W31CMDFi9erLy8PE2ZMkXNmjWT9NtIgenTpys9PV3PP/+87Ha7Vq1apXfffVfXXXedevToUb4jAAAAAAAAlabUEwgmJibq7rvvdgQBklSnTh0NGzZMu3btUlpamqxWq/r3769bb71V69evr5SCAQAAAADA1Sl1GJCfn69atWoV2V64LTMz07Htxhtv1IkTJ66+OgAAAAAAUOFKHQaEhobq66+/lt1ud9q+ceNGWa1WNWnSxLHtwoUL8vDwqLgqAQAAAABAhSn1nAF/+MMf9K9//UtPP/202rVrJw8PD/34449KTExU9+7dVbduXUffffv2KSQkpFIKBgAAAAAAV6fUqwlI0vbt27VkyRIdP35c0m+3CNx5550aNGiQ3N3/lyt8/fXXCgwMVPPmzSu+4hqG1QQAAAAAAFWhLKsJlCkMKJSdna38/Hz5+vrKYrGUuUAzIQwAAAAAAFSFSlla8FI+Pj7leRoAAAAAAKgGSj2BYFmkpqbqq6++qoxdAwAAAACAq1QpYcD333+vN998szJ2DQAAAAAArlKlhAEAAAAAAKD6KvWcAWW50v/TTz+VqxgAAAAAAFD5Sh0GfPXVV3Jzc3NaQrAkBQUFV1UUAAAAAACoPKUOA/z9/dW0aVP9/e9/v2LfDz/8UO+///5VFQYAAAAAACpHqecMaN68uQ4ePFiqvhaLpdwFAQAAAACAylXqMKB169by8vLSqVOnrti3WbNm6tKly1UVBgAAAAAAKofFMAzD1UVcyzIyMpSXl+fqMgAAAAAA1zibzaaGDRuWqi9LCwIAAAAAYDIVEgZcuHBBy5cvV3p6ekXsDgAAAAAAVKIKCwM++OADwgAAAAAAAGoAbhMAAAAAAMBkCAMAAAAAADCZCgkDrFarGjRoIA8Pj4rYHQAAAAAAqEQsLVjJWFoQAAAAAFAVyrK0oHt5X+TYsWP6+eefdf78eXl7eysgIEBBQUHl3R0AAAAAAKgiZQ4DNmzYoI8++khnzpwp0tagQQPdd9996tGjR4UUBwAAAAAAKl6ZwoBFixbpk08+kY+Pj7p166aQkBB5eXnpwoULSk1N1Xfffaf//ve/OnnypIYPH15ZNQMAAAAAgKtQ6jDg4MGD+uSTT3TLLbfo8ccfl5eXV5E+Dz30kN544w2tXr1aHTp00HXXXVehxQIAAAAAgKtX6jBg48aN8vPz0/jx42Wz2Yrt4+XlpfHjx+uJJ57Qxo0byxwG7N27V6tWrVJKSorOnj2rZ555Ru3atXO0z5w5U1999ZXTc6Kjo/XCCy84HmdnZ2vevHnavn27LBaL2rdvr5EjRzqFFz/99JPmzp2rQ4cOqW7duurdu7fuvfdep/0mJCRo2bJlysjIUEBAgIYNG6a2bduW6XgAAAAAAKiOSh0GJCcnq0OHDiUGAYU8PDx06623KikpqczFXLx4UaGhoerevbv+7//+r9g+MTExGjdunOOxu7vzIbz++us6e/as/vGPf6igoEBvvvmm3nrrLY0fP16SlJOTo5deeklRUVEaM2aMUlNTNWvWLNWuXVt33HGHJOnHH3/Ua6+9pqFDh6pt27bavHmzpk6dqilTpigkJKTMxwUAAAAAQHVS6jDg9OnTpV4tIDg4WPHx8WUupk2bNmrTps1l+7i7u8vPz6/YtmPHjmnnzp16+eWXHaMSRo0apZdfflkPPPCA6tevr82bNys/P1/jxo2Tu7u7mjZtqiNHjmjNmjWOMGDt2rWKiYlRv379JElDhgxRYmKi1q1bpz/96U/FvnZeXp7TEoIWi0Xe3t6OzwEAAAAAqC5KHQbk5OQ4Tm6vxMvLS+fPny93UZezd+9ejR49WrVr11br1q01ZMgQ1alTR9Jvoxdq167tdHtCVFSULBaLDh48qHbt2ik5OVk33HCD04iC6Ohoffzxx8rOzpaPj4+Sk5PVt29fp9eNjo7Wd999V2JdK1as0PLlyx2Pw8LCNGXKlFKv8QgAAAAAQFUp89KCpWUYRoXvMyYmRu3bt1ejRo2Ulpamd999V//61780efJkWa1WZWZmqm7duk7PcXNzk4+PjzIzMyVJmZmZatSokVOfwpEGmZmZjr6+vr5OfXx9fR37KM6AAQOcAoTC0QAZGRnKz88v5xEDAAAAAFA67u7upb4gXaYwYPXq1dqyZcsV+505c6Ysuy21jh07Oj4PCQlRs2bN9MQTTygpKUlRUVGV8pqlZbPZSpxPoTKCEQAAAAAAyqvUYUCDBg2UnZ2t7OzsUvevbI0bN1adOnWUlpamqKgo+fn56ZdffnHqU1BQoOzsbMfVfz8/vyJX+AsfX9onKyvLqU9WVlaJcxUAAAAAAFCTlDoMmDlzZmXWUS6nT59Wdna26tWrJ0mKiIjQuXPndPjwYYWHh0uS9uzZI8Mw1Lx5c0efd999V/n5+Y55A3bv3q0mTZrIx8fH0ScxMVF9+vRxvNbu3bvVokWLqjw8AAAAAAAqhdXVBVzqwoULOnLkiI4cOSJJSk9P15EjR3Tq1ClduHBBixcvVnJystLT05WYmKhXX31VAQEBio6OlvTbKgYxMTF66623dPDgQe3fv1/z5s3Tbbfdpvr160uSOnXqJHd3d82ePVtHjx7V1q1b9emnnzrd73/33Xdr165dWr16tY4fP673339fhw4dUu/evav8PQEAAAAAoKJZjGp0Q3tSUpImTpxYZHuXLl00ZswYTZ06VSkpKTp37pzq16+vG2+8UYMHD3Yavp+dna25c+dq+/btslgsat++vUaNGiUvLy9Hn59++klz587VoUOHVKdOHfXu3Vv9+/d3es2EhAS99957ysjIUGBgoIYNG6a2bduW+ZgyMjKclhwEAAAAAKAy2Gy2Uk8gWOow4JlnnilTERaLRVOnTi3Tc65FhAEAAAAAgKpQljCg1HMG+Pj4OJbLAwAAAAAANVe1uk3gWsTIAAAAAABAVSjLyIBSTyC4fft22e32chcFAAAAAACqh1LfJvDqq6+qTp066tChgzp16qTrr7++MusCAAAAAACVpNS3CXz++efasmWL9u3bJ8Mw1LBhQ3Xq1EmdOnVScHBwZddZY3GbAAAAAACgKlTKagKFzpw5oy1btmjLli1KSUmRJIWGhur222/Xbbfdpvr165e94msYYQAAAAAAoCpUahhwqRMnTmjz5s3asmWL0tLSZLFYFBkZqdtvv13t27dXrVq1yrvrawZhAAAAAACgKlRZGHCpgwcPasuWLdq6dasyMzPl4eGhxYsXV8SuazTCAAAAAABAVaiU1QSupFGjRmrcuLH8/f0lSbm5uRW1awAAAAAAUIFKvZpAcS5cuKBt27Zp8+bN2rNnj+x2uxo2bKgBAwaoU6dOFVUjAAAAAACoQGUOA/Lz87Vjxw5t3rxZP/zwg3Jzc+Xj46MePXqoU6dOatmyZWXUCQAAAAAAKkipw4A9e/Zo8+bN2rZtm3JycmSz2XTTTTfp9ttvV5s2beTm5laZdQIAAAAAgApS6jBg0qRJslgsatWqlWO1AG9v78qsDQAAAAAAVIJShwEPPPCAOnbsqHr16lVmPQAAAAAAoJKVa2nBM2fOaOfOnTp+/LjOnz8vLy8vBQcHKyYmRvXr16+MOmsslhYEAAAAAFSFsiwtWKYJBHNzc7Vo0SJt3LhRBQUFRdrd3NzUvXt3jRgxQh4eHmXZNQAAAAAAqCKlDgMKCgr08ssva+/evWrVqpU6d+6s0NBQeXl56cKFCzpy5Iji4+O1YcMGnThxQv/4xz9ktVors3YAAAAAAFAOpQ4D1q9fr7179+rhhx9Wz549i7SHhoaqa9euWr9+vebOnav169erd+/eFVosAAAAAAC4eqW+dB8fH6+bb7652CDgUj179tRNN92kr7766qqLAwAAAAAAFa/UYcDx48cVExNTqr4xMTE6fvx4eWsCAAAAAACVqNRhgMViUVkWHrBYLOUqCAAAAAAAVK5ShwFNmjTRzp07S9V3586datKkSXlrAgAAAAAAlajUYcDtt9+u7du3a/369Zftt379em3fvl233377VRcHAAAAAAAqXqlXE+jVq5e+/fZbzZ07V99++606d+6sZs2aydvbW+fPn9dPP/2kr7/+Wrt371bLli3Vq1evyqwbAAAAAACUk8Uow0QAFy9e1MKFC7Vp0ybZ7fYi7VarVV27dtWDDz4oLy+vCi20psrIyFBeXp6rywAAAAAAXONsNpsaNmxYqr5lCgMKnTlzRj/88IOOHTum8+fPy9vbW0FBQWrTpo38/f3LXPC1jDAAAAAAAFAVKj0MQOkRBgAAAAAAqkJZwoBSTyCYm5ur//73v/r0008v22/t2rV6++23lZ+fX9pdAwAAAACAKlTqMODzzz/XV199pbZt2162X9u2bfXll19q48aNV10cAAAAAACoeKUOAxISEtS+fXs1btz4sv0CAgJ06623asuWLVddHAAAAAAAqHilDgNSU1PVsmXLUvW9/vrr9dNPP5W7KAAAAAAAUHlKHQbk5+fL3d29VH3d3d2ZNA8AAAAAgGqq1GFA/fr1lZqaWqq+qampql+/frmLAgAAAAAAlafUYUBUVJTi4+OVlZV12X5ZWVmKj49XVFTUVRcHAAAAAAAqXqnDgHvvvVd5eXl68cUXdeDAgWL7HDhwQC+++KLy8vLUr1+/CisSAAAAAABUHIthGEZpO+/YsUOvvfaaLly4oMaNGyskJEReXl66cOGCjh49qrS0NHl6eurJJ5/UzTffXJl11xgZGRnMnwAAAAAAqHQ2m00NGzYsVd8yhQGSlJ6ero8//lg7duzQmTNnHNvr1auntm3b6t57773i8oNmQhgAAAAAAKgKlRoGXOr8+fM6f/68vL295e3tXd7dXNMIAwAAAAAAVaEsYUDp1gosASEAAAAAAAA1T6knEAQAAAAAANcGwgAAAAAAAEyGMAAAAAAAAJMhDAAAAAAAwGQIAwAAAAAAMBnCAAAAAAAATIYwAAAAAAAAkyEMAAAAAADAZAgDAAAAAAAwGcIAAAAAAABMhjAAAAAAAACTIQwAAAAAAMBkCAMAAAAAADAZd1cXAAAAAKBmKCgoUGJiok6fPi1/f39FRUXJzc3N1WUBKAfCAAAAAABXFB8fr1mzZiktLc2xLSAgQI8++qg6d+7swsoAlAe3CQAAAAC4rPj4eMXFxSk8PFwzZ87U2rVrNXPmTIWHhysuLk7x8fGuLhFAGVkMwzBcXcS1LCMjQ3l5ea4uAwAAACiXgoICDR8+XOHh4Zo0aZKs1v9dT7Tb7YqNjVVKSooWL17MLQOAi9lsNjVs2LBUfRkZAAAAAKBEiYmJSktL07Bhw5yCAEmyWq0aOnSoTp48qcTERBdVCKA8mDMAAAAAQIlOnz4tSQoLCyt2AsGwsDCnfgBqBsIAAAAAACXy9/eXJH300Udas2ZNkQkE+/bt69QPQM3AnAGVjDkDAAAAUJMVFBTo/vvvV2Zmpjp06KDhw4crLCxMKSkpeuedd5SQkKB69erpgw8+YM4AwMWYMwAAAABApTAMw/Fx6TYANQu3CQAAAAAoUWJiojIzMzVmzBitXr1ajz/+uKMtMDBQo0eP1pw5c5SYmKiYmBjXFQqgTAgDAAAAAJSocGLAAQMGaPDgwUUmELx48aLmzJnDBIJADUMYAAAAAKBEhRMDpqSkKDIyssjV/5SUFKd+AGoG5gwAAAAAUKKoqCgFBARoyZIlstvtTm12u11Lly5VYGCgoqKiXFQhgPIgDAAAAABQIjc3Nz366KNKSEhQbGyskpKSlJOTo6SkJMXGxiohIUFjx45lJQGghmFpwUrG0oIAAAC4FsTHx2vWrFlKS0tzbAsMDNTYsWPVuXNnF1YGoFBZlhYkDKhkhAEAAAC4VhQUFBSZQJARAUD1UZYwgAkEAQAAAJSKm5sbywcC1wjmDAAAAAAAwGQIAwAAAAAAMBnCAAAAAAAATIYwAAAAAAAAkyEMAAAAAADAZKrVagJ79+7VqlWrlJKSorNnz+qZZ55Ru3btHO2GYej999/XF198oXPnzqlly5YaPXq0AgMDHX2ys7M1b948bd++XRaLRe3bt9fIkSPl5eXl6PPTTz9p7ty5OnTokOrWravevXvr3nvvdaolISFBy5YtU0ZGhgICAjRs2DC1bdu28t8EAAAAAAAqWbUaGXDx4kWFhobq4YcfLrb9448/1qeffqoxY8boX//6lzw9PTV58mTl5uY6+rz++us6evSo/vGPf+i5557Tvn379NZbbznac3Jy9NJLL6lBgwZ65ZVXNHz4cH3wwQf6/PPPHX1+/PFHvfbaa+revbumTJmiW265RVOnTlVqamrlHTwAAAAAAFWkWoUBbdq00ZAhQ5xGAxQyDENr167Vfffdp1tuuUXNmjXT448/rrNnz+q7776TJB07dkw7d+7U2LFj1aJFC7Vs2VKjRo3S1q1bdebMGUnS5s2blZ+fr3Hjxqlp06bq2LGj7rrrLq1Zs8bxWmvXrlVMTIz69eun4OBgDRkyROHh4Vq3bl3VvBEAAAAAAFSianWbwOWkp6crMzNTN954o2NbrVq11Lx5cyUnJ6tjx45KTk5W7dq1dd111zn6REVFyWKx6ODBg2rXrp2Sk5N1ww03yN39f4ceHR2tjz/+WNnZ2fLx8VFycrL69u3r9PrR0dGO0KE4eXl5ysvLczy2WCzy9vZ2fA4AAAAAQHVRY8KAzMxMSZKvr6/Tdl9fX0dbZmam6tat69Tu5uYmHx8fpz6NGjVy6uPn5+doK+x7udcpzooVK7R8+XLH47CwME2ZMkUNGzYs5RECAAAA1VtBQYG+//57ZWRkqGHDhrr55pvl5ubm6rIAlEONCQOquwEDBjiNJigcDZCRkaH8/HxXlQUAAABUiPj4eL355ptKS0tzbAsICNC4cePUuXNnF1YGoJC7u3upL0jXmDCg8Op9VlaW6tWr59ielZWl0NBQR59ffvnF6XkFBQXKzs52PN/Pz6/IFf7Cx5f2ycrKcuqTlZXlaC+OzWaTzWYrts0wjJIPDAAAAKjm4uPjFRcXpw4dOig2NlZhYWFKSUnRkiVLNGHCBMXFxREIADVMtZpA8HIaNWokPz8/JSYmOrbl5OTo4MGDioiIkCRFRETo3LlzOnz4sKPPnj17ZBiGmjdv7uizb98+p6v1u3fvVpMmTeTj4+Poc+nrFPZp0aJFpR0fAAAAUB0VFBRo1qxZ6tChgyZNmqTIyEh5e3srMjJSkyZNUocOHTR79mwVFBS4ulQAZVCtwoALFy7oyJEjOnLkiKTfJg08cuSITp06JYvForvvvlsfffSRvv/+e6WmpmrGjBmqV6+ebrnlFklScHCwYmJi9NZbb+ngwYPav3+/5s2bp9tuu03169eXJHXq1Enu7u6aPXu2jh49qq1bt+rTTz91GuJ/9913a9euXVq9erWOHz+u999/X4cOHVLv3r2r/D0BAAAAXCkxMVFpaWkaNmyYrFbn0wer1aqhQ4fq5MmTRS6mAajeLEY1GsOelJSkiRMnFtnepUsXPfbYYzIMQ++//74+//xz5eTkqGXLlnr44YfVpEkTR9/s7GzNnTtX27dvl8ViUfv27TVq1Ch5eXk5+vz000+aO3euDh06pDp16qh3797q37+/02smJCTovffeU0ZGhgIDAzVs2DC1bdu2zMeUkZHhtMoAAAAAUJN88cUXeumll7R27VrHalmXysnJUZ8+ffSPf/xDPXr0cEGFAArZbLZSzxlQrcKAaxFhAAAAAGqynTt36umnn9bMmTMVGRlZpD0pKUmPP/64/vOf/ygmJqbqCwTgUJYwoFrdJgAAAACgeomKilJAQICWLFkiu93u1Ga327V06VIFBgYqKirKRRUCKA/CAAAAAAAlcnNz06OPPqqEhATFxsYqKSlJOTk5SkpKUmxsrBISEjR27Fi5ubm5ulQAZcBtApWM2wQAAABwLYiPj9esWbOUlpbm2BYYGKixY8eyrCBQTTBnQDVCGAAAAIBrRUFBgRITE3X69Gn5+/srKiqKEQFANVKWMMC9kmsBAAAAcI1wc3NjkkDgGsGcAQAAAAAAmAwjAwCYTm5urlatWqXjx48rKChI/fr1k4eHh6vLAgAAAKoMcwZUMuYMAKqX2bNna/ny5SooKHBsc3Nz0/3336+xY8e6sDIAAADg6jBnAAAUY/bs2Vq2bJnq1aunhx9+WB06dFBCQoLmzp2rZcuWSRKBAAAAAEyBkQGVjJEBQPWQm5uru+++W3Xr1tX7778vd/f/ZaH5+fkaNGiQfvnlF61du5ZbBgAAAFAjlWVkABMIAjCFVatWqaCgQA8//LBTECBJ7u7uGjlypAoKCrRq1SoXVQgAAABUHcIAAKZw/PhxSVKHDh2KbS/cXtgPAAAAuJYRBgAwhaCgIElSQkJCse2F2wv7AQAAANcywgAAptCvXz+5ublp7ty5unjxonbu3KkvvvhCO3fu1MWLFzV//ny5ubmpX79+ri4VAAAAqHSsJgDAFDw8PHT//fdr2bJluvvuu2W32x1tVqtVdrtdgwcPZvJAAAAAmAIjAwCYRmRkpCQ5BQGXPi5sBwAAAK51LC1YyVhaEKgeCgoKNHz4cIWHhys2NlZr1qzR8ePHFRQUpL59+2rSpElKSUnR4sWL5ebm5upyAQAAgDIry9KC3CYAwBQSExOVlpam2NhYeXl56f7773dqHzp0qB5//HElJiYqJibGNUUCAAAAVYTbBACYwunTpyVJYWFhxbYXbi/sBwAAAFzLCAMAmIK/v78kKSUlpdj2wu2F/QAAAIBrGWEAAFOIiopSQECAlixZUuwEgkuXLlVgYKCioqJcVCEAAABQdQgDAJiCm5ubHn30USUkJCg2NlZJSUnKyclRUlKSYmNjlZCQoLFjxzJ5IAAAAEyB1QQqGasJANVLfHy8Zs2apbS0NMe2wMBAjR07Vp07d3ZhZQAAAMDVKctqAoQBlYwwAKh+CgoKlJiYqNOnT8vf319RUVGMCAAAAECNV5YwgNsEAAAAAAAwGXdXFwAAVam42wQCAgL06KOPcpsAAAAATIORAQBMIz4+XnFxcQoPD9fMmTO1du1azZw5U+Hh4YqLi1N8fLyrSwQAAACqBHMGVDLmDACqh4KCAg0fPlzh4eGaNGmSrNb/ZaF2u12xsbFKSUnR4sWLmT8AAAAANRJzBgDA7yQmJiotLU3Dhg1zCgIkyWq1aujQoTp58qQSExNdVCEAANVfQUGBdu7cqS+++EI7d+5UQUGBq0sCUE7MGQDAFE6fPi1JCgsLK7a9cHthPwAA4Ix5d4BrCyMDAJiCv7+/JCklJaXY9sLthf0AAMD/MO8OcO0hDABgClFRUQoICNCSJUtkt9ud2ux2u5YuXarAwEBFRUW5qEIAAKqngoICzZo1Sx06dNCkSZMUGRkpb29vRUZGatKkSerQoYNmz57NLQNADUMYAMAU3Nzc9OijjyohIUGxsbFKSkpSTk6OkpKSFBsbq4SEBI0dO5bJAwEA+B3m3QGuTcwZAMA0OnfurLi4OM2aNUuPP/64Y3tgYKDi4uK43xEAgGIw7w5wbSIMAGAqnTt3VseOHZWYmKjTp0/L399fUVFRjAgAAKAEl867ExkZWaSdeXeAmokwAIDpuLm5KSYmxtVlAABQI1w6705cXJySkpIcgXqrVq2YdweooSyGYRiuLuJalpGRoby8PFeXAQAAAJRb4WoCHh4eunjxomO7p6encnNzud0OqCZsNpsaNmxYqr5MIAgAAADgikq6hsi1RaBmYmRAJWNkAAAAAGqygoICDR8+XOHh4cXeJhAXF6eUlBQtXryYOXgAF2NkAAAAAIAKcenSgjabTTExMerRo4diYmJks9lYWhCooQgDAAAAAJSIpQWBaxNhAAAAAIASXbq0YHFYWhComQgDAAAAAJTo0qUF8/LytHPnTn3xxRfauXOn8vLyWFoQqKGYQLCSMYEgAAAAarr4+HhNmDBBHh4eys3NdWwvfDxx4kSWFgSqASYQBAAAAFDhLg0CinsMoOZgZEAlY2QAAAAAarKCggLdf//9yszM1K233qr27dvL09NTFy9e1LZt2/TNN9/Iz89Py5cvZ2lBwMXKMjLAvZJrAQAAAFCD7dq1S5mZmYqKitLkyZNltf5vcHG/fv00fvx47dmzR7t27VLbtm1dWCmAsuA2AQAAAAAl+uGHHyRJI0eOdAoCJMlqteqhhx5y6gegZiAMAAAAAFAii8UiSbrS3cWF/QDUDIQBAAAAAEoUHR0tSVqwYIHsdrtTm91u18KFC536AagZmDMAAAAAQIliYmLk5+enxMREvfDCC2rfvr1jScFt27YpMTFR9erVU0xMjKtLBVAGrCZQyVhNAAAAADVdfHy8JkyYUGL7xIkT1blz5yqsCEBxyrKaALcJAAAAACgVT0/Pyz4GUHMwMqCSMTIAAAAANVlBQYGGDx+u8PBwxcbGas2aNTp+/LiCgoLUt29fTZo0SSkpKVq8eLHc3NxcXS5gamUZGcCcAQAAAABKlJiYqLS0NN1zzz0aOXKk0tLSHG0ffvih+vbtq61btyoxMZF5A4AahDAAAAAAQIlOnz4tSZozZ446dOig2NhYhYWFKSUlRUuWLNHcuXOd+gGoGZgzAAAAAECJ6tWrJ0lq3bq1Jk2apMjISHl7eysyMlKTJk1Sq1atnPoBqBkIAwAAAACU6EpTjFksllL1A1C9EAYAAAAAKFFmZqak3+YOiI2NVVJSknJycpSUlKTY2FglJiY69QNQMzBnAAAAAIAS+fv7S5JGjx6tNWvW6PHHH3e0BQYGavTo0ZozZ46jH4CagTAAAAAAQImioqIUEBCgvXv3atGiRUpKStLp06fl7++vVq1aKS4uToGBgYqKinJ1qQDKgNsEAAAAAJTIzc1Njz76qBISEhQXFyebzaYOHTrIZrMpLi5OCQkJGjt2rNzc3FxdKoAysBjM9FGpMjIylJeX5+oyAAAAgKsSHx+vWbNmKS0tzbEtMDBQY8eOVefOnV1YGYBCNptNDRs2LFVfwoBKRhgAAACAa0Vubq5WrVql48ePKygoSP369ZOHh4erywLw/xEGVCOEAQAAALgWFDcyICAgQI8++igjA4BqgjCgGiEMAAAAQE0XHx+vuLg43XrrrWrXrp08PT118eJFffvtt/rmm28UFxdHIABUA4QB1QhhAAAAAGqygoICDR8+XL6+vsrKyioyMsDX11e//PKLFi9ezCSCgIuVJQxgNQEAAAAAJUpMTFRaWpqSk5MVHh6umTNnau3atZo5c6bCw8OVnJyskydPKjEx0dWlAigDwgAAAAAAJcrIyJAktWvXTpMmTVJkZKS8vb0VGRmpSZMm6ZZbbnHqB6BmIAwAAAAAUKKsrCxJ0u233y6r1fn0wWq1qlOnTk79ANQMhAEAAAAASuTr6ytJ+vrrr2W3253a7Ha7tmzZ4tQPQM1AGAAAAACgRIWTkW3btk2xsbFKSkpSTk6OkpKSFBsbq23btjn1A1AzuLu6AAAAAADVV1RUlGPVgEOHDunxxx93tAUEBOj666/XL7/8oqioKBdWCaCsCAMAAAAAlMjNzU2PPvqo4uLidOutt2rIkCHy8PBQbm6uvv32W33zzTeKi4tjWUGghrEYhmG4uojSev/997V8+XKnbU2aNNH06dMlSbm5uVq0aJG2bt2qvLw8RUdHa/To0fLz83P0P3XqlN5++20lJSXJy8tLXbp00dChQ51+eSUlJWnRokU6evSo/P39NXDgQHXt2rVcNWdkZCgvL69czwUAAACqi/j4eM2aNUtpaWmObYGBgRo7dqw6d+7swsoAFLLZbKW+ZafGjQxo2rSpYmNjHY8vndF04cKF2rFjh/785z+rVq1amjt3rqZNm6ZJkyZJ+m2Ck5dffll+fn566aWXdPbsWc2YMUNubm4aOnSoJCk9PV2vvPKK7rzzTj3xxBPas2ePZs+eLT8/P8XExFTpsQIAAADVRefOndWxY0clJibq9OnT8vf3V1RUFCMCgBqqxoUBVqvV6Up/oZycHG3cuFHjx49X69atJUnjxo3T008/reTkZEVERGjXrl06duyYYmNj5efnp9DQUA0ePFhLlizRoEGD5O7urvXr16tRo0YaMWKEJCk4OFj79+/XJ598QhgAAAAAU3Nzc+P/xMA1osaFAWlpaXrkkUdks9kUERGhoUOHqkGDBjp8+LAKCgqcJi4JCgpSgwYNHGFAcnKyQkJCnMKEmJgYzZkzR0ePHlVYWJgOHDhQZPKT6OhoLViw4LJ15eXlOd0OYLFY5O3t7fgcAAAAAIDqokaFAS1atNC4cePUpEkTnT17VsuXL9c///lPTZs2TZmZmXJ3d1ft2rWdnuPr66vMzExJUmZmZpFRBYXroV7a5/drpPr6+ur8+fPKzc2Vh4dHsbWtWLHCaT6DsLAwTZkyhSVWAAAAAADVTo0KA9q0aeP4vFmzZo5wICEhocST9KoyYMAA9e3b1/G4cDRARkaG8vPzXVUWAAAAAMAk3N3dr90JBC9Vu3ZtNWnSRGlpabrxxhuVn5+vc+fOOY0OyMrKcowG8PPz08GDB532kZWV5Wgr/Ldw26V9vL29Lxs42Gw22Wy2Yttq0IINAAAAAAATsF65S/V14cIFpaWlyc/PT+Hh4XJzc1NiYqKj/cSJEzp16pQiIiIkSREREUpNTXU62d+9e7e8vb0VHBws6bdbES7dR2Gfwn0AAAAAAFDT1agwYNGiRdq7d6/S09P1448/aurUqbJarerUqZNq1aql7t27a9GiRdqzZ48OHz6sN998UxEREY4T+ejoaAUHB2vGjBk6cuSIdu7cqffee0+9evVyXNXv2bOn0tPT9c477+j48eP67LPPlJCQoD59+rjy0AEAAAAAqDAWowaNYZ8+fbr27dunX3/9VXXr1lXLli01ZMgQBQQESJJyc3O1aNEibdmyRfn5+YqOjtbo0aOdJg3MyMjQnDlzlJSUJE9PT3Xp0kXDhg1zWh81KSlJCxcu1LFjx+Tv76+BAweqa9eu5ao5IyPDaZUBAAAAAAAqg81mK/WcATUqDKiJCAMAAAAAAFWhLGFAjbpNAAAAAAAAXD3CAAAAAAAATKZGLy0IAAAAc7tw4YJSU1NdXQZQJUJCQuTl5eXqMnCNIAwAAABAjZWamqpHHnnE1WUAVeKtt95iyXNUGCYQrGRMIAgAAFB5GBlQ9VJTUzV58mS98MILCgkJcXU5psLIAFxJWSYQZGQAAAAAaiwvLy+ulLpISEgI7z1QgzGBIAAAAAAAJkMYAAAAAACAyRAGAAAAAABgMoQBAAAAAACYDGEAAAAAAAAmQxgAAAAAAIDJsLQgUA2wRjLMhDWSAQAAXI8wAKgGUlNT9cgjj7i6DKBKvPXWW6xLDQAA4GKEAUA1EBISorfeesvVZZhKamqqJk+erBdeeEEhISGuLsdUeL8BAABcjzAAqAa8vLy4UuoiISEhvPcAAAAwHSYQBAAAAADAZAgDAAAAAAAwGcIAAAAAAABMhjAAAAAAAACTIQwAAAAAAMBkCAMAAAAAADAZwgAAAAAAAEyGMAAAAAAAAJMhDAAAAAAAwGQIAwAAAAAAMBnCAAAAAAAATIYwAAAAAAAAkyEMAAAAAADAZNxdXQCqp59//llZWVmuLgOoNKmpqU7/AtcqX19fNW7c2NVlAACAaoYwAEX8/PPPemjECF3IzXV1KUClmzx5sqtLACqVl4eHFixaRCAAAACcEAagiKysLF3IzdXf8vPV1DBcXQ4AoJyOWiyaot9+rxMGVB1G1+Fax+g6mMW1PrqOMAAlamoYakEYAABAqf388896YMQDysvNc3UpQKVjdB2udTYPmxYvWnzNBgKEAQAAABUkKytLebl5yorOUoFPgavLAQCUk1u2m3x3+V7To+sIAwAAACpYgU+B8n3zXV0GAAAlYmlBAAAAAABMhjAAAAAAAACTIQwAAAAAAMBkCAMAAAAAADAZwgAAAAAAAEyGMAAAAAAAAJMhDAAAAAAAwGQIAwAAAAAAMBnCAAAAAAAATIYwAAAAAAAAkyEMAAAAAADAZAgDAAAAAAAwGXdXFwAAAHCtcct2c3UJAICrYIbf44QBAAAAFcx3l6+rSwAA4LIIA1Cio5Jksbi6DABAOR11dQEmlhWdpQKfAleXAQAoJ7dst2s+2CUMQImm2GyuLgEAgBqpwKdA+b75ri4DAIASEQagRH/Ly1NTVxcBACi3oyLYBQAAxSMMQImaSmphGK4uAwBQXtzqBQAASsDSggAAAAAAmAxhAAAAAAAAJkMYAAAAAACAyRAGAAAAAABgMoQBAAAAAACYDGEAAAAAAAAmw9KCAAAAFcwt283VJQAAroIZfo8TBgAAAFQQX19f2Txs8t3l6+pSAABXyeZhk6/vtfv7nDAAAACggjRu3FiLFy1WVlaWq0sBKk1qaqomT56sF154QSEhIa4uB6g0vr6+aty4savLqDSEASjRUYvF1SUAAK4Cv8ddo3Hjxtf0fx6BQiEhIYqIiHB1GQDKiTAARfj6+srLw0NTXF0IAOCqeXl4XNNDHAEAQPkQBqCIxo0ba8GiRQxxxDWNIY4wi2t9iCMAACgfwgAUiyGOMAuGOAIAAMCMrK4uAAAAAAAAVC3CAAAAAAAATIYwAAAAAAAAkyEMAAAAAADAZAgDAAAAAAAwGcIAAAAAAABMhqUFgWrgwoULSk1NdXUZplL4fvO+V72QkBB5eXm5ugwAAABTIwwAqoHU1FQ98sgjri7DlCZPnuzqEkznrbfeUkREhKvLAHCNIFCvegTqrkOgjopkMQzDcHUR17KMjAzl5eW5ugxUc/xHBmbCf2QAVKTk5GQCdZgGgTquxGazqWHDhqXqSxhwBevWrdPq1auVmZmpZs2aadSoUWrevHmpn08YAAAAUHkI1GEmBOq4EsKACrJ161bNmDFDY8aMUYsWLfTJJ5/om2++0fTp0+Xr61uqfRAGAAAAAACqQlnCAFYTuIw1a9aoR48e6tatm4KDgzVmzBh5eHho06ZNri4NAAAAAIByYwLBEuTn5+vw4cPq37+/Y5vValVUVJSSk5OL9M/Ly3MaAWCxWOTt7e34HAAAAACA6oIwoAS//PKL7Ha7/Pz8nLb7+fnpxIkTRfqvWLFCy5cvdzwOCwvTlClTSj1EAwAAAACAqkIYUEEGDBigvn37Oh4XjgbIyMhQfn6+q8oCAAAAAJiEu7t7qS9IEwaUoG7durJarcrMzHTanpmZWWS0gPTbRA02m63YfTFHIwAAAACgOmECwRK4u7srPDxce/bscWyz2+3as2cPa3sCAAAAAGo0RgZcRt++fTVz5kyFh4erefPmWrt2rS5evKiuXbu6ujQAAAAAAMqNMOAybrvtNv3yyy96//33lZmZqdDQUD3//PPF3iYAAAAAAEBNYTG4ob1SZWRkOC05CAAAAABAZbDZbKWeQJA5AwAAAAAAMBnCAAAAAAAATIYwAAAAAAAAkyEMAAAAAADAZAgDAAAAAAAwGcIAAAAAAABMhjAAAAAAAACTIQwAAAAAAMBkCAMAAAAAADAZwgAAAAAAAEyGMAAAAAAAAJMhDAAAAAAAwGQIAwAAAAAAMBnCAAAAAAAATIYwAAAAAAAAk3F3dQHXOnd33mIAAAAAQOUry/mnxTAMoxJrAQAAAAAA1Qy3CQAwpfPnz+tvf/ubzp8/7+pSAACoUfgbClwbCAMAmJJhGEpJSRGDowAAKBv+hgLXBsIAAAAAAABMhjAAAAAAAACTIQwAYEo2m03333+/bDabq0sBAKBG4W8ocG1gNQEAAAAAAEyGkQEAAAAAAJgMYQAAAAAAACZDGAAAAAAAgMkQBgAAAAAAYDKEAQBqpPXr12vEiBEqKChwbLtw4YL++Mc/Ki4uzqlvUlKSBg0apLS0tHK/Xnp6ugYNGqQjR46Uex8AAFQ3M2fO1KBBg4p8TJ48+ar3Xfj399y5cxVQKYCK5u7qAgCgPFq3bq0LFy7o0KFDioiIkCTt27dPfn5+OnDggHJzc+Xh4SHpt/+MNGjQQAEBAa4sGQCAaikmJkbjxo1z2ubuzmkCcK3jpxxAjdSkSRPVq1dPe/fudYQBSUlJuvnmm7Vnzx4dOHBArVq1cmxv1aqV7Ha7Pv74Y33++efKzMxUkyZNNHDgQN16662SpOzsbM2bN0+7du3ShQsX5O/vrwEDBqhbt256/PHHJUl//etfJUmRkZFFRiAAAFATubu7y8/Pr9i2NWvWaNOmTUpPT5ePj49uuukmDR8+XF5eXpKkjIwMzZ07Vz/++KPy8/PVsGFDDR8+XMHBwZo4caIkaeTIkZKkLl266LHHHquSYwJwZYQBAGqsVq1aKSkpSf3795f020n/vffeK7vd7ggAcnNzdfDgQXXr1k0rV67U119/rTFjxigwMFD79u3TG2+8obp16yoyMlLLli3TsWPH9Pzzz6tOnTpKS0tTbm6uJOlf//qXnn/+ecXGxqpp06ZcMQEAmILFYtHIkSPVqFEjpaena86cOXrnnXc0evRoSdLcuXOVn5+viRMnytPTU8eOHZOXl5caNGigv/zlL5o2bZqmT5+uWrVqOUbsAage+N8sgBqrVatWWrBggQoKCpSbm6sjR44oMjJS+fn52rBhgyQpOTlZeXl5atWqlf785z8rNjbWMZKgcePG2r9/vzZs2KDIyEidOnVKoaGhuu666yRJjRo1crxW3bp1JUl16tQp8eoJAAA10Y4dO/TAAw84bRswYIDuu+8+9enTx7GtUaNGGjJkiN5++21HGHDq1Cm1b99eISEhkn7721rIx8dHkuTr66vatWtX9mEAKCPCAAA1VqtWrXTx4kUdOnRI2dnZCgwMdFzlnzVrlnJzc5WUlKTGjRvrwoULunjxoiZNmuS0j/z8fIWFhUmSevbsqWnTpiklJUXR0dG65ZZbdP3117vi0AAAqDKtWrXSmDFjnLYVnsjv3r1bK1eu1PHjx3X+/HkVFBQoLy9PFy9elKenp+666y7NmTNHu3fvVlRUlNq3b69mzZq54jAAlBFhAIAaKyAgQP7+/tqzZ4/OnTunyMhISVL9+vXl7++v5ORkx+0CFy5ckCT9/e9/V/369Z32Uzjkv02bNnrzzTe1Y8cO7d69Wy+++KJ69eqlESNGVO2BAQBQhTw9PYudZDc9PV1TpkzRnXfeqSFDhsjHx0f79+/X7NmzlZ+fL09PT/Xo0UPR0dGOv50rVqzQiBEjdNddd7ngSACUBUsLAqjRWrVqpb1792rv3r2OMECSbrjhBv3www86ePCgWrdureDgYNlsNp06dUoBAQFOHw0aNHA8r27duuratauefPJJPfTQQ/riiy8k/S8wsNvtVXuAAAC4yOHDh2W32zVixAhFRESoSZMmOnv2bJF+DRo0UM+ePfXMM8/onnvu4W8nUEMwMgBAjdaqVSvNnTtXBQUFTmFAZGSk5s2bp/z8fLVq1Ure3t665557tHDhQtntdrVs2VI5OTn68ccf5e3tra5du2rZsmUKDw9X06ZNlZeXp+3btysoKEjSb/c7enh4aOfOnapfv748PDxUq1YtVx02AAAVJj8/X5mZmU7brFarAgICVFBQoHXr1ummm27Sjz/+6JiTp9CCBQsUExOjJk2aKDs7W0lJSY6/nQ0bNpTFYtH27dvVtm1beXh4OFYhAOB6hAEAarTCFQOCgoKcJvaLjIzU+fPnHUsQStLgwYNVt25drVy5Uj///LNq166tsLAwDRgwQNJvVzCWLl2qjIwMeXh4qGXLlnrqqackSW5ubho5cqSWL1+uZcuW6YYbbmBpQQDANWHnzp3605/+5LStSZMmmj59ukaMGKGPP/5YS5cu1Q033KChQ4dqxowZjn52u11z587VmTNn5O3trZiYGD344IOSfrtt7w9/+IOWLl2qWbNmqXPnziwtCFQjFsMwDFcXAQAAAAAAqg5zBgAAAAAAYDKEAQAAAAAAmAxhAAAAAAAAJkMYAAAAAACAyRAGAAAAAABgMoQBAAAAAACYDGEAAAAAAAAmQxgAAAAAAIDJEAYAAAAAAGAy7q4uAAAAXBvS0tK0atUq7d69W2fPnpW7u7tCQkLUoUMH3XHHHfLw8HBJXR999JGCg4PVrl07l7w+AADVEWEAAAC4ajt27NC///1v2Ww2de7cWU2bNlV+fr7279+vxYsX6+jRo3rkkUdcUtuKFSt06623EgYAAHAJwgAAAHBV0tPTNX36dDVs2FD//Oc/Va9ePUdb7969lZaWph07driwQgAA8HsWwzAMVxcBAPh/7d1NSBTqHsfxr8GgzhApnlSCDKIwK4OySBAdSSg0a2FZbWoZkYEUtO4N160CTSgIhAhCKXGhLpxqEYgUNgX2QoaZZTlJMiOm0l0193g71L127r2nM9/Panie/zzM82wGfjwv0q+rtbWVnp4eLly4QGFh4Xdr5+fnaW9vJxKJMDExQXZ2NmVlZdTX1xMIBJJ1/f399Pb2Mjw8zNTUFDk5OYTDYerq6liy5J9XHo2NjdHW1sbQ0BCJRIKlS5eybt06jh49SjAY5MCBA9/8hnA4TENDw5+3AJIk/YLcGSBJkn7KwMAAeXl5PwwCAJqbm4lEIpSWllJbW8uzZ8/o6OhgdHSU06dPJ+v6+vrIyMhg9+7dZGRkEI1GuXHjBtPT0xw+fBiAubk5mpqamJ2dpbq6mqysLGKxGAMDA8TjcYLBICdOnKClpYU1a9ZQVVUFQH5+/n9nISRJ+oUYBkiSpEVLJBLEYjG2bt36w9rh4WEikQg7duzg2LFjAOzatYtly5Zx+/ZtotEoGzduBKCxsXHBhYM7d+7k8uXLdHd3c+jQIQKBAK9fv2Z8fJxTp05RWlqarN2/f3/yc0VFBa2treTm5lJRUfFnTVuSpF+eTwtKkqRFm56eBiAzM/OHtQ8ePACgtrZ2QfuePXsAFtwr8PsgYHp6mk+fPlFUVMTMzAyjo6MABINBAB4+fMjMzMxPzEKSpNTjzgBJkrRoX0OAr6HA97x//560tLRvtulnZWURCoX48OFDsm1kZITr168TjUa/GTuRSACQm5tLbW0tnZ2d3Lt3j6KiIkpKSqioqEgGBZIk6Y8ZBkiSpEULBoNkZ2czMjLyb38nLS3tu/3xeJyzZ8+SmZnJwYMHycvLIxAI8PLlS9ra2vj93cdHjhyhsrKS/v5+BgcHuXr1Kh0dHTQ1NZGTk7PoeUmS9HfnMQFJkvRTSkpKePfuHU+fPv1u3fLly/ny5QtjY2ML2icnJ4nH4/z2228APH78mKmpKY4fP05NTQ0lJSVs2rSJUCj0h+MWFBSwb98+zp07x/nz54nFYvT09CT7fxQ+SJKUigwDJEnST9m7dy/p6ek0NzczOTn5Tf/bt2/p6upi8+bNAHR1dS3o7+zsBGDLli0AC54O/Gpubo7u7u4FbYlEgvn5+QVtBQUFpKWlMTs7m2xLT08nHo//5xOTJOlvzGMCkiTpp+Tn59PY2MjFixc5efIk4XCYlStXMjc3x9DQEPfv36eyspKamhrC4TC9vb3E43HWr1/P8+fPiUQibNu2LfmSQGFhIaFQiEuXLlFdXQ3A3bt3FxwPAIhGo1y5coXS0lJWrFjB/Pw8d+7cYcmSJWzfvj1Zt3r1ah49ekRnZyfZ2dnk5uaydu3a/90CSZL0F5T25V//WSVJkhZhbGyMW7duMTg4yMePHwkEAhQUFFBWVkZVVRWBQID5+Xna29vp6+tjYmKCrKwsysvLqa+vJxAIJMcaGhri2rVrvHr1ilAoRHl5OcXFxTQ1NXHmzBk2bNjA+Pg4N2/e5MmTJ8RiMdLT01m1ahV1dXUUFxcnx3rz5g0tLS28ePGCz58/Ew6HaWho+H8skSRJfxmGAZIkSZIkpRjvDJAkSZIkKcUYBkiSJEmSlGIMAyRJkiRJSjGGAZIkSZIkpRjDAEmSJEmSUoxhgCRJkiRJKcYwQJIkSZKkFGMYIEmSJElSijEMkCRJkiQpxRgGSJIkSZKUYgwDJEmSJElKMYYBkiRJkiSlmH8AxWfUxnG1wxUAAAAASUVORK5CYII=",
=======
      "image/png": "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",
>>>>>>> f7cf30d55162985d7c6703a170c027bd721cebf9
      "text/plain": [
       "<Figure size 1200x800 with 1 Axes>"
      ]
     },
     "metadata": {},
     "output_type": "display_data"
    }
   ],
   "source": [
    "plt.figure(figsize = (12, 8))\n",
    "\n",
    "boxplot = sns.boxplot(data = df, y = 'COVID-19 Deaths', x = 'Coast', palette = ['r', 'g'])\n",
    "boxplot.set_xlabel('Coast')\n",
    "boxplot.set_title('COVID-19 Deaths for West and East Coast')\n",
    "\n"
   ]
  },
  {
   "cell_type": "markdown",
   "metadata": {},
   "source": [
    "Looking at this graph, we can see the general distributions of COVID-19 Deaths between the West and East Coast. We can see that the East Coast has more outliers than the West Coast. We can also see that the interquartile range between the West and East Coast are fairly similar."
   ]
  },
  {
<<<<<<< HEAD
   "cell_type": "code",
   "execution_count": 58,
=======
   "cell_type": "markdown",
   "metadata": {},
   "source": [
    "### Percentage of Total Deaths caused by COVID vs Coast\n",
    "\n",
    "However, order to more accurately measure the relationship between coasts and COVID deaths, we also want to take a look at the covid death rates divided the total deaths in the population. Otherwise (whichever coast has the higher population would just end up having a higher number of COVID deaths). Also, this would negate the effect of the largest counties, such as Los Angeles County, being outliers compared to the median county size"
   ]
  },
  {
   "cell_type": "code",
   "execution_count": 38,
>>>>>>> f7cf30d55162985d7c6703a170c027bd721cebf9
   "metadata": {},
   "outputs": [
    {
     "name": "stderr",
     "output_type": "stream",
     "text": [
<<<<<<< HEAD
      "/tmp/ipykernel_3042/3455874404.py:3: UserWarning: set_ticklabels() should only be used with a fixed number of ticks, i.e. after set_ticks() or using a FixedLocator.\n",
      "  boxplot.set_xticklabels(boxplot.get_xticklabels(), rotation=40, ha=\"right\")\n"
=======
      "/var/folders/ky/91lk79yn3gd90j52mfhp82bm0000gn/T/ipykernel_29448/983476498.py:3: FutureWarning:\n",
      "\n",
      "\n",
      "\n",
      "Passing `palette` without assigning `hue` is deprecated and will be removed in v0.14.0. Assign the `x` variable to `hue` and set `legend=False` for the same effect.\n",
      "\n",
      "\n"
     ]
    },
    {
     "data": {
      "text/plain": [
       "Text(0.5, 1.0, 'Ratio of Total Deaths due to COVID for West and East Coast')"
      ]
     },
     "execution_count": 38,
     "metadata": {},
     "output_type": "execute_result"
    },
    {
     "data": {
      "image/png": "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",
      "text/plain": [
       "<Figure size 1200x800 with 1 Axes>"
      ]
     },
     "metadata": {},
     "output_type": "display_data"
    }
   ],
   "source": [
    "plt.figure(figsize = (12, 8))\n",
    "\n",
    "boxplot = sns.boxplot(data = df, y = 'Portion of Deaths due to COVID', x = 'Coast', palette = ['r', 'g'])\n",
    "boxplot.set_xlabel('Coast')\n",
    "boxplot.set_title('Ratio of Total Deaths due to COVID for West and East Coast')"
   ]
  },
  {
   "cell_type": "markdown",
   "metadata": {},
   "source": [
    "Based on this distribution, we can see that West Coast states have a much lower median COVID death rate than \n",
    "the East Coast, at around 0.75, whereas the East coast states have a higher median rate at around 0.95. Furthermore, the East distribution seems to have a few outliers at a significantly higher COVID \n",
    "death rate."
   ]
  },
  {
   "cell_type": "markdown",
   "metadata": {},
   "source": [
    "Now, let's take a look at our four different types of urbanization areas, which are Small Metro, Medium Metro, Large Fringe Metro and Large Central Metro.\n",
    "\n",
    "### Total COVID Deaths vs Urbanization"
   ]
  },
  {
   "cell_type": "code",
   "execution_count": 39,
   "metadata": {},
   "outputs": [
    {
     "name": "stderr",
     "output_type": "stream",
     "text": [
      "/var/folders/ky/91lk79yn3gd90j52mfhp82bm0000gn/T/ipykernel_29448/2532742104.py:3: UserWarning:\n",
      "\n",
      "set_ticklabels() should only be used with a fixed number of ticks, i.e. after set_ticks() or using a FixedLocator.\n",
      "\n"
>>>>>>> f7cf30d55162985d7c6703a170c027bd721cebf9
     ]
    },
    {
     "data": {
      "text/plain": [
       "[Text(0, 0, 'Small metro'),\n",
       " Text(1, 0, 'Medium metro'),\n",
       " Text(2, 0, 'Large fringe metro'),\n",
       " Text(3, 0, 'Large central metro')]"
      ]
     },
<<<<<<< HEAD
     "execution_count": 58,
=======
     "execution_count": 39,
>>>>>>> f7cf30d55162985d7c6703a170c027bd721cebf9
     "metadata": {},
     "output_type": "execute_result"
    },
    {
     "data": {
<<<<<<< HEAD
      "image/png": "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",
=======
      "image/png": "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",
>>>>>>> f7cf30d55162985d7c6703a170c027bd721cebf9
      "text/plain": [
       "<Figure size 640x480 with 1 Axes>"
      ]
     },
     "metadata": {},
     "output_type": "display_data"
    }
   ],
   "source": [
<<<<<<< HEAD
=======
    "\n",
>>>>>>> f7cf30d55162985d7c6703a170c027bd721cebf9
    "barplot = sns.barplot(data = df, y = 'COVID-19 Deaths', x = 'Urban Rural Description', hue = 'Coast', order = ['Small metro', 'Medium metro', 'Large fringe metro', 'Large central metro'],)\n",
    "barplot.set_title('COVID-19 Deaths for West and East Coast and their Urbanizations')\n",
    "barplot.set_xticklabels(barplot.get_xticklabels(), rotation=40, ha=\"right\")\n",
    "\n"
   ]
  },
  {
   "cell_type": "markdown",
   "metadata": {},
   "source": [
    "Looking at this graph, we can see that the West Coast has less COVID-19 Deaths for small metro, similar COVID-19 Deaths for medium metro and large fringe metro, and more COVID-19 Deaths for large central metro when compared to the East Coast."
<<<<<<< HEAD
=======
   ]
  },
  {
   "cell_type": "markdown",
   "metadata": {},
   "source": [
    "### Percentage of Total Deaths caused by COVID vs Urbanization\n",
    "Again, though, we would like to plot the distribution of covid deaths over total deaths for our data set."
   ]
  },
  {
   "cell_type": "code",
   "execution_count": 40,
   "metadata": {},
   "outputs": [
    {
     "name": "stderr",
     "output_type": "stream",
     "text": [
      "/var/folders/ky/91lk79yn3gd90j52mfhp82bm0000gn/T/ipykernel_29448/1009564736.py:3: UserWarning:\n",
      "\n",
      "set_ticklabels() should only be used with a fixed number of ticks, i.e. after set_ticks() or using a FixedLocator.\n",
      "\n"
     ]
    },
    {
     "data": {
      "text/plain": [
       "[Text(0, 0, 'Small metro'),\n",
       " Text(1, 0, 'Medium metro'),\n",
       " Text(2, 0, 'Large fringe metro'),\n",
       " Text(3, 0, 'Large central metro')]"
      ]
     },
     "execution_count": 40,
     "metadata": {},
     "output_type": "execute_result"
    },
    {
     "data": {
      "image/png": "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",
      "text/plain": [
       "<Figure size 640x480 with 1 Axes>"
      ]
     },
     "metadata": {},
     "output_type": "display_data"
    }
   ],
   "source": [
    "barplot = sns.barplot(data = df, y = 'Portion of Deaths due to COVID', x = 'Urban Rural Description', hue = 'Coast', order = ['Small metro', 'Medium metro', 'Large fringe metro', 'Large central metro'],)\n",
    "barplot.set_title('Ratio of Total Deaths due to COVID for West and East Coast and their Urbanizations')\n",
    "barplot.set_xticklabels(barplot.get_xticklabels(), rotation=40, ha=\"right\")\n"
   ]
  },
  {
   "cell_type": "markdown",
   "metadata": {},
   "source": [
    "Interestingly enough, the East Coast seems to have a higher percent of deaths caused by COVID mostly except for small metros, where West Coast has a higher portion of COVID deaths. The difference between East and West Coast is most noticeable in the large fringe metro. Again, West Coast counties tend to have more outliers than East Coast."
>>>>>>> f7cf30d55162985d7c6703a170c027bd721cebf9
   ]
  },
  {
   "cell_type": "markdown",
   "metadata": {},
   "source": [
    "# Ethics & Privacy"
   ]
  },
  {
   "cell_type": "markdown",
   "metadata": {},
   "source": [
    "We do not believe there would be issues regarding the confidentiality of patient/personal information as no names or specific data from one particular person would be used. All results were aggregated ensuring privacy at an individual level.\n",
    "\n",
    "Moreover, our data is sourced from reputable organizations such as the Health data organization, which adheres to strict ethical and data collection guidelines. Overall we believe our findings could prove to be beneficial to prepare for another pandemic in the future. \n",
    "\n",
    "However, it is also very crucial to approach any correlations with caution, avoiding misrepresentation of certain groups/populations of people when dealing with such diseases. Especially when dealing with our dataset that includes some missing values for race categories in a few counties. To account for this, we remove counties that lack proper representation of groups and make sure to only include those who include these values. By addressing these issues earlier during our cleaning portion of the data set we reduce biases before analyzing our data. To reduce bias after creating graphs, we plan on adding captions and carefully explain why we made certain choices: like what data to include, show or talk about for our project. Additionally, we took particular care in our project to ensure that no group is unfairly \"blamed\" or misrepresented based on their race. Especially given the increasing incidents of Asian hate during the COVID-19 pandemic, we are committed to presenting the data impartially and avoiding prejudice against any group. \n"
   ]
  },
  {
   "cell_type": "markdown",
   "metadata": {},
   "source": [
    "# Team Expectations "
   ]
  },
  {
   "cell_type": "markdown",
   "metadata": {},
   "source": [
    "* *Team Expectation 1*\n",
    "    * Have weekly meetings where everyone can attend. If someone cannot attend then they will get a summary, documenting our meeting’s goals and discussions. In each meeting we will talk about how we can make improvements on our previous checkpoint if needed. Then the rest of the meeting will go over the upcoming checkpoint, assigning what task everyone should do and our goals for that week.\n",
    "* *Team Expectation 2*\n",
    "    * Split up work from data wrangling, code, video, and write-up about data: we expect everyone to take a part in the project that plays to their strengths. Those who are good or confident at coding will split the coding portions among themselves (data, wranging, creating graphs etc), and those who are not as confident, would take up the majority of the writing or analysis portion. If all the parts are taken, we plan on having one or two people look over the entire project or step in when help is needed in the coding or writing parts of the project.\n",
    "* *Team Expecation 3*\n",
    "    * Overall expectations: We expect every member in our group to contribute equally and be able to respond to our group chat in a reasonable amount of time. We also expect everyone to try to go to our group meetings and if not possible to check in with the group after to see what they missed.\n"
   ]
  },
  {
   "cell_type": "markdown",
   "metadata": {},
   "source": [
    "# Project Timeline Proposal"
   ]
  },
  {
   "cell_type": "markdown",
   "metadata": {},
   "source": [
    "| Week #      | Meeting Time | Weekly Goals |\n",
    "|------------|--------------|--------------------|\n",
    "| Week 6     | Sat. 6 PM    | For week 6, we found datasets that fit our research question. Once the best possible dataset was found for our specific topic, we divided the work to conduct some wrangling and cleaning on it, such as detecting redundant columns and tidying the data (e.g., converting age values to only years, weight to only pounds, etc.). |\n",
    "| Week 7     | Sat. 7 AM    | In week 7, we will start thinking about how to effectively present the data. We'll decide on the types of graphs to use, the reasons behind our choices, explore relationships within our dataset, and ensure the graphs are easily understandable to the viewer. Another words, discuss what we can do with the dataset |\n",
    "| Week 8     | Sat. 5 PM    | Week 8 will involve cleaning the data frame we chose and correcting any errors outlined by our TA/Professor from the proposal grading|\n",
    "| Week 9     | Fri. 10 AM   | During week 9, we will work on EDA- creating graphs based on our dataset and correct any additional errors that were pointed our in our previous checkpoint |\n",
    "| Week 10    |  Sat 5 PM        | Finally, in week 10, we will conduct a final review of our project, ensuring that we meet all the requirements outlined in the project rubric. |\n"
   ]
  },
  {
   "cell_type": "markdown",
   "metadata": {},
   "source": []
  }
 ],
 "metadata": {
  "kernelspec": {
   "display_name": "Python 3 (ipykernel)",
   "language": "python",
   "name": "python3"
  },
  "language_info": {
   "codemirror_mode": {
    "name": "ipython",
    "version": 3
   },
   "file_extension": ".py",
   "mimetype": "text/x-python",
   "name": "python",
   "nbconvert_exporter": "python",
   "pygments_lexer": "ipython3",
<<<<<<< HEAD
   "version": "3.10.13"
=======
   "version": "3.9.6"
>>>>>>> f7cf30d55162985d7c6703a170c027bd721cebf9
  }
 },
 "nbformat": 4,
 "nbformat_minor": 2
}
