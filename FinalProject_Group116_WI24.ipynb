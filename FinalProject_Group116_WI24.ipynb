{
 "cells": [
  {
   "cell_type": "markdown",
   "metadata": {},
   "source": [
    "# Do Diverse Cities Have Higher COVID-19 Mortality? \n",
    "\n",
    "# Permissions\n",
    "\n",
    "Place an `X` in the appropriate bracket below to specify if you would like your group's project to be made available to the public. (Note that student names will be included (but PIDs will be scraped from any groups who include their PIDs).\n",
    "\n",
    "* [ X ] YES - make available\n",
    "* [  ] NO - keep private\n",
    "\n",
    "# Names\n",
    "\n",
    "- Benjamin Hinnant\n",
    "- Desmond Vu\n",
    "- Kayla Maldonado\n",
    "- Alexander Gao\n",
    "- Keshav Tiwari\n",
    "\n",
    "# Abstract\n",
    "\n",
    "Please write one to four paragraphs that describe a very brief overview of why you did this, how you did, and the major findings and conclusions."
   ]
  },
  {
   "cell_type": "markdown",
   "metadata": {},
   "source": [
    "# **Research Question**\n"
   ]
  },
  {
   "cell_type": "markdown",
   "metadata": {},
   "source": [
    "What is the relationship between the racial backgrounds and urbanization levels of western and eastern states, and what is their effect on COVID-19 mortality rates in the USA?\n",
    "\n"
   ]
  },
  {
   "cell_type": "markdown",
   "metadata": {},
   "source": [
    "## Background and Prior Work"
   ]
  },
  {
   "cell_type": "markdown",
   "metadata": {},
   "source": [
    "\n",
    "During the COVID-19 pandemic, several analyses determined that people of color (POC) were experiencing a disproportionately larger COVID-19 mortality rate than Caucasians. One report from the APM Research Lab was written by Elisabeth Gawthrop, who used state-reported data from the U.S. Centers for Disease Control and Prevention, or CDC. She determined that as of September 27 of 2023, the COVID-19 mortality rate for Black individuals was around 55% higher than the rate for Caucasian individuals. The mortality rate for Latinos was nearly 65% higher than Caucasians.<a name=\"cite_ref-1\"></a>[<sup>1</sup>](#cite_note-1)\n",
    "\n",
    "Another study done by Latoya Hill and Samantha Artiga used data from the CDC and the National Center for Health Statistics (NCHS). They determined that the largest differences in COVID-19 mortality rates between racial groups occurred during surges in the pandemic when the total mortality rate was particularly high. The first surge in COVID-19 deaths peaked in July 2020, and during this month, Hispanic individuals were five times more likely to die than Caucasians, American Indian or Alaska Natives (AIAN) were four times as likely to die, and Blacks were three times as likely to die. During the second surge in December 2020 and January 2021, all POC analyzed (Blacks, Hispanics, and AIAN) had higher rates of death than Caucasians.<a name=\"cite_ref-2\"></a>[<sup>2</sup>](#cite_note-2)\n",
    "\n",
    "These previous studies have already assessed the relationship between racial background and COVID-19 mortality rates.<a name=\"cite_ref-1\"></a>[<sup>1</sup>](#cite_note-1)<sup>,</sup><a name=\"cite_ref-2\"></a>[<sup>2</sup>](#cite_note-2) As a result, we now want to determine the relationship between three variables: racial background, the level of urbanization, and whether the region of interest is an eastern or western state. We then want to determine the effect of these variables on COVID-19 mortality rates. By determining if any of these variables has a significant effect on mortality rates, we hope to potentially discover trends that can guide a future pandemic response.\n",
    "\n",
    "References\n",
    "\n",
    "1. <a name=\"cite_note-1\"></a> [^](#cite_ref-1) Gawthrop, Elisabeth. “Color of Coronavirus: COVID-19 deaths analyzed by race and ethnicity — APM Research Lab.” APM Research Lab, 19 October 2023, https://www.apmresearchlab.org/covid/deaths-by-race. Accessed 25 February 2024.\n",
    "\n",
    "2. <a name=\"cite_note-2\"></a> [^](#cite_ref-2) Hill, Latoya, and Samantha Artiga. “COVID-19 Cases and Deaths by Race/Ethnicity: Current Data and Changes Over Time.” KFF, 22 August 2022, https://www.kff.org/racial-equity-and-health-policy/issue-brief/covid-19-cases-and-deaths-by-race-ethnicity-current-data-and-changes-over-time/. Accessed 24 February 2024.\n"
   ]
  },
  {
   "cell_type": "markdown",
   "metadata": {},
   "source": [
    "# **Hypothesis**\n"
   ]
  },
  {
   "cell_type": "markdown",
   "metadata": {},
   "source": [
    "We predict that areas with a higher urbanization level will have higher COVID-19 mortality rates. Within the confined spaces of an urban region, there are more opportunities for the uninfected population to make contact with COVID-19 infected individuals. We also predict that areas with a larger population of racial minorities will have higher COVID-19 mortality rates, since these communities often have less resources available and may find it more difficult to treat every infected patient optimally. We are unsure whether eastern or western communities will have higher mortality rates, but we believe that incorporating this variable into our analysis may remove a confounding variable while uncovering interesting trends regarding the pandemic response between eastern and western communities. Combining our previous predictions, we predict that urban areas with a larger population of racial minorities will have the highest COVID-19 mortality rates, while rural areas with a smaller population of racial minorities will have the lowest COVID-19 mortality rates.  "
   ]
  },
  {
   "cell_type": "markdown",
   "metadata": {},
   "source": [
    "# **Data**\n"
   ]
  },
  {
   "cell_type": "markdown",
   "metadata": {},
   "source": [
    "## Data Overview\n",
    "**Dataset #1**\n",
    "- Dataset name: Provisional COVID-19 Deaths by County, and Race and Hispanic Origin\n",
    "- [Link to dataset](https://data.cdc.gov/NCHS/Provisional-COVID-19-Deaths-by-County-and-Race-and/k8wy-p9cg/about_data)\n",
    "- Number of Observations: 3,687\n",
    "- Number of Variables: 21\n",
    "\n",
    "**Description:** The dataset we are utilizing to address our question is the Provisional COVID-19 Deaths by County and Race and Hispanic Origin dataset, directly sourced from the Centers for Disease Control and Prevention (CDC) website. This dataset covers the period from January 4, 2020, to September 27, 2023, collected weekly from counties across all 50 states. It comprises around 3,700 observations with string and integer data types. The dataset is mostly complete, with NaN values only present for different racial populations. Key columns in the dataset include county name, state name, total deaths from all causes, deaths involving COVID-19, a description of the level of urbanization, and percentages of each racial category (such as Asian, White, Hispanic, American Indian, etc.). Deaths involving COVID-19 are identified by the presence of an U07.1 diagnosis code assigned to a deceased patient, which is assigned only if a patient tests positive for COVID-19. The urbanization level is determined by the National Center for Health Statistics (NCHS) Urban-Rural Classification Scheme for Counties, categorizing counties into 6 urban-rural categories suitable for health analyses.\n",
    "\n",
    "**Important Variables:**\n",
    "- Percentage of Race: Indicates the proportion of each racial category affected by COVID-19 in each county.\n",
    "- Urbanization level: Describes the level of urbanization of a county on a scale of 1 (large metropolitan city) to 6 (small non-core area), providing insights into how different counties address health access, resources, and disease prevention.\n",
    "- State Name: The state from which the data is collected, aiding in the analysis of regional differences in COVID-19.\n",
    "- Deaths by COVID-19: The number of deaths with a leading cause of COVID-19.\n",
    "\n",
    "**Data Wrangling:** As our focus is on COVID-19 deaths, affected populations, geographic locations, and urbanization levels, this dataset provides all the necessary information to address our research question. However, we do have concerns regarding missing data on certain races due to privacy concerns and unnecessary columns that are not required for this project. To address these, we cleaned the dataset by removing columns such as total deaths and ensured that we only considered counties that reported affected racial groups. This step was crucial to ensure the validity of our analysis by including as many individuals as possible in our observations. Despite the removal of some columns, we deemed this necessary given the ample data available from various counties that included racial populations for our analysis."
   ]
  },
  {
   "cell_type": "markdown",
   "metadata": {},
   "source": [
    "## Dataset #1 Provisional COVID-19 Deaths by County, and Race and Hispanic Origin"
   ]
  },
  {
   "cell_type": "code",
   "execution_count": 26,
   "metadata": {},
   "outputs": [
    {
     "data": {
      "text/html": [
       "<div>\n",
       "<style scoped>\n",
       "    .dataframe tbody tr th:only-of-type {\n",
       "        vertical-align: middle;\n",
       "    }\n",
       "\n",
       "    .dataframe tbody tr th {\n",
       "        vertical-align: top;\n",
       "    }\n",
       "\n",
       "    .dataframe thead th {\n",
       "        text-align: right;\n",
       "    }\n",
       "</style>\n",
       "<table border=\"1\" class=\"dataframe\">\n",
       "  <thead>\n",
       "    <tr style=\"text-align: right;\">\n",
       "      <th></th>\n",
       "      <th>Data as of</th>\n",
       "      <th>Start Date</th>\n",
       "      <th>End Date</th>\n",
       "      <th>State</th>\n",
       "      <th>County Name</th>\n",
       "      <th>Urban Rural Code</th>\n",
       "      <th>FIPS State</th>\n",
       "      <th>FIPS County</th>\n",
       "      <th>FIPS Code</th>\n",
       "      <th>Indicator</th>\n",
       "      <th>...</th>\n",
       "      <th>COVID-19 Deaths</th>\n",
       "      <th>Non-Hispanic White</th>\n",
       "      <th>Non-Hispanic Black</th>\n",
       "      <th>Non-Hispanic American Indian or Alaska Native</th>\n",
       "      <th>Non-Hispanic Asian</th>\n",
       "      <th>Non-Hispanic Native Hawaiian or Other Pacific Islander</th>\n",
       "      <th>Hispanic</th>\n",
       "      <th>Other</th>\n",
       "      <th>Urban Rural Description</th>\n",
       "      <th>Footnote</th>\n",
       "    </tr>\n",
       "  </thead>\n",
       "  <tbody>\n",
       "    <tr>\n",
       "      <th>0</th>\n",
       "      <td>09/27/2023</td>\n",
       "      <td>01/01/2020</td>\n",
       "      <td>09/23/2023</td>\n",
       "      <td>AK</td>\n",
       "      <td>Anchorage Municipality</td>\n",
       "      <td>3</td>\n",
       "      <td>2</td>\n",
       "      <td>20</td>\n",
       "      <td>2020</td>\n",
       "      <td>Distribution of all-cause deaths (%)</td>\n",
       "      <td>...</td>\n",
       "      <td>787</td>\n",
       "      <td>0.568</td>\n",
       "      <td>0.044</td>\n",
       "      <td>0.216</td>\n",
       "      <td>0.058</td>\n",
       "      <td>0.030</td>\n",
       "      <td>0.033</td>\n",
       "      <td>0.050</td>\n",
       "      <td>Medium metro</td>\n",
       "      <td>NaN</td>\n",
       "    </tr>\n",
       "    <tr>\n",
       "      <th>1</th>\n",
       "      <td>09/27/2023</td>\n",
       "      <td>01/01/2020</td>\n",
       "      <td>09/23/2023</td>\n",
       "      <td>AK</td>\n",
       "      <td>Anchorage Municipality</td>\n",
       "      <td>3</td>\n",
       "      <td>2</td>\n",
       "      <td>20</td>\n",
       "      <td>2020</td>\n",
       "      <td>Distribution of COVID-19 deaths (%)</td>\n",
       "      <td>...</td>\n",
       "      <td>787</td>\n",
       "      <td>0.452</td>\n",
       "      <td>0.037</td>\n",
       "      <td>0.255</td>\n",
       "      <td>0.111</td>\n",
       "      <td>0.074</td>\n",
       "      <td>0.038</td>\n",
       "      <td>0.033</td>\n",
       "      <td>Medium metro</td>\n",
       "      <td>NaN</td>\n",
       "    </tr>\n",
       "    <tr>\n",
       "      <th>2</th>\n",
       "      <td>09/27/2023</td>\n",
       "      <td>01/01/2020</td>\n",
       "      <td>09/23/2023</td>\n",
       "      <td>AK</td>\n",
       "      <td>Anchorage Municipality</td>\n",
       "      <td>3</td>\n",
       "      <td>2</td>\n",
       "      <td>20</td>\n",
       "      <td>2020</td>\n",
       "      <td>Distribution of population (%)</td>\n",
       "      <td>...</td>\n",
       "      <td>787</td>\n",
       "      <td>0.564</td>\n",
       "      <td>0.052</td>\n",
       "      <td>0.083</td>\n",
       "      <td>0.098</td>\n",
       "      <td>0.031</td>\n",
       "      <td>0.095</td>\n",
       "      <td>0.077</td>\n",
       "      <td>Medium metro</td>\n",
       "      <td>NaN</td>\n",
       "    </tr>\n",
       "    <tr>\n",
       "      <th>3</th>\n",
       "      <td>09/27/2023</td>\n",
       "      <td>01/01/2020</td>\n",
       "      <td>09/23/2023</td>\n",
       "      <td>AK</td>\n",
       "      <td>Fairbanks North Star Borough</td>\n",
       "      <td>4</td>\n",
       "      <td>2</td>\n",
       "      <td>90</td>\n",
       "      <td>2090</td>\n",
       "      <td>Distribution of all-cause deaths (%)</td>\n",
       "      <td>...</td>\n",
       "      <td>214</td>\n",
       "      <td>0.710</td>\n",
       "      <td>0.024</td>\n",
       "      <td>0.173</td>\n",
       "      <td>0.020</td>\n",
       "      <td>NaN</td>\n",
       "      <td>0.027</td>\n",
       "      <td>0.044</td>\n",
       "      <td>Small metro</td>\n",
       "      <td>One or more data cells have counts between 1-9...</td>\n",
       "    </tr>\n",
       "    <tr>\n",
       "      <th>4</th>\n",
       "      <td>09/27/2023</td>\n",
       "      <td>01/01/2020</td>\n",
       "      <td>09/23/2023</td>\n",
       "      <td>AK</td>\n",
       "      <td>Fairbanks North Star Borough</td>\n",
       "      <td>4</td>\n",
       "      <td>2</td>\n",
       "      <td>90</td>\n",
       "      <td>2090</td>\n",
       "      <td>Distribution of COVID-19 deaths (%)</td>\n",
       "      <td>...</td>\n",
       "      <td>214</td>\n",
       "      <td>0.626</td>\n",
       "      <td>NaN</td>\n",
       "      <td>0.257</td>\n",
       "      <td>NaN</td>\n",
       "      <td>NaN</td>\n",
       "      <td>NaN</td>\n",
       "      <td>0.056</td>\n",
       "      <td>Small metro</td>\n",
       "      <td>One or more data cells have counts between 1-9...</td>\n",
       "    </tr>\n",
       "  </tbody>\n",
       "</table>\n",
       "<p>5 rows × 21 columns</p>\n",
       "</div>"
      ],
      "text/plain": [
       "   Data as of  Start Date    End Date State                   County Name  \\\n",
       "0  09/27/2023  01/01/2020  09/23/2023    AK        Anchorage Municipality   \n",
       "1  09/27/2023  01/01/2020  09/23/2023    AK        Anchorage Municipality   \n",
       "2  09/27/2023  01/01/2020  09/23/2023    AK        Anchorage Municipality   \n",
       "3  09/27/2023  01/01/2020  09/23/2023    AK  Fairbanks North Star Borough   \n",
       "4  09/27/2023  01/01/2020  09/23/2023    AK  Fairbanks North Star Borough   \n",
       "\n",
       "   Urban Rural Code  FIPS State  FIPS County  FIPS Code  \\\n",
       "0                 3           2           20       2020   \n",
       "1                 3           2           20       2020   \n",
       "2                 3           2           20       2020   \n",
       "3                 4           2           90       2090   \n",
       "4                 4           2           90       2090   \n",
       "\n",
       "                              Indicator  ...  COVID-19 Deaths  \\\n",
       "0  Distribution of all-cause deaths (%)  ...              787   \n",
       "1   Distribution of COVID-19 deaths (%)  ...              787   \n",
       "2        Distribution of population (%)  ...              787   \n",
       "3  Distribution of all-cause deaths (%)  ...              214   \n",
       "4   Distribution of COVID-19 deaths (%)  ...              214   \n",
       "\n",
       "   Non-Hispanic White  Non-Hispanic Black  \\\n",
       "0               0.568               0.044   \n",
       "1               0.452               0.037   \n",
       "2               0.564               0.052   \n",
       "3               0.710               0.024   \n",
       "4               0.626                 NaN   \n",
       "\n",
       "   Non-Hispanic American Indian or Alaska Native  Non-Hispanic Asian  \\\n",
       "0                                          0.216               0.058   \n",
       "1                                          0.255               0.111   \n",
       "2                                          0.083               0.098   \n",
       "3                                          0.173               0.020   \n",
       "4                                          0.257                 NaN   \n",
       "\n",
       "   Non-Hispanic Native Hawaiian or Other Pacific Islander  Hispanic  Other  \\\n",
       "0                                              0.030          0.033  0.050   \n",
       "1                                              0.074          0.038  0.033   \n",
       "2                                              0.031          0.095  0.077   \n",
       "3                                                NaN          0.027  0.044   \n",
       "4                                                NaN            NaN  0.056   \n",
       "\n",
       "   Urban Rural Description                                           Footnote  \n",
       "0             Medium metro                                                NaN  \n",
       "1             Medium metro                                                NaN  \n",
       "2             Medium metro                                                NaN  \n",
       "3              Small metro  One or more data cells have counts between 1-9...  \n",
       "4              Small metro  One or more data cells have counts between 1-9...  \n",
       "\n",
       "[5 rows x 21 columns]"
      ]
     },
     "execution_count": 26,
     "metadata": {},
     "output_type": "execute_result"
    }
   ],
   "source": [
    "# Set up\n",
    "%matplotlib inline\n",
    "\n",
    "import numpy as np\n",
    "import pandas as pd\n",
    "import matplotlib.pyplot as plt\n",
    "import seaborn as sns\n",
    "import plotly.express as px\n",
    "import pandas as pd\n",
    "from scipy.stats import ttest_ind\n",
    "\n",
    "# Reading the CSV file\n",
    "df = pd.read_csv('Provisional_COVID-19_Deaths_by_County__and_Race_and_Hispanic_Origin_20240224.csv')\n",
    "\n",
    "# How does the file look like\n",
    "df.head()"
   ]
  },
  {
   "cell_type": "code",
   "execution_count": 21,
   "metadata": {},
   "outputs": [],
   "source": [
    "# The next few codes is how we cleaned our dataset\n",
    "\n",
    "# Clean Data to only include rows for deaths from COVID-19\n",
    "df = df[df['Indicator'] == 'Distribution of COVID-19 deaths (%)']\n",
    "df.reset_index(drop=True, inplace=True)\n",
    "\n",
    "# Clean Data to only include coastal states(Column with East, West)\n",
    "coast_states = ['WA', 'OR', 'CA', 'ME', 'NH', 'MA', 'RI', 'CT', 'NY', 'NJ', 'PA', 'DE', 'MD', 'VA', 'NC', 'SC', 'GA', 'FL']\n",
    "df['Coast'] = df['State'].apply(lambda x: 'West' if x in ['CA', 'OR', 'WA'] else 'East')\n",
    "df = df[df['State'].isin(coast_states)]\n",
    "df.shape\n",
    "\n",
    "# 170 coastal counties where theres info for Non-Hispanic Whites, Non-Hispanic Blacks, Hispanics, Non-Hispanic Asians\n",
    "mask_white = df['Non-Hispanic White'].notna()\n",
    "mask_black = df['Non-Hispanic Black'].notna()\n",
    "mask_asian = df['Non-Hispanic Asian'].notna()\n",
    "mask_hispanic = df['Hispanic'].notna()\n",
    "combined_mask = mask_white & mask_black & mask_hispanic &mask_asian\n",
    "num_rows_non_nan = combined_mask.sum()\n",
    "\n",
    "# We decided to keep counties that included data for Non-Hispanic White, Black and Asians and Hispanics, to ensure \n",
    "# validity and inclusion in our analysis/data\n",
    "\n",
    "# Drop counties where theres missing info in any of aforementioned columns\n",
    "df = df[combined_mask]\n",
    "df.reset_index(drop=True, inplace=True)\n",
    "df['Non-White, Non-Black, Non-Hispanic, Non-Asian'] = 1 - df['Non-Hispanic White'] - df['Non-Hispanic Black'] - df['Hispanic'] - df['Non-Hispanic Asian']\n",
    "\n",
    "# Drop unnecessary columns, Remember Data is from 01/01/2020 to 09/23/2023\n",
    "df = df.drop(['Data as of', 'Start Date', 'End Date', 'Urban Rural Code', 'FIPS State', 'FIPS Code','FIPS County', 'Indicator'], axis=1)\n",
    "\n",
    "# Rearrange the columns to have data arranged in desirable order\n",
    "df = df[[\"State\",\"County Name\", \"Coast\",\"Total deaths\", \"COVID-19 Deaths\",\"Non-Hispanic White\",\"Non-Hispanic Black\", \"Hispanic\", \"Non-Hispanic Asian\", \"Non-White, Non-Black, Non-Hispanic, Non-Asian\", \"Non-Hispanic American Indian or Alaska Native\",\"Non-Hispanic Native Hawaiian or Other Pacific Islander\",\"Other\",\"Urban Rural Description\",\"Footnote\"]]\n",
    "\n",
    "# Because we standardized the ethnicity data above, we decide to remove all data for specific ethnicities \n",
    "# which we are not observing and only keep the ones that we described above.\n",
    "df = df.drop(['Non-Hispanic American Indian or Alaska Native','Non-Hispanic Native Hawaiian or Other Pacific Islander', 'Other', 'Footnote'], axis=1)\n",
    "\n",
    "# Taking care of the portion of Deaths within our data and creating/adding a column to our df\n",
    "df.insert(5, \"Portion of Deaths due to COVID\", df[\"COVID-19 Deaths\"] / df[\"Total deaths\"])"
   ]
  },
  {
   "cell_type": "code",
   "execution_count": 22,
   "metadata": {},
   "outputs": [
    {
     "data": {
      "text/html": [
       "<div>\n",
       "<style scoped>\n",
       "    .dataframe tbody tr th:only-of-type {\n",
       "        vertical-align: middle;\n",
       "    }\n",
       "\n",
       "    .dataframe tbody tr th {\n",
       "        vertical-align: top;\n",
       "    }\n",
       "\n",
       "    .dataframe thead th {\n",
       "        text-align: right;\n",
       "    }\n",
       "</style>\n",
       "<table border=\"1\" class=\"dataframe\">\n",
       "  <thead>\n",
       "    <tr style=\"text-align: right;\">\n",
       "      <th></th>\n",
       "      <th>State</th>\n",
       "      <th>County Name</th>\n",
       "      <th>Coast</th>\n",
       "      <th>Total deaths</th>\n",
       "      <th>COVID-19 Deaths</th>\n",
       "      <th>Portion of Deaths due to COVID</th>\n",
       "      <th>Non-Hispanic White</th>\n",
       "      <th>Non-Hispanic Black</th>\n",
       "      <th>Hispanic</th>\n",
       "      <th>Non-Hispanic Asian</th>\n",
       "      <th>Non-White, Non-Black, Non-Hispanic, Non-Asian</th>\n",
       "      <th>Urban Rural Description</th>\n",
       "    </tr>\n",
       "  </thead>\n",
       "  <tbody>\n",
       "    <tr>\n",
       "      <th>0</th>\n",
       "      <td>CA</td>\n",
       "      <td>Alameda County</td>\n",
       "      <td>West</td>\n",
       "      <td>41916</td>\n",
       "      <td>2628</td>\n",
       "      <td>0.062697</td>\n",
       "      <td>0.312</td>\n",
       "      <td>0.191</td>\n",
       "      <td>0.239</td>\n",
       "      <td>0.219</td>\n",
       "      <td>0.039</td>\n",
       "      <td>Large central metro</td>\n",
       "    </tr>\n",
       "    <tr>\n",
       "      <th>1</th>\n",
       "      <td>CA</td>\n",
       "      <td>Butte County</td>\n",
       "      <td>West</td>\n",
       "      <td>9294</td>\n",
       "      <td>789</td>\n",
       "      <td>0.084893</td>\n",
       "      <td>0.790</td>\n",
       "      <td>0.015</td>\n",
       "      <td>0.119</td>\n",
       "      <td>0.041</td>\n",
       "      <td>0.035</td>\n",
       "      <td>Small metro</td>\n",
       "    </tr>\n",
       "    <tr>\n",
       "      <th>2</th>\n",
       "      <td>CA</td>\n",
       "      <td>Contra Costa County</td>\n",
       "      <td>West</td>\n",
       "      <td>31889</td>\n",
       "      <td>1754</td>\n",
       "      <td>0.055003</td>\n",
       "      <td>0.536</td>\n",
       "      <td>0.127</td>\n",
       "      <td>0.198</td>\n",
       "      <td>0.111</td>\n",
       "      <td>0.028</td>\n",
       "      <td>Large fringe metro</td>\n",
       "    </tr>\n",
       "    <tr>\n",
       "      <th>3</th>\n",
       "      <td>CA</td>\n",
       "      <td>Fresno County</td>\n",
       "      <td>West</td>\n",
       "      <td>33704</td>\n",
       "      <td>3278</td>\n",
       "      <td>0.097258</td>\n",
       "      <td>0.393</td>\n",
       "      <td>0.046</td>\n",
       "      <td>0.450</td>\n",
       "      <td>0.092</td>\n",
       "      <td>0.019</td>\n",
       "      <td>Medium metro</td>\n",
       "    </tr>\n",
       "    <tr>\n",
       "      <th>4</th>\n",
       "      <td>CA</td>\n",
       "      <td>Kern County</td>\n",
       "      <td>West</td>\n",
       "      <td>27860</td>\n",
       "      <td>2711</td>\n",
       "      <td>0.097308</td>\n",
       "      <td>0.373</td>\n",
       "      <td>0.058</td>\n",
       "      <td>0.505</td>\n",
       "      <td>0.040</td>\n",
       "      <td>0.024</td>\n",
       "      <td>Medium metro</td>\n",
       "    </tr>\n",
       "  </tbody>\n",
       "</table>\n",
       "</div>"
      ],
      "text/plain": [
       "  State          County Name Coast  Total deaths  COVID-19 Deaths  \\\n",
       "0    CA       Alameda County  West         41916             2628   \n",
       "1    CA         Butte County  West          9294              789   \n",
       "2    CA  Contra Costa County  West         31889             1754   \n",
       "3    CA        Fresno County  West         33704             3278   \n",
       "4    CA          Kern County  West         27860             2711   \n",
       "\n",
       "   Portion of Deaths due to COVID  Non-Hispanic White  Non-Hispanic Black  \\\n",
       "0                        0.062697               0.312               0.191   \n",
       "1                        0.084893               0.790               0.015   \n",
       "2                        0.055003               0.536               0.127   \n",
       "3                        0.097258               0.393               0.046   \n",
       "4                        0.097308               0.373               0.058   \n",
       "\n",
       "   Hispanic  Non-Hispanic Asian  \\\n",
       "0     0.239               0.219   \n",
       "1     0.119               0.041   \n",
       "2     0.198               0.111   \n",
       "3     0.450               0.092   \n",
       "4     0.505               0.040   \n",
       "\n",
       "   Non-White, Non-Black, Non-Hispanic, Non-Asian Urban Rural Description  \n",
       "0                                          0.039     Large central metro  \n",
       "1                                          0.035             Small metro  \n",
       "2                                          0.028      Large fringe metro  \n",
       "3                                          0.019            Medium metro  \n",
       "4                                          0.024            Medium metro  "
      ]
     },
     "execution_count": 22,
     "metadata": {},
     "output_type": "execute_result"
    }
   ],
   "source": [
    "# A view of how our cleaned dataset looks like now\n",
    "df.head()"
   ]
  },
  {
   "cell_type": "markdown",
   "metadata": {},
   "source": [
    "### Data Cleaning\n",
    "\n",
    "To get the data into a usable format, we first had to keep only the parts of the data that were deaths specific to COVID, as the data also included non-COVID deaths. Based on our research question, we wanted to analyze states on the east and west coast. So, we only kept the remaining data that were for counties in east and west coast states. Then, we had to analyze which parts of the data were missing. Even though there were columns for specific ethnicities such as American Indian or Native Hawaiian, a lot of counties had missing information for these columns and only had data for few columns Non-Hispanic Whites and Non-Hispanic Blacks and NaN for others. In order to standardize the data, while still having a decent number of obvservations, we decided to see how many counties had data for Non-Hispanic Whites, Non-Hispanic Blacks, Non-Hispanic Asians, and Hispanics, which was 170, and removed those which didn’t. Then, we added essentially a column that was for the proportion of the population not in those ethnicities (the remainder/other column basically). Finally, we dropped a lot of columns which were unnecessary to our data, such as codes for counties and states (which do not provide as easily understandable info as county names and state names) and date-range, which was standard across the whole data set (1/2020 to 9/2023). We also removed total deaths, as we only cared about COVID-19 deaths. Also, one aspect we need to be aware of is that because a lot of counties have a higher population than others, naturally, they will have a higher number of COVID deaths. Thus, we need to make sure that we take into account the covid death rate in order to truly understand what factors cause a higher percentage of COVID deaths. To this, we add a column called COVID death rate, which is the number of COVID deaths divided by the total number of deaths."
   ]
  },
  {
   "cell_type": "markdown",
   "metadata": {},
   "source": [
    "# **Results**\n",
    "\n",
    "Before we delve into the EDA, it is important to note that our data comprises of small units that cumulate together to answer our research question. Therefore, creating the characteristics table in order to understand our data better first requires the collation of county-wise mortality counts into state and coastal levels of granularity. Moreoever, all data must also be reorganized as per differing Rural Urban Descriptions, in order for us to better understand our dataset's ability to explore the relationships between different urbanization levels and racial backgrounds in the context of COVID-19 Deaths. Here is an outline of our overall EDA:\n",
    "- What distributions do your variables take?\n",
    "- Are there any outliers?\n",
    "- Relationship between variables?\n",
    "\n"
   ]
  },
  {
   "cell_type": "markdown",
   "metadata": {},
   "source": [
    "## Granularity Analysis\n",
    "- What approaches was used? Why?\n",
    "- What were the results and interpretations?"
   ]
  },
  {
   "cell_type": "markdown",
   "metadata": {},
   "source": [
    "### Shifting from county to coastal levels of granularity"
   ]
  },
  {
   "cell_type": "code",
   "execution_count": 23,
   "metadata": {},
   "outputs": [
    {
     "data": {
      "text/html": [
       "<div>\n",
       "<style scoped>\n",
       "    .dataframe tbody tr th:only-of-type {\n",
       "        vertical-align: middle;\n",
       "    }\n",
       "\n",
       "    .dataframe tbody tr th {\n",
       "        vertical-align: top;\n",
       "    }\n",
       "\n",
       "    .dataframe thead th {\n",
       "        text-align: right;\n",
       "    }\n",
       "</style>\n",
       "<table border=\"1\" class=\"dataframe\">\n",
       "  <thead>\n",
       "    <tr style=\"text-align: right;\">\n",
       "      <th></th>\n",
       "      <th>COVID-19 Deaths</th>\n",
       "      <th>Total deaths</th>\n",
       "      <th>Portion of Deaths due to COVID</th>\n",
       "      <th>Non-Hispanic White</th>\n",
       "      <th>Non-Hispanic Black</th>\n",
       "      <th>Hispanic</th>\n",
       "      <th>Non-Hispanic Asian</th>\n",
       "      <th>Non-White, Non-Black, Non-Hispanic, Non-Asian</th>\n",
       "    </tr>\n",
       "  </thead>\n",
       "  <tbody>\n",
       "    <tr>\n",
       "      <th>East</th>\n",
       "      <td>308361</td>\n",
       "      <td>3058381</td>\n",
       "      <td>0.10</td>\n",
       "      <td>0.60</td>\n",
       "      <td>0.20</td>\n",
       "      <td>0.15</td>\n",
       "      <td>0.04</td>\n",
       "      <td>0.01</td>\n",
       "    </tr>\n",
       "    <tr>\n",
       "      <th>West</th>\n",
       "      <td>116605</td>\n",
       "      <td>1308280</td>\n",
       "      <td>0.09</td>\n",
       "      <td>0.41</td>\n",
       "      <td>0.07</td>\n",
       "      <td>0.38</td>\n",
       "      <td>0.11</td>\n",
       "      <td>0.03</td>\n",
       "    </tr>\n",
       "  </tbody>\n",
       "</table>\n",
       "</div>"
      ],
      "text/plain": [
       "      COVID-19 Deaths  Total deaths  Portion of Deaths due to COVID  \\\n",
       "East           308361       3058381                            0.10   \n",
       "West           116605       1308280                            0.09   \n",
       "\n",
       "      Non-Hispanic White  Non-Hispanic Black  Hispanic  Non-Hispanic Asian  \\\n",
       "East                0.60                0.20      0.15                0.04   \n",
       "West                0.41                0.07      0.38                0.11   \n",
       "\n",
       "      Non-White, Non-Black, Non-Hispanic, Non-Asian  \n",
       "East                                           0.01  \n",
       "West                                           0.03  "
      ]
     },
     "execution_count": 23,
     "metadata": {},
     "output_type": "execute_result"
    }
   ],
   "source": [
    "# Combining all county wise data into statewise data, specifically summing together COVID-19 Deaths and Total deaths columns.  \n",
    "state_deaths = df.groupby('State').agg({'COVID-19 Deaths': 'sum'})\n",
    "state_total_deaths = df.groupby('State').agg({'Total deaths': 'sum'})\n",
    "# specifiying different a list of racial backgrounds for data handling later\n",
    "race_columns = ['Non-Hispanic White', 'Non-Hispanic Black', 'Hispanic', 'Non-Hispanic Asian', 'Non-White, Non-Black, Non-Hispanic, Non-Asian']\n",
    "race_deaths = pd.DataFrame()                # Creating a single intermediary dataframe to store death per race per state \n",
    "for col in race_columns:                    # iterating through the list of racial backgrounds\n",
    "    race_deaths[col] = df[col] * df['COVID-19 Deaths']            # multiplying proportions of death per race to total COVID-19 deaths in order to get number of deaths per race\n",
    "state_race_deaths = race_deaths.groupby(df['State']).sum()        # summing number of deaths per race per county into statewise (the first shift in granularity)\n",
    "state_race_death_proportions = state_race_deaths.div(state_deaths['COVID-19 Deaths'], axis=0)   # calculatiing death proportions per race at a state level of granularity\n",
    "state_df = pd.concat([state_deaths, state_race_death_proportions], axis=1)     # concatenating dataframes\n",
    "\n",
    "state_df.insert(1, 'Total deaths', state_total_deaths['Total deaths'])\n",
    "state_df.insert(2, 'Portion of Deaths due to COVID', state_deaths['COVID-19 Deaths']/state_total_deaths['Total deaths']) # creating a scaled calculation of how many deaths were due to COVID-19 \n",
    "\n",
    "\n",
    "# Combining all county wise data into coast data, specifically summing together COVID-19 Deaths and Total deaths columns.  \n",
    "coast_deaths = df.groupby('Coast').agg({'COVID-19 Deaths':'sum'})\n",
    "coast_total_deaths = df.groupby('Coast').agg({'Total deaths': 'sum'})\n",
    "race_deaths_coast = pd.DataFrame()         \n",
    "for col in race_columns:                    # iterating through the list of racial backgrounds\n",
    "    race_deaths_coast[col] = df[col] * df['COVID-19 Deaths']        # multiplying proportions of death per race to total COVID-19 deaths in order to get number of deaths per race   \n",
    "coast_race_deaths = race_deaths_coast.groupby(df['Coast']).sum()    # summing number of deaths per race per county into coastwide (the second shift in granularity)\n",
    "coast_race_death_proportions = coast_race_deaths.div(coast_deaths['COVID-19 Deaths'], axis=0)    # calculating death proportions per race at a coast level of granularity\n",
    "coast_df = pd.concat([coast_deaths, coast_race_death_proportions], axis=1)      # concatenating dataframes\n",
    "coast_df.insert(1, 'Total deaths', coast_total_deaths['Total deaths'])\n",
    "coast_df.insert(2, 'Portion of Deaths due to COVID', coast_deaths['COVID-19 Deaths']/coast_total_deaths['Total deaths']) # creating a scaled calculation of how many deaths were due to COVID-19\n",
    "\n",
    "\n",
    "location_df = pd.concat([coast_df, state_df], axis=0)\n",
    "location_df = location_df.round(2)          # rounding to easily comprehensible decimal places        \n",
    "\n",
    "coastal_mean = pd.DataFrame(coast_df[race_columns].mean())          # finding the mean for coastal data\n",
    "coastal_mean = coastal_mean.round(2)\n",
    "location_df.loc[['East', 'West']].head()    # display only coastal data "
   ]
  },
  {
   "cell_type": "markdown",
   "metadata": {},
   "source": [
    "In order to compare east and west coast states, we must transform our data from county-wise proportions to a much higher level of granularity. By doing that, we can much easier observe patterns/comprehend if there is any preliminary relationships/distributions that can be seen in our cleaned dataset."
   ]
  },
  {
   "cell_type": "markdown",
   "metadata": {},
   "source": [
    "### Shifting from county to urbanization levels of granularity"
   ]
  },
  {
   "cell_type": "code",
   "execution_count": 24,
   "metadata": {},
   "outputs": [
    {
     "data": {
      "text/html": [
       "<div>\n",
       "<style scoped>\n",
       "    .dataframe tbody tr th:only-of-type {\n",
       "        vertical-align: middle;\n",
       "    }\n",
       "\n",
       "    .dataframe tbody tr th {\n",
       "        vertical-align: top;\n",
       "    }\n",
       "\n",
       "    .dataframe thead th {\n",
       "        text-align: right;\n",
       "    }\n",
       "</style>\n",
       "<table border=\"1\" class=\"dataframe\">\n",
       "  <thead>\n",
       "    <tr style=\"text-align: right;\">\n",
       "      <th></th>\n",
       "      <th>COVID-19 Deaths</th>\n",
       "      <th>Total deaths</th>\n",
       "      <th>Portion of Deaths due to COVID</th>\n",
       "      <th>Non-Hispanic White</th>\n",
       "      <th>Non-Hispanic Black</th>\n",
       "      <th>Hispanic</th>\n",
       "      <th>Non-Hispanic Asian</th>\n",
       "      <th>Non-White, Non-Black, Non-Hispanic, Non-Asian</th>\n",
       "    </tr>\n",
       "    <tr>\n",
       "      <th>Urban Rural Description</th>\n",
       "      <th></th>\n",
       "      <th></th>\n",
       "      <th></th>\n",
       "      <th></th>\n",
       "      <th></th>\n",
       "      <th></th>\n",
       "      <th></th>\n",
       "      <th></th>\n",
       "    </tr>\n",
       "  </thead>\n",
       "  <tbody>\n",
       "    <tr>\n",
       "      <th>Large central metro</th>\n",
       "      <td>191458</td>\n",
       "      <td>1898063</td>\n",
       "      <td>0.10</td>\n",
       "      <td>0.42</td>\n",
       "      <td>0.18</td>\n",
       "      <td>0.30</td>\n",
       "      <td>0.09</td>\n",
       "      <td>0.02</td>\n",
       "    </tr>\n",
       "    <tr>\n",
       "      <th>Large fringe metro</th>\n",
       "      <td>127965</td>\n",
       "      <td>1328164</td>\n",
       "      <td>0.10</td>\n",
       "      <td>0.63</td>\n",
       "      <td>0.16</td>\n",
       "      <td>0.15</td>\n",
       "      <td>0.05</td>\n",
       "      <td>0.01</td>\n",
       "    </tr>\n",
       "    <tr>\n",
       "      <th>Medium metro</th>\n",
       "      <td>99183</td>\n",
       "      <td>1078031</td>\n",
       "      <td>0.09</td>\n",
       "      <td>0.70</td>\n",
       "      <td>0.13</td>\n",
       "      <td>0.14</td>\n",
       "      <td>0.03</td>\n",
       "      <td>0.01</td>\n",
       "    </tr>\n",
       "    <tr>\n",
       "      <th>Small metro</th>\n",
       "      <td>6360</td>\n",
       "      <td>62403</td>\n",
       "      <td>0.10</td>\n",
       "      <td>0.71</td>\n",
       "      <td>0.08</td>\n",
       "      <td>0.17</td>\n",
       "      <td>0.03</td>\n",
       "      <td>0.01</td>\n",
       "    </tr>\n",
       "  </tbody>\n",
       "</table>\n",
       "</div>"
      ],
      "text/plain": [
       "                         COVID-19 Deaths  Total deaths  \\\n",
       "Urban Rural Description                                  \n",
       "Large central metro               191458       1898063   \n",
       "Large fringe metro                127965       1328164   \n",
       "Medium metro                       99183       1078031   \n",
       "Small metro                         6360         62403   \n",
       "\n",
       "                         Portion of Deaths due to COVID  Non-Hispanic White  \\\n",
       "Urban Rural Description                                                       \n",
       "Large central metro                                0.10                0.42   \n",
       "Large fringe metro                                 0.10                0.63   \n",
       "Medium metro                                       0.09                0.70   \n",
       "Small metro                                        0.10                0.71   \n",
       "\n",
       "                         Non-Hispanic Black  Hispanic  Non-Hispanic Asian  \\\n",
       "Urban Rural Description                                                     \n",
       "Large central metro                    0.18      0.30                0.09   \n",
       "Large fringe metro                     0.16      0.15                0.05   \n",
       "Medium metro                           0.13      0.14                0.03   \n",
       "Small metro                            0.08      0.17                0.03   \n",
       "\n",
       "                         Non-White, Non-Black, Non-Hispanic, Non-Asian  \n",
       "Urban Rural Description                                                 \n",
       "Large central metro                                               0.02  \n",
       "Large fringe metro                                                0.01  \n",
       "Medium metro                                                      0.01  \n",
       "Small metro                                                       0.01  "
      ]
     },
     "execution_count": 24,
     "metadata": {},
     "output_type": "execute_result"
    }
   ],
   "source": [
    "# Combining all county wise data, specifically summing together COVID-19 Deaths and Total deaths columns, and categorizing it all into urbanization level data.  \n",
    "urban_deaths = df.groupby('Urban Rural Description').agg({'COVID-19 Deaths': 'sum'}) \n",
    "urban_total_deaths = df.groupby('Urban Rural Description').agg({'Total deaths': 'sum'})\n",
    "\n",
    "# specifiying different a list of racial backgrounds for data handling later\n",
    "race_columns = ['Non-Hispanic White', 'Non-Hispanic Black', 'Hispanic', 'Non-Hispanic Asian', 'Non-White, Non-Black, Non-Hispanic, Non-Asian']\n",
    "\n",
    "# Creating a single intermediary dataframe to store death per race per urbanization level and iterating through the list of racial backgrounds\n",
    "race_deaths = pd.DataFrame()       \n",
    "for col in race_columns:           \n",
    "    race_deaths[col] = df[col] * df['COVID-19 Deaths']  # multiplying proportions of death per race to total COVID-19 deaths in order to get number of deaths per race\n",
    "urban_race_deaths = race_deaths.groupby(df['Urban Rural Description']).sum()  # summing number of deaths per race per county into urbanization level of granularity \n",
    "urban_death_proportions = urban_race_deaths.div(urban_deaths['COVID-19 Deaths'], axis=0)  # using .div to divide in order to avoid division by null/zero value\n",
    "urban_df = pd.concat([urban_deaths, urban_death_proportions], axis=1)  # concatenating dataframes \n",
    "\n",
    "urban_df.insert(1, 'Total deaths', urban_total_deaths['Total deaths'])\n",
    "urban_df.insert(2, 'Portion of Deaths due to COVID', urban_deaths['COVID-19 Deaths']/urban_total_deaths['Total deaths']) # scaled calculation of how many deaths were due to COVID-19\n",
    "\n",
    "\n",
    "\n",
    "urban_mean = pd.DataFrame(urban_df[race_columns].mean())  # finding the mean for urbanizaization-based data\n",
    "urban_mean = urban_mean.round(2)  # rounding to easily comprehensible decimal places\n",
    "urban_df = urban_df.round(2)                    \n",
    "\n",
    "\n",
    "urban_df.head() # display urbanization level data"
   ]
  },
  {
   "cell_type": "markdown",
   "metadata": {},
   "source": [
    "Upon running some basic operations on our cleaned dataset, we now have a clearer picture of it. Through the operations, we were able to collate county-wide data into state and then eventually coast-based data on how differing racial backgrounds contribute to COVID-19 Deaths. By cumulating all county-based proportions into coast-based and urbanization-based proportions, the proportion values calculated were a fair indication of the central tendencies of the data. As for our cleaned dataset, we will explore central tendencies and variabilities through the following discussion on distributions. \n"
   ]
  },
  {
   "cell_type": "markdown",
   "metadata": {},
   "source": [
    "## West Coast V.S. East Coast Analysis\n",
    "- What approaches were used? Why?\n",
    "  - For this section, we decided to use a geospatial map, boxplots, and a t-test. The geospatial map and box plot were meant to provide a better visualization of total and proportional deaths caused by COVID-19. The map offers a simplified view, allowing viewers to easily understand the regions we are analyzing (East and West coasts) and the corresponding death tolls using bubble map visuals and colors. On the other hand, the box plot offers a different perspective on the data, enabling viewers to see the overall impact of deaths rather than individual states as shown in the geospatial map, while also highlighting any outliers. Additionally, the t-test provides further confirmation of the relationship of COVID-19 deaths between the West and East coasts.\n",
    "- What were the results and interpretations?\n",
    "  - The geospatial map illustrated how COVID-19 impacted regions, with states like California and Florida being the most affected. It can also be interpreted that highly urban and densely populated states such as California, Florida, New York, and New Jersey are more likely to experience higher COVID-19 death rates than states with lower urban populations. In the boxplots, insights into the central tendency (median values) revealed that, on average, there were slightly less than 5,000 deaths for both the West and East coasts. Additionally, it provided a glimpse into the variability among our data, showing that the East coast had a greater variability of deaths compared to the West coast. The t-test results indicated a significant difference in COVID-19 death rates between the East and West coasts, with a p-value of 0.01."
   ]
  },
  {
   "cell_type": "markdown",
   "metadata": {},
   "source": [
    "### Proportional COVID Deaths vs Coast Geospatial Map\n"
   ]
  },
  {
   "cell_type": "code",
   "execution_count": 25,
   "metadata": {},
   "outputs": [
    {
     "data": {
      "application/vnd.plotly.v1+json": {
       "config": {
        "plotlyServerURL": "https://plot.ly"
       },
       "data": [
        {
         "geo": "geo",
         "hovertemplate": "<b>%{hovertext}</b><br><br>Portion of Deaths due to COVID=%{marker.color}<br>State=%{location}<extra></extra>",
         "hovertext": [
          "CA",
          "CT",
          "DE",
          "FL",
          "GA",
          "MA",
          "MD",
          "NC",
          "NH",
          "NJ",
          "NY",
          "OR",
          "PA",
          "RI",
          "SC",
          "VA",
          "WA"
         ],
         "legendgroup": "",
         "locationmode": "USA-states",
         "locations": [
          "CA",
          "CT",
          "DE",
          "FL",
          "GA",
          "MA",
          "MD",
          "NC",
          "NH",
          "NJ",
          "NY",
          "OR",
          "PA",
          "RI",
          "SC",
          "VA",
          "WA"
         ],
         "marker": {
          "color": [
           2.419650201207198,
           0.38614458535363183,
           0.07906976744186046,
           2.318434429584363,
           1.2811831207313256,
           0.645717294404181,
           0.6976032111441709,
           0.7688647021104055,
           0.0769495018893851,
           1.8132088929763888,
           1.9842786156685377,
           0.12724883628130074,
           1.45074380405454,
           0.11088384110237916,
           0.5020137019501795,
           0.9783939690555743,
           0.36356543766090177
          ],
          "coloraxis": "coloraxis",
          "line": {
           "color": "rgb(0,0,0)",
           "width": 1
          },
          "size": [
           2.419650201207198,
           0.38614458535363183,
           0.07906976744186046,
           2.318434429584363,
           1.2811831207313256,
           0.645717294404181,
           0.6976032111441709,
           0.7688647021104055,
           0.0769495018893851,
           1.8132088929763888,
           1.9842786156685377,
           0.12724883628130074,
           1.45074380405454,
           0.11088384110237916,
           0.5020137019501795,
           0.9783939690555743,
           0.36356543766090177
          ],
          "sizemode": "area",
          "sizeref": 0.006049125503017994,
          "symbol": "circle"
         },
         "mode": "markers",
         "name": "",
         "showlegend": false,
         "type": "scattergeo"
        }
       ],
       "layout": {
        "coloraxis": {
         "colorbar": {
          "title": {
           "text": "Portion of Deaths due to COVID"
          }
         },
         "colorscale": [
          [
           0,
           "#fcfdbf"
          ],
          [
           0.1111111111111111,
           "#feca8d"
          ],
          [
           0.2222222222222222,
           "#fd9668"
          ],
          [
           0.3333333333333333,
           "#f1605d"
          ],
          [
           0.4444444444444444,
           "#cd4071"
          ],
          [
           0.5555555555555556,
           "#9e2f7f"
          ],
          [
           0.6666666666666666,
           "#721f81"
          ],
          [
           0.7777777777777778,
           "#440f76"
          ],
          [
           0.8888888888888888,
           "#180f3d"
          ],
          [
           1,
           "#000004"
          ]
         ]
        },
        "geo": {
         "center": {},
         "countrycolor": "gray",
         "domain": {
          "x": [
           0,
           1
          ],
          "y": [
           0,
           1
          ]
         },
         "fitbounds": "locations",
         "landcolor": "rgb(217, 217, 217)",
         "projection": {
          "type": "albers usa"
         },
         "showcountries": true,
         "showland": true,
         "showsubunits": true,
         "subunitcolor": "gray",
         "visible": false
        },
        "height": 700,
        "legend": {
         "itemsizing": "constant",
         "tracegroupgap": 0
        },
        "template": {
         "data": {
          "bar": [
           {
            "error_x": {
             "color": "#2a3f5f"
            },
            "error_y": {
             "color": "#2a3f5f"
            },
            "marker": {
             "line": {
              "color": "#E5ECF6",
              "width": 0.5
             },
             "pattern": {
              "fillmode": "overlay",
              "size": 10,
              "solidity": 0.2
             }
            },
            "type": "bar"
           }
          ],
          "barpolar": [
           {
            "marker": {
             "line": {
              "color": "#E5ECF6",
              "width": 0.5
             },
             "pattern": {
              "fillmode": "overlay",
              "size": 10,
              "solidity": 0.2
             }
            },
            "type": "barpolar"
           }
          ],
          "carpet": [
           {
            "aaxis": {
             "endlinecolor": "#2a3f5f",
             "gridcolor": "white",
             "linecolor": "white",
             "minorgridcolor": "white",
             "startlinecolor": "#2a3f5f"
            },
            "baxis": {
             "endlinecolor": "#2a3f5f",
             "gridcolor": "white",
             "linecolor": "white",
             "minorgridcolor": "white",
             "startlinecolor": "#2a3f5f"
            },
            "type": "carpet"
           }
          ],
          "choropleth": [
           {
            "colorbar": {
             "outlinewidth": 0,
             "ticks": ""
            },
            "type": "choropleth"
           }
          ],
          "contour": [
           {
            "colorbar": {
             "outlinewidth": 0,
             "ticks": ""
            },
            "colorscale": [
             [
              0,
              "#0d0887"
             ],
             [
              0.1111111111111111,
              "#46039f"
             ],
             [
              0.2222222222222222,
              "#7201a8"
             ],
             [
              0.3333333333333333,
              "#9c179e"
             ],
             [
              0.4444444444444444,
              "#bd3786"
             ],
             [
              0.5555555555555556,
              "#d8576b"
             ],
             [
              0.6666666666666666,
              "#ed7953"
             ],
             [
              0.7777777777777778,
              "#fb9f3a"
             ],
             [
              0.8888888888888888,
              "#fdca26"
             ],
             [
              1,
              "#f0f921"
             ]
            ],
            "type": "contour"
           }
          ],
          "contourcarpet": [
           {
            "colorbar": {
             "outlinewidth": 0,
             "ticks": ""
            },
            "type": "contourcarpet"
           }
          ],
          "heatmap": [
           {
            "colorbar": {
             "outlinewidth": 0,
             "ticks": ""
            },
            "colorscale": [
             [
              0,
              "#0d0887"
             ],
             [
              0.1111111111111111,
              "#46039f"
             ],
             [
              0.2222222222222222,
              "#7201a8"
             ],
             [
              0.3333333333333333,
              "#9c179e"
             ],
             [
              0.4444444444444444,
              "#bd3786"
             ],
             [
              0.5555555555555556,
              "#d8576b"
             ],
             [
              0.6666666666666666,
              "#ed7953"
             ],
             [
              0.7777777777777778,
              "#fb9f3a"
             ],
             [
              0.8888888888888888,
              "#fdca26"
             ],
             [
              1,
              "#f0f921"
             ]
            ],
            "type": "heatmap"
           }
          ],
          "heatmapgl": [
           {
            "colorbar": {
             "outlinewidth": 0,
             "ticks": ""
            },
            "colorscale": [
             [
              0,
              "#0d0887"
             ],
             [
              0.1111111111111111,
              "#46039f"
             ],
             [
              0.2222222222222222,
              "#7201a8"
             ],
             [
              0.3333333333333333,
              "#9c179e"
             ],
             [
              0.4444444444444444,
              "#bd3786"
             ],
             [
              0.5555555555555556,
              "#d8576b"
             ],
             [
              0.6666666666666666,
              "#ed7953"
             ],
             [
              0.7777777777777778,
              "#fb9f3a"
             ],
             [
              0.8888888888888888,
              "#fdca26"
             ],
             [
              1,
              "#f0f921"
             ]
            ],
            "type": "heatmapgl"
           }
          ],
          "histogram": [
           {
            "marker": {
             "pattern": {
              "fillmode": "overlay",
              "size": 10,
              "solidity": 0.2
             }
            },
            "type": "histogram"
           }
          ],
          "histogram2d": [
           {
            "colorbar": {
             "outlinewidth": 0,
             "ticks": ""
            },
            "colorscale": [
             [
              0,
              "#0d0887"
             ],
             [
              0.1111111111111111,
              "#46039f"
             ],
             [
              0.2222222222222222,
              "#7201a8"
             ],
             [
              0.3333333333333333,
              "#9c179e"
             ],
             [
              0.4444444444444444,
              "#bd3786"
             ],
             [
              0.5555555555555556,
              "#d8576b"
             ],
             [
              0.6666666666666666,
              "#ed7953"
             ],
             [
              0.7777777777777778,
              "#fb9f3a"
             ],
             [
              0.8888888888888888,
              "#fdca26"
             ],
             [
              1,
              "#f0f921"
             ]
            ],
            "type": "histogram2d"
           }
          ],
          "histogram2dcontour": [
           {
            "colorbar": {
             "outlinewidth": 0,
             "ticks": ""
            },
            "colorscale": [
             [
              0,
              "#0d0887"
             ],
             [
              0.1111111111111111,
              "#46039f"
             ],
             [
              0.2222222222222222,
              "#7201a8"
             ],
             [
              0.3333333333333333,
              "#9c179e"
             ],
             [
              0.4444444444444444,
              "#bd3786"
             ],
             [
              0.5555555555555556,
              "#d8576b"
             ],
             [
              0.6666666666666666,
              "#ed7953"
             ],
             [
              0.7777777777777778,
              "#fb9f3a"
             ],
             [
              0.8888888888888888,
              "#fdca26"
             ],
             [
              1,
              "#f0f921"
             ]
            ],
            "type": "histogram2dcontour"
           }
          ],
          "mesh3d": [
           {
            "colorbar": {
             "outlinewidth": 0,
             "ticks": ""
            },
            "type": "mesh3d"
           }
          ],
          "parcoords": [
           {
            "line": {
             "colorbar": {
              "outlinewidth": 0,
              "ticks": ""
             }
            },
            "type": "parcoords"
           }
          ],
          "pie": [
           {
            "automargin": true,
            "type": "pie"
           }
          ],
          "scatter": [
           {
            "fillpattern": {
             "fillmode": "overlay",
             "size": 10,
             "solidity": 0.2
            },
            "type": "scatter"
           }
          ],
          "scatter3d": [
           {
            "line": {
             "colorbar": {
              "outlinewidth": 0,
              "ticks": ""
             }
            },
            "marker": {
             "colorbar": {
              "outlinewidth": 0,
              "ticks": ""
             }
            },
            "type": "scatter3d"
           }
          ],
          "scattercarpet": [
           {
            "marker": {
             "colorbar": {
              "outlinewidth": 0,
              "ticks": ""
             }
            },
            "type": "scattercarpet"
           }
          ],
          "scattergeo": [
           {
            "marker": {
             "colorbar": {
              "outlinewidth": 0,
              "ticks": ""
             }
            },
            "type": "scattergeo"
           }
          ],
          "scattergl": [
           {
            "marker": {
             "colorbar": {
              "outlinewidth": 0,
              "ticks": ""
             }
            },
            "type": "scattergl"
           }
          ],
          "scattermapbox": [
           {
            "marker": {
             "colorbar": {
              "outlinewidth": 0,
              "ticks": ""
             }
            },
            "type": "scattermapbox"
           }
          ],
          "scatterpolar": [
           {
            "marker": {
             "colorbar": {
              "outlinewidth": 0,
              "ticks": ""
             }
            },
            "type": "scatterpolar"
           }
          ],
          "scatterpolargl": [
           {
            "marker": {
             "colorbar": {
              "outlinewidth": 0,
              "ticks": ""
             }
            },
            "type": "scatterpolargl"
           }
          ],
          "scatterternary": [
           {
            "marker": {
             "colorbar": {
              "outlinewidth": 0,
              "ticks": ""
             }
            },
            "type": "scatterternary"
           }
          ],
          "surface": [
           {
            "colorbar": {
             "outlinewidth": 0,
             "ticks": ""
            },
            "colorscale": [
             [
              0,
              "#0d0887"
             ],
             [
              0.1111111111111111,
              "#46039f"
             ],
             [
              0.2222222222222222,
              "#7201a8"
             ],
             [
              0.3333333333333333,
              "#9c179e"
             ],
             [
              0.4444444444444444,
              "#bd3786"
             ],
             [
              0.5555555555555556,
              "#d8576b"
             ],
             [
              0.6666666666666666,
              "#ed7953"
             ],
             [
              0.7777777777777778,
              "#fb9f3a"
             ],
             [
              0.8888888888888888,
              "#fdca26"
             ],
             [
              1,
              "#f0f921"
             ]
            ],
            "type": "surface"
           }
          ],
          "table": [
           {
            "cells": {
             "fill": {
              "color": "#EBF0F8"
             },
             "line": {
              "color": "white"
             }
            },
            "header": {
             "fill": {
              "color": "#C8D4E3"
             },
             "line": {
              "color": "white"
             }
            },
            "type": "table"
           }
          ]
         },
         "layout": {
          "annotationdefaults": {
           "arrowcolor": "#2a3f5f",
           "arrowhead": 0,
           "arrowwidth": 1
          },
          "autotypenumbers": "strict",
          "coloraxis": {
           "colorbar": {
            "outlinewidth": 0,
            "ticks": ""
           }
          },
          "colorscale": {
           "diverging": [
            [
             0,
             "#8e0152"
            ],
            [
             0.1,
             "#c51b7d"
            ],
            [
             0.2,
             "#de77ae"
            ],
            [
             0.3,
             "#f1b6da"
            ],
            [
             0.4,
             "#fde0ef"
            ],
            [
             0.5,
             "#f7f7f7"
            ],
            [
             0.6,
             "#e6f5d0"
            ],
            [
             0.7,
             "#b8e186"
            ],
            [
             0.8,
             "#7fbc41"
            ],
            [
             0.9,
             "#4d9221"
            ],
            [
             1,
             "#276419"
            ]
           ],
           "sequential": [
            [
             0,
             "#0d0887"
            ],
            [
             0.1111111111111111,
             "#46039f"
            ],
            [
             0.2222222222222222,
             "#7201a8"
            ],
            [
             0.3333333333333333,
             "#9c179e"
            ],
            [
             0.4444444444444444,
             "#bd3786"
            ],
            [
             0.5555555555555556,
             "#d8576b"
            ],
            [
             0.6666666666666666,
             "#ed7953"
            ],
            [
             0.7777777777777778,
             "#fb9f3a"
            ],
            [
             0.8888888888888888,
             "#fdca26"
            ],
            [
             1,
             "#f0f921"
            ]
           ],
           "sequentialminus": [
            [
             0,
             "#0d0887"
            ],
            [
             0.1111111111111111,
             "#46039f"
            ],
            [
             0.2222222222222222,
             "#7201a8"
            ],
            [
             0.3333333333333333,
             "#9c179e"
            ],
            [
             0.4444444444444444,
             "#bd3786"
            ],
            [
             0.5555555555555556,
             "#d8576b"
            ],
            [
             0.6666666666666666,
             "#ed7953"
            ],
            [
             0.7777777777777778,
             "#fb9f3a"
            ],
            [
             0.8888888888888888,
             "#fdca26"
            ],
            [
             1,
             "#f0f921"
            ]
           ]
          },
          "colorway": [
           "#636efa",
           "#EF553B",
           "#00cc96",
           "#ab63fa",
           "#FFA15A",
           "#19d3f3",
           "#FF6692",
           "#B6E880",
           "#FF97FF",
           "#FECB52"
          ],
          "font": {
           "color": "#2a3f5f"
          },
          "geo": {
           "bgcolor": "white",
           "lakecolor": "white",
           "landcolor": "#E5ECF6",
           "showlakes": true,
           "showland": true,
           "subunitcolor": "white"
          },
          "hoverlabel": {
           "align": "left"
          },
          "hovermode": "closest",
          "mapbox": {
           "style": "light"
          },
          "paper_bgcolor": "white",
          "plot_bgcolor": "#E5ECF6",
          "polar": {
           "angularaxis": {
            "gridcolor": "white",
            "linecolor": "white",
            "ticks": ""
           },
           "bgcolor": "#E5ECF6",
           "radialaxis": {
            "gridcolor": "white",
            "linecolor": "white",
            "ticks": ""
           }
          },
          "scene": {
           "xaxis": {
            "backgroundcolor": "#E5ECF6",
            "gridcolor": "white",
            "gridwidth": 2,
            "linecolor": "white",
            "showbackground": true,
            "ticks": "",
            "zerolinecolor": "white"
           },
           "yaxis": {
            "backgroundcolor": "#E5ECF6",
            "gridcolor": "white",
            "gridwidth": 2,
            "linecolor": "white",
            "showbackground": true,
            "ticks": "",
            "zerolinecolor": "white"
           },
           "zaxis": {
            "backgroundcolor": "#E5ECF6",
            "gridcolor": "white",
            "gridwidth": 2,
            "linecolor": "white",
            "showbackground": true,
            "ticks": "",
            "zerolinecolor": "white"
           }
          },
          "shapedefaults": {
           "line": {
            "color": "#2a3f5f"
           }
          },
          "ternary": {
           "aaxis": {
            "gridcolor": "white",
            "linecolor": "white",
            "ticks": ""
           },
           "baxis": {
            "gridcolor": "white",
            "linecolor": "white",
            "ticks": ""
           },
           "bgcolor": "#E5ECF6",
           "caxis": {
            "gridcolor": "white",
            "linecolor": "white",
            "ticks": ""
           }
          },
          "title": {
           "x": 0.05
          },
          "xaxis": {
           "automargin": true,
           "gridcolor": "white",
           "linecolor": "white",
           "ticks": "",
           "title": {
            "standoff": 15
           },
           "zerolinecolor": "white",
           "zerolinewidth": 2
          },
          "yaxis": {
           "automargin": true,
           "gridcolor": "white",
           "linecolor": "white",
           "ticks": "",
           "title": {
            "standoff": 15
           },
           "zerolinecolor": "white",
           "zerolinewidth": 2
          }
         }
        },
        "title": {
         "text": "COVID-19 Deaths: West V.S. East Coast",
         "x": 0.5
        },
        "width": 900
       }
      }
     },
     "metadata": {},
     "output_type": "display_data"
    }
   ],
   "source": [
    "# Group the deaths by state\n",
    "df_grouped = df.groupby('State', as_index=False)['Portion of Deaths due to COVID'].sum()\n",
    "\n",
    "# Create the plots\n",
    "fig = px.scatter_geo(df_grouped, \n",
    "                     locations=\"State\", \n",
    "                     locationmode=\"USA-states\",\n",
    "                     color=\"Portion of Deaths due to COVID\",\n",
    "                     hover_name=\"State\",\n",
    "                     size=\"Portion of Deaths due to COVID\",\n",
    "                     projection=\"albers usa\",\n",
    "                     title=\"COVID-19 Deaths: West V.S. East Coast\",\n",
    "                     color_continuous_scale='Magma_r',\n",
    "                     width=900,  # Set width of the graph\n",
    "                     height=700  # Set height of the graph                     \n",
    "                    )\n",
    "\n",
    "# Fix the map\n",
    "fig.update_geos(\n",
    "    fitbounds=\"locations\",\n",
    "    visible=False,\n",
    "    showcountries=True, \n",
    "    showsubunits=True,  \n",
    "    subunitcolor=\"gray\",\n",
    "    showland=True,\n",
    "    landcolor='rgb(217, 217, 217)',\n",
    "    countrycolor=\"gray\"  # Color of country borders\n",
    ")\n",
    "\n",
    "# Put borders onto circles\n",
    "fig.update_traces(marker=dict(line=dict(width=1, color='rgb(0,0,0)')))\n",
    "\n",
    "# Center the title\n",
    "fig.update_layout(title_x=0.5)\n",
    "\n"
   ]
  },
  {
   "cell_type": "markdown",
   "metadata": {},
   "source": [
    "###  Total Deaths v.s. Coast Boxplot"
   ]
  },
  {
   "cell_type": "code",
   "execution_count": 11,
   "metadata": {},
   "outputs": [
    {
     "data": {
      "text/plain": [
       "Text(0.5, 1.0, 'COVID-19 Deaths for West and East Coast')"
      ]
     },
     "execution_count": 11,
     "metadata": {},
     "output_type": "execute_result"
    },
    {
     "data": {
      "image/png": "[encoded data removed]",
      "text/plain": [
       "<Figure size 1200x800 with 1 Axes>"
      ]
     },
     "metadata": {},
     "output_type": "display_data"
    }
   ],
   "source": [
    "plt.figure(figsize = (12, 8))\n",
    "\n",
    "boxplot = sns.boxplot(data = df, y = 'COVID-19 Deaths', x = 'Coast', hue = 'Coast')\n",
    "boxplot.set_xlabel('Coast')\n",
    "boxplot.set_title('COVID-19 Deaths for West and East Coast')"
   ]
  },
  {
   "cell_type": "markdown",
   "metadata": {},
   "source": [
    "Looking at this graph, we can see the general distributions of COVID-19 Deaths between the West and East Coast. We can see that the East Coast has more outliers than the West Coast. We can also see that the interquartile range between the West and East Coast are fairly similar. However, based on this information alone, it is hard to visualize the actual difference or meaningful trends between these two populations."
   ]
  },
  {
   "cell_type": "markdown",
   "metadata": {},
   "source": [
    "### COVID Death Rates in Relation to Coast T-test\n",
    "\n"
   ]
  },
  {
   "cell_type": "code",
   "execution_count": 12,
   "metadata": {},
   "outputs": [
    {
     "name": "stdout",
     "output_type": "stream",
     "text": [
      "t-statistic: -3.801220815269658\n",
      "p-value: 0.00020113242613057811\n"
     ]
    }
   ],
   "source": [
    "west_df = df[df['Coast'] == 'West']\n",
    "east_df = df[df['Coast'] == 'East']\n",
    "\n",
    "t_statistic, p_value = ttest_ind(west_df['Portion of Deaths due to COVID'], east_df['Portion of Deaths due to COVID'])\n",
    "print(\"t-statistic:\", t_statistic)\n",
    "print(\"p-value:\", p_value)"
   ]
  },
  {
   "cell_type": "markdown",
   "metadata": {},
   "source": [
    "In order to quantify that living in the West vs East Coast actually causes a significant difference in the portion of deaths due to COVID, let's use a t-test to test the difference between these two groups. This works well with the given data because we would like to see if there really is a statistical difference between East and West Coast COVID Rates and the null hypothesis of the trend being caused by random chance. Since our p_value is very small, below the threshold of 0.01, this means that there is a statistical difference between COVID death rates on the East Coast vs the West Coast and that the difference is not due to random chance."
   ]
  },
  {
   "cell_type": "markdown",
   "metadata": {},
   "source": [
    "## Urbanization level Analysis\n",
    "\n",
    "Now, let's take a look at our four different types of urbanization areas, which are Small Metro, Medium Metro, Large Fringe Metro and Large Central Metro and how they affect COVID total deaths and COVID death rates.\n",
    "- What approaches was used? Why?\n",
    "  - The approaches used for this section was primarily barplots and a t-test. The barplots provided and easier way of viewing the West and Eastern States urbanization level: small, medium, large centro and large fringe against total and proportional COVID deaths. While the t-test tells us if there is a relationship between COVID deaths and a counties' urbanization level.\n",
    "\n",
    "- What were the results and interpretations?\n",
    "  - Analysis of the bar plots revealed that regions with lower urbanization levels on the West and East coasts experienced a similar impact in terms of total and proportional deaths. Interestingly, discrepancies in the data emerged when examining higher urbanization levels. The West coast exhibited a higher total COVID death rate, while the East coast showed a higher proportional COVID death rate. However, this variance could potentially be attributed to our dataset encompassing more states from the East coast than the West coast, as well as the differing number of counties with higher or lower urbanization levels within each state or coast. In the t-test, we discovered that the p-value at a higher urbanization level was too high to establish significance, thus a definitive relationship cannot be determined. However, at a smaller urbanization level, the results were closer to significance, with a p-value of 0.45. With a larger dataset, there is a possibility of identifying a significant relationship between COVID-19 deaths on the West and East coasts at a smaller urbanization level."
   ]
  },
  {
   "cell_type": "markdown",
   "metadata": {},
   "source": [
    "### Total COVID Deaths vs Urbanization and Coast"
   ]
  },
  {
   "cell_type": "code",
   "execution_count": 13,
   "metadata": {},
   "outputs": [
    {
     "name": "stderr",
     "output_type": "stream",
     "text": [
      "/var/folders/ky/91lk79yn3gd90j52mfhp82bm0000gn/T/ipykernel_1974/3802808431.py:3: UserWarning:\n",
      "\n",
      "set_ticklabels() should only be used with a fixed number of ticks, i.e. after set_ticks() or using a FixedLocator.\n",
      "\n"
     ]
    },
    {
     "data": {
      "text/plain": [
       "[Text(0, 0, 'Small metro'),\n",
       " Text(1, 0, 'Medium metro'),\n",
       " Text(2, 0, 'Large fringe metro'),\n",
       " Text(3, 0, 'Large central metro')]"
      ]
     },
     "execution_count": 13,
     "metadata": {},
     "output_type": "execute_result"
    },
    {
     "data": {
      "image/png": "[encoded data removed]",
      "text/plain": [
       "<Figure size 640x480 with 1 Axes>"
      ]
     },
     "metadata": {},
     "output_type": "display_data"
    }
   ],
   "source": [
    "\n",
    "barplot = sns.barplot(data = df, y = 'COVID-19 Deaths', x = 'Urban Rural Description', hue = 'Coast', order = ['Small metro', 'Medium metro', 'Large fringe metro', 'Large central metro'],)\n",
    "barplot.set_title('COVID-19 Deaths for West and East Coast and their Urbanizations')\n",
    "barplot.set_xticklabels(barplot.get_xticklabels(), rotation=40, ha=\"right\")"
   ]
  },
  {
   "cell_type": "markdown",
   "metadata": {},
   "source": [
    "Looking at this graph, we can see that the West Coast has less COVID-19 Deaths for small metro, similar COVID-19 Deaths for medium metro and large fringe metro, and more COVID-19 Deaths for large central metro when compared to the East Coast. However, this does intituively make sense, because if we are only looking at total deaths, naturally large central metros will have a higher number of COVID deaths."
   ]
  },
  {
   "cell_type": "markdown",
   "metadata": {},
   "source": [
    "### Percentage of Total Deaths caused by COVID vs Urbanization\n"
   ]
  },
  {
   "cell_type": "code",
   "execution_count": 14,
   "metadata": {},
   "outputs": [
    {
     "name": "stderr",
     "output_type": "stream",
     "text": [
      "/var/folders/ky/91lk79yn3gd90j52mfhp82bm0000gn/T/ipykernel_1974/450922500.py:3: UserWarning:\n",
      "\n",
      "set_ticklabels() should only be used with a fixed number of ticks, i.e. after set_ticks() or using a FixedLocator.\n",
      "\n"
     ]
    },
    {
     "data": {
      "text/plain": [
       "[Text(0, 0, 'Small metro'),\n",
       " Text(1, 0, 'Medium metro'),\n",
       " Text(2, 0, 'Large fringe metro'),\n",
       " Text(3, 0, 'Large central metro')]"
      ]
     },
     "execution_count": 14,
     "metadata": {},
     "output_type": "execute_result"
    },
    {
     "data": {
      "image/png": "[encoded data removed]",
      "text/plain": [
       "<Figure size 640x480 with 1 Axes>"
      ]
     },
     "metadata": {},
     "output_type": "display_data"
    }
   ],
   "source": [
    "barplot = sns.barplot(data = df, y = 'Portion of Deaths due to COVID', x = 'Urban Rural Description', hue = 'Coast', order = ['Small metro', 'Medium metro', 'Large fringe metro', 'Large central metro'],)\n",
    "barplot.set_title('Ratio of Total Deaths due to COVID for West and East Coast and their Urbanizations')\n",
    "barplot.set_xticklabels(barplot.get_xticklabels(), rotation=40, ha=\"right\")"
   ]
  },
  {
   "cell_type": "markdown",
   "metadata": {},
   "source": [
    "Interestingly enough, the East Coast seems to have a higher percent of deaths caused by COVID mostly except for small metros, where West Coast has a higher portion of COVID deaths. The difference between East and West Coast is most noticeable in the large fringe metro. Again, West Coast counties tend to have more outliers than East Coast.\n"
   ]
  },
  {
   "cell_type": "markdown",
   "metadata": {},
   "source": [
    "### COVID Death Rates vs Urbanization\n"
   ]
  },
  {
   "cell_type": "code",
   "execution_count": 32,
   "metadata": {},
   "outputs": [
    {
     "name": "stdout",
     "output_type": "stream",
     "text": [
      "Small West Metro Count: 4\n",
      "Small East Metro Count: 5\n",
      "Medium West Metro Count: 13\n",
      "Medium East Metro Count: 46\n",
      "Large Fringe West Metro Count: 9\n",
      "Large Fringe East Metro Count: 54\n",
      "Large Central West Metro Count: 10\n",
      "Large Central East Metro Count: 29\n"
     ]
    }
   ],
   "source": [
    "#Small Metro\n",
    "west_small_df = df[(df['Urban Rural Description'] == 'Small metro') & (df['Coast'] == 'West')]\n",
    "east_small_df = df[(df['Urban Rural Description'] == 'Small metro') & (df['Coast'] == 'East')]\n",
    "\n",
    "west_small_count = west_small_df.shape[0]\n",
    "east_small_count = east_small_df.shape[0]\n",
    "print(\"Small West Metro Count:\", west_small_count)\n",
    "print(\"Small East Metro Count:\",  east_small_count)\n",
    "\n",
    "#Medium Metro\n",
    "west_medium_df = df[(df['Urban Rural Description'] == 'Medium metro') & (df['Coast'] == 'West')]\n",
    "east_medium_df = df[(df['Urban Rural Description'] == 'Medium metro') & (df['Coast'] == 'East')]\n",
    "\n",
    "west_medium_count = west_medium_df.shape[0]\n",
    "east_medium_count = east_medium_df.shape[0]\n",
    "print(\"Medium West Metro Count:\", west_medium_count)\n",
    "print(\"Medium East Metro Count:\", east_medium_count)\n",
    "\n",
    "#Large Fringe Metro\n",
    "west_large_fringe_df = df[(df['Urban Rural Description'] == 'Large fringe metro') & (df['Coast'] == 'West')]\n",
    "east_large_fringe_df = df[(df['Urban Rural Description'] == 'Large fringe metro') & (df['Coast'] == 'East')]\n",
    "\n",
    "west_large_fringe_count = west_large_fringe_df.shape[0]\n",
    "east_large_fringe_count = east_large_fringe_df.shape[0]\n",
    "print(\"Large Fringe West Metro Count:\", west_large_fringe_count)\n",
    "print(\"Large Fringe East Metro Count:\", east_large_fringe_count)\n",
    "\n",
    "# Large Central Metro\n",
    "west_large_central_df = df[(df['Urban Rural Description'] == 'Large central metro') & (df['Coast'] == 'West')]\n",
    "east_large_central_df = df[(df['Urban Rural Description'] == 'Large central metro') & (df['Coast'] == 'East')]\n",
    "\n",
    "west_large_central_count = west_large_central_df.shape[0]\n",
    "east_large_central_count = east_large_central_df.shape[0]\n",
    "print(\"Large Central West Metro Count:\", west_large_central_count)\n",
    "print(\"Large Central East Metro Count:\", east_large_central_count)\n",
    "\n",
    "# Combining small & medium metro and large centro & large fringe to reduce outlier that skew our data \n",
    "# We also labeled the resulting combination 'smaller' and 'larger' for ease of understanding \n",
    "west_smaller_df = pd.concat([west_small_df, west_medium_df])\n",
    "west_larger_df = pd.concat([west_large_fringe_df, west_large_central_df])\n",
    "\n",
    "east_smaller_df = pd.concat([east_small_df, east_medium_df])\n",
    "east_larger_df = pd.concat([east_large_fringe_df, east_large_central_df])\n",
    "\n",
    "west_smaller_df = west_smaller_df.reset_index(drop=True)\n",
    "west_larger_df = west_larger_df.reset_index(drop=True)\n",
    "east_smaller_df = east_smaller_df.reset_index(drop=True)\n",
    "east_larger_df = east_larger_df.reset_index(drop=True)\n",
    "\n",
    "# Applying a new column to the dataframe that has the a general discription of the urbanization level for each state (as seen in the previous code)\n",
    "df['General Urbanization'] = df['Urban Rural Description'].apply(lambda x: 'Small/Medium Metro' if x in ['Small metro', 'Medium metro'] else 'Large Fringe/Central Metro')\n"
   ]
  },
  {
   "cell_type": "code",
   "execution_count": 33,
   "metadata": {},
   "outputs": [
    {
     "name": "stderr",
     "output_type": "stream",
     "text": [
      "/var/folders/ky/91lk79yn3gd90j52mfhp82bm0000gn/T/ipykernel_49424/1687643131.py:3: UserWarning:\n",
      "\n",
      "set_ticklabels() should only be used with a fixed number of ticks, i.e. after set_ticks() or using a FixedLocator.\n",
      "\n"
     ]
    },
    {
     "data": {
      "text/plain": [
       "[Text(0, 0, 'Small/Medium Metro'), Text(1, 0, 'Large Fringe/Central Metro')]"
      ]
     },
     "execution_count": 33,
     "metadata": {},
     "output_type": "execute_result"
    },
    {
     "data": {
      "image/png": "[encoded data removed]",
      "text/plain": [
       "<Figure size 640x480 with 1 Axes>"
      ]
     },
     "metadata": {},
     "output_type": "display_data"
    }
   ],
   "source": [
    "barplot = sns.barplot(data = df, y = 'Portion of Deaths due to COVID', x = 'General Urbanization', hue = 'Coast', order = ['Small/Medium Metro', 'Large Fringe/Central Metro'])\n",
    "barplot.set_title('Ratio of Total Deaths due to COVID for West and East Coast and their Urbanizations')\n",
    "barplot.set_xticklabels(barplot.get_xticklabels(), rotation=40, ha=\"right\")"
   ]
  },
  {
   "cell_type": "markdown",
   "metadata": {},
   "source": [
    "To start off, we want to see if there is a significant level of difference WITHIN the same urbanization of counties but with different coasts (i.e. small metro West vs East, medium metro West vs East etc.). Therefore, we can run a t_test for all four of our urbanization types. One slight issue with our analysis is that there is a large disparity in the number of observations for some of our urbanization levels. For example, there are only 4 small west metros and 5 small east metros. If we were to compare them against each other, the small number of obversations could be swung heavily by outliers. Thus, we can commbine our small and medium metros and large fringe and large central and compare these counties as \"Smaller vs Larger Metro\". This would result in a broader comparison, but a better understanding of these trends. In order to make our lives easier when plotting, we can modify the df directly by adding an additional column that shows the generalization of  \"Smaller\" and \"Larger\" urban level."
   ]
  },
  {
   "cell_type": "markdown",
   "metadata": {},
   "source": [
    "### Small and Large Urban level T-test\n",
    "Now that we have combined our data in order to reduce outliers, it seems that small/medium metros are very similar in terms of death rates on the East and West Coast. On the other hand, large fringe/central metros have a significantly higher death rate on the East Coast. Let's run a T-Test to see if these results are significant.\n"
   ]
  },
  {
   "cell_type": "code",
   "execution_count": 34,
   "metadata": {},
   "outputs": [
    {
     "name": "stdout",
     "output_type": "stream",
     "text": [
      "Small/Medium Statistics\n",
      "t-statistic: -0.7216757965226612\n",
      "p-value: 0.473042849033364\n",
      "\n",
      "\n",
      "Large Fringe/Central Statistics\n",
      "t-statistic: -4.190952786211244\n",
      "p-value: 6.002924693847407e-05\n"
     ]
    }
   ],
   "source": [
    "#Small Medium Analysis\n",
    "t_statistic_1, p_value_1 = ttest_ind(west_smaller_df['Portion of Deaths due to COVID'], east_smaller_df['Portion of Deaths due to COVID'])\n",
    "print(\"Small/Medium Statistics\")\n",
    "print(\"t-statistic:\", t_statistic_1)\n",
    "print(\"p-value:\", p_value_1)\n",
    "\n",
    "#Large Fringe/Central Analysis\n",
    "t_statistic_2, p_value_2 = ttest_ind(west_larger_df['Portion of Deaths due to COVID'], east_larger_df['Portion of Deaths due to COVID'])\n",
    "print(\"\\n\\nLarge Fringe/Central Statistics\")\n",
    "print(\"t-statistic:\", t_statistic_2)\n",
    "print(\"p-value:\", p_value_2)"
   ]
  },
  {
   "cell_type": "markdown",
   "metadata": {},
   "source": [
    "Based on these t-values, our p-value for Large Metros in the East vs West Coast is very low, at around 6 e^-5, so there is a very big statistical difference between these groups. Also, our p-value for Small/Medium Metros in the East vs West Coast is only slightly smaller than the general threshold of 0.05 which means our p-value is very close to being significant. Thus, while it is hard to determine if small and medium metros are different in the East vs West Coast, there seems to be a lot higher portion of deaths in the Large metros in the East vs the West."
   ]
  },
  {
   "cell_type": "markdown",
   "metadata": {},
   "source": [
    "## Racial Background Analysis\n",
    "Let's explore even deeper by adding racial background and observe what their effect is to COVID-19 mortality rates.\n",
    "- What approaches was used? Why?\n",
    "  - the reason\n",
    "- What were the results and interpretations?\n",
    "  - some writing"
   ]
  },
  {
   "cell_type": "markdown",
   "metadata": {},
   "source": [
    "### Proportion of racial categories vs Urbanization\n",
    "The following graphs in this section takes a look at each racial background's proportion to COVID-19 deaths, in order to prevent cluttering and improve readability.\n"
   ]
  },
  {
   "cell_type": "code",
   "execution_count": null,
   "metadata": {},
   "outputs": [],
   "source": []
  },
  {
   "cell_type": "markdown",
   "metadata": {},
   "source": [
    "### Racial Background COVID-19 Death Rate vs Coast"
   ]
  },
  {
   "cell_type": "code",
   "execution_count": 35,
   "metadata": {},
   "outputs": [
    {
     "name": "stderr",
     "output_type": "stream",
     "text": [
      "/var/folders/ky/91lk79yn3gd90j52mfhp82bm0000gn/T/ipykernel_49424/1956154253.py:10: UserWarning:\n",
      "\n",
      "set_ticklabels() should only be used with a fixed number of ticks, i.e. after set_ticks() or using a FixedLocator.\n",
      "\n"
     ]
    },
    {
     "data": {
      "text/plain": [
       "[Text(0, 0, 'West'), Text(1, 0, 'East')]"
      ]
     },
     "execution_count": 35,
     "metadata": {},
     "output_type": "execute_result"
    },
    {
     "data": {
      "image/png": "[encoded data removed]",
      "text/plain": [
       "<Figure size 640x480 with 1 Axes>"
      ]
     },
     "metadata": {},
     "output_type": "display_data"
    }
   ],
   "source": [
    "# Before we do any visualizations, we need to modify our dataframe such that instead of the racial background COVID-19 death ratios are in multiple columns, we will put it in a singular column\n",
    "dropped_columns = ['State', 'County Name', 'Total deaths', 'COVID-19 Deaths', 'Portion of Deaths due to COVID', 'Urban Rural Description', 'General Urbanization']\n",
    "df_clean = df.copy().drop(dropped_columns, axis = 1)\n",
    "dfm = pd.melt(df_clean, id_vars = ['Coast'], var_name = 'Race', value_name = 'Racial Background Proportion to COVID-19 Deaths')\n",
    "dfm.head()\n",
    "\n",
    "# Now we do the visualization here with our modified dataframe.\n",
    "barplot = sns.barplot(data = dfm, y = \"Racial Background Proportion to COVID-19 Deaths\", x = 'Coast', hue = 'Race')\n",
    "barplot.set_title('Racial Background COVID19 Death Ratio vs Coast')\n",
    "barplot.set_xticklabels(barplot.get_xticklabels(), rotation=40, ha=\"right\")"
   ]
  },
  {
   "cell_type": "markdown",
   "metadata": {},
   "source": [
    "ADDD EXPLANATION FOR THE THIS GRAPH HERE"
   ]
  },
  {
   "cell_type": "markdown",
   "metadata": {},
   "source": [
    "# Ethics & Privacy"
   ]
  },
  {
   "cell_type": "markdown",
   "metadata": {},
   "source": [
    "We do not believe there would be issues regarding the confidentiality of patient/personal information as no names or specific data from one particular person would be used. All results were aggregated ensuring privacy at an individual level.\n",
    "\n",
    "Moreover, our data is sourced from reputable organizations such as the Health data organization, which adheres to strict ethical and data collection guidelines. Overall we believe our findings could prove to be beneficial to prepare for another pandemic in the future. \n",
    "\n",
    "However, it is also very crucial to approach any correlations with caution, avoiding misrepresentation of certain groups/populations of people when dealing with such diseases. Especially when dealing with our dataset that includes some missing values for race categories in a few counties. To account for this, we remove counties that lack proper representation of groups and make sure to only include those who include these values. By addressing these issues earlier during our cleaning portion of the data set we reduce biases before analyzing our data. To reduce bias after creating graphs, we plan on adding captions and carefully explain why we made certain choices: like what data to include, show or talk about for our project. Additionally, we took particular care in our project to ensure that no group is unfairly \"blamed\" or misrepresented based on their race. Especially given the increasing incidents of Asian hate during the COVID-19 pandemic, we are committed to presenting the data impartially and avoiding prejudice against any group. \n"
   ]
  },
  {
   "cell_type": "markdown",
   "metadata": {},
   "source": [
    "# Discusison and Conclusion\n",
    "\n",
    "Wrap it all up here.  Somewhere between 3 and 10 paragraphs roughly.  A good time to refer back to your Background section and review how this work extended the previous stuff. \n",
    "\n",
    "\n",
    "# Team Contributions\n",
    "\n",
    "Speficy who did what.  This should be pretty granular, perhaps bullet points, no more than a few sentences per person."
   ]
  }
 ],
 "metadata": {
  "kernelspec": {
   "display_name": "Python 3 (ipykernel)",
   "language": "python",
   "name": "python3"
  },
  "language_info": {
   "codemirror_mode": {
    "name": "ipython",
    "version": 3
   },
   "file_extension": ".py",
   "mimetype": "text/x-python",
   "name": "python",
   "nbconvert_exporter": "python",
   "pygments_lexer": "ipython3",
   "version": "3.9.6"
  }
 },
 "nbformat": 4,
 "nbformat_minor": 2
}
