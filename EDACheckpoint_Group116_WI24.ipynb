{
 "cells": [
  {
   "cell_type": "markdown",
   "metadata": {},
   "source": [
    "**If you lost points on the last checkpoint you can get them back by responding to TA/IA feedback**  \n",
    "\n",
    "Update/change the relevant sections where you lost those points, make sure you respond on GitHub Issues to your TA/IA to call their attention to the changes you made here.\n",
    "\n",
    "Please update your Timeline... no battle plan survives contact with the enemy, so make sure we understand how your plans have changed."
   ]
  },
  {
   "cell_type": "markdown",
   "metadata": {},
   "source": [
    "# COGS 108 - EDA Checkpoint"
   ]
  },
  {
   "cell_type": "markdown",
   "metadata": {},
   "source": [
    "# Names\n",
    "\n",
    "- Benjamin Hinnant\n",
    "- Desmond Vu\n",
    "- Kayla Maldonado\n",
    "- Alexander Gao\n",
    "- Keshav Tiwari"
   ]
  },
  {
   "cell_type": "markdown",
   "metadata": {},
   "source": [
    "# Research Question\n",
    "\n",
    "What is the relationship between the racial backgrounds and urbanization levels of western and eastern states, and what is their effect on COVID-19 mortality rates in the USA?  \n",
    "\n",
    "\n"
   ]
  },
  {
   "cell_type": "markdown",
   "metadata": {},
   "source": [
    "## Background & Prior Work\n",
    "\n",
    "During the COVID-19 pandemic, several analyses determined that people of color (POC) were experiencing a disproportionately larger COVID-19 mortality rate than Caucasians. One report from the APM Research Lab was written by Elisabeth Gawthrop, who used state-reported data from the U.S. Centers for Disease Control and Prevention, or CDC. She determined that as of September 27 of 2023, the COVID-19 mortality rate for Black individuals was around 55% higher than the rate for Caucasian individuals. The mortality rate for Latinos was nearly 65% higher than Caucasians (Gawthrop).  \n",
    "\n",
    "Another study done by Latoya Hill and Samantha Artiga used data from the CDC and the National Center for Health Statistics (NCHS). They determined that the largest differences in COVID-19 mortality rates between racial groups occurred during surges in the pandemic when the total mortality rate was particularly high. The first surge in COVID-19 deaths peaked in July 2020, and during this month, Hispanic individuals were five times more likely to die than Caucasians, American Indian or Alaska Natives (AIAN) were four times as likely to die, and Blacks were three times as likely to die. During the second surge in December 2020 and January 2021, all POC analyzed (Blacks, Hispanics, and AIAN) had higher rates of death than Caucasians. (Hill and Artiga).\n",
    "\n",
    "These previous studies have already assessed the relationship between racial background and COVID-19 mortality rates. As a result, we now want to determine the relationship between three variables: racial background, the level of urbanization, and whether the region of interest is an eastern or western state. We then want to determine the effect of these variables on COVID-19 mortality rates. By determining if any of these variables has a significant effect on mortality rates, we hope to potentially discover trends that can guide a future pandemic response.\n",
    "\n",
    "\n",
    "References \n",
    "\n",
    "Gawthrop, Elisabeth. “Color of Coronavirus: COVID-19 deaths analyzed by race and ethnicity — APM Research Lab.” APM Research Lab, 19 October 2023, https://www.apmresearchlab.org/covid/deaths-by-race. Accessed 25 February 2024. \n",
    "\n",
    "Hill, Latoya, and Samantha Artiga. “COVID-19 Cases and Deaths by Race/Ethnicity: Current Data and Changes Over Time.” KFF, 22 August 2022, https://www.kff.org/racial-equity-and-health-policy/issue-brief/covid-19-cases-and-deaths-by-race-ethnicity-current-data-and-changes-over-time/. Accessed 24 February 2024. \n"
   ]
  },
  {
   "cell_type": "markdown",
   "metadata": {},
   "source": [
    "# Hypothesis\n"
   ]
  },
  {
   "cell_type": "markdown",
   "metadata": {},
   "source": [
    "We predict that areas with a higher urbanization level will have higher COVID-19 mortality rates. Within the confined spaces of an urban region, there are more opportunities for the uninfected population to make contact with COVID-19 infected individuals. We also predict that areas with a larger population of racial minorities will have higher COVID-19 mortality rates, since these communities often have less resources available and may find it more difficult to treat every infected patient optimally. Combining our previous predictions, we predict that urban areas with a larger population of racial minorities will have the highest COVID-19 mortality rates, while rural areas with a smaller population of racial minorities will have the lowest COVID-19 mortality rates."
   ]
  },
  {
   "cell_type": "markdown",
   "metadata": {},
   "source": [
    "# Data"
   ]
  },
  {
   "cell_type": "markdown",
   "metadata": {},
   "source": [
    "## Data Overview\n",
    "**Dataset #1**\n",
    "- Dataset name: Provisional COVID-19 Deaths by County, and Race and Hispanic Origin\n",
    "- [Link to dataset](https://data.cdc.gov/NCHS/Provisional-COVID-19-Deaths-by-County-and-Race-and/k8wy-p9cg/about_data)\n",
    "- Number of Observations: 3,687\n",
    "- Number of Variables: 21\n",
    "\n",
    "**Description:** The dataset we are utilizing to address our question is the Provisional COVID-19 Deaths by County and Race and Hispanic Origin dataset, directly sourced from the Centers for Disease Control and Prevention (CDC) website. This dataset covers the period from January 4, 2020, to September 27, 2023, collected weekly from counties across all 50 states. It comprises around 3,700 observations with string and integer data types. The dataset is mostly complete, with NaN values only present for different racial populations. Key columns in the dataset include county name, state name, total deaths from all causes, deaths involving COVID-19, a description of the level of urbanization, and percentages of each racial category (such as Asian, White, Hispanic, American Indian, etc.). Deaths involving COVID-19 are identified by the presence of an U07.1 diagnosis code assigned to a deceased patient, which is assigned only if a patient tests positive for COVID-19. The urbanization level is determined by the National Center for Health Statistics (NCHS) Urban-Rural Classification Scheme for Counties, categorizing counties into 6 urban-rural categories suitable for health analyses.\n",
    "\n",
    "**Important Variables:**\n",
    "- Percentage of Race: Indicates the proportion of each racial category affected by COVID-19 in each county.\n",
    "- Urbanization level: Describes the level of urbanization of a county on a scale of 1 (large metropolitan city) to 6 (small non-core area), providing insights into how different counties address health access, resources, and disease prevention.\n",
    "- State Name: The state from which the data is collected, aiding in the analysis of regional differences in COVID-19.\n",
    "- Deaths by COVID-19: The number of deaths with a leading cause of COVID-19.\n",
    "\n",
    "**Data Wrangling:** As our focus is on COVID-19 deaths, affected populations, geographic locations, and urbanization levels, this dataset provides all the necessary information to address our research question. However, we do have concerns regarding missing data on certain races due to privacy concerns and unnecessary columns that are not required for this project. To address these, we cleaned the dataset by removing columns such as total deaths and ensured that we only considered counties that reported affected racial groups. This step was crucial to ensure the validity of our analysis by including as many individuals as possible in our observations. Despite the removal of some columns, we deemed this necessary given the ample data available from various counties that included racial populations for our analysis.\n",
    "\n"
   ]
  },
  {
   "cell_type": "markdown",
   "metadata": {},
   "source": [
    "## Dataset #1 Provisional COVID-19 Deaths by County, and Race and Hispanic Origin"
   ]
  },
  {
   "cell_type": "code",
   "execution_count": 1,
   "metadata": {},
   "outputs": [],
   "source": [
    "# Set up\n",
    "%matplotlib inline\n",
    "\n",
    "import numpy as np\n",
    "import pandas as pd\n",
    "import matplotlib.pyplot as plt\n",
    "import seaborn as sns\n"
   ]
  },
  {
   "cell_type": "code",
   "execution_count": 2,
   "metadata": {},
   "outputs": [],
   "source": [
    "# Reading the CSV file\n",
    "df = pd.read_csv('Provisional_COVID-19_Deaths_by_County__and_Race_and_Hispanic_Origin_20240224.csv')"
   ]
  },
  {
   "cell_type": "code",
   "execution_count": 3,
   "metadata": {},
   "outputs": [
    {
     "data": {
      "text/html": [
       "<div>\n",
       "<style scoped>\n",
       "    .dataframe tbody tr th:only-of-type {\n",
       "        vertical-align: middle;\n",
       "    }\n",
       "\n",
       "    .dataframe tbody tr th {\n",
       "        vertical-align: top;\n",
       "    }\n",
       "\n",
       "    .dataframe thead th {\n",
       "        text-align: right;\n",
       "    }\n",
       "</style>\n",
       "<table border=\"1\" class=\"dataframe\">\n",
       "  <thead>\n",
       "    <tr style=\"text-align: right;\">\n",
       "      <th></th>\n",
       "      <th>Data as of</th>\n",
       "      <th>Start Date</th>\n",
       "      <th>End Date</th>\n",
       "      <th>State</th>\n",
       "      <th>County Name</th>\n",
       "      <th>Urban Rural Code</th>\n",
       "      <th>FIPS State</th>\n",
       "      <th>FIPS County</th>\n",
       "      <th>FIPS Code</th>\n",
       "      <th>Indicator</th>\n",
       "      <th>...</th>\n",
       "      <th>COVID-19 Deaths</th>\n",
       "      <th>Non-Hispanic White</th>\n",
       "      <th>Non-Hispanic Black</th>\n",
       "      <th>Non-Hispanic American Indian or Alaska Native</th>\n",
       "      <th>Non-Hispanic Asian</th>\n",
       "      <th>Non-Hispanic Native Hawaiian or Other Pacific Islander</th>\n",
       "      <th>Hispanic</th>\n",
       "      <th>Other</th>\n",
       "      <th>Urban Rural Description</th>\n",
       "      <th>Footnote</th>\n",
       "    </tr>\n",
       "  </thead>\n",
       "  <tbody>\n",
       "    <tr>\n",
       "      <th>0</th>\n",
       "      <td>09/27/2023</td>\n",
       "      <td>01/01/2020</td>\n",
       "      <td>09/23/2023</td>\n",
       "      <td>AK</td>\n",
       "      <td>Anchorage Municipality</td>\n",
       "      <td>3</td>\n",
       "      <td>2</td>\n",
       "      <td>20</td>\n",
       "      <td>2020</td>\n",
       "      <td>Distribution of all-cause deaths (%)</td>\n",
       "      <td>...</td>\n",
       "      <td>787</td>\n",
       "      <td>0.568</td>\n",
       "      <td>0.044</td>\n",
       "      <td>0.216</td>\n",
       "      <td>0.058</td>\n",
       "      <td>0.030</td>\n",
       "      <td>0.033</td>\n",
       "      <td>0.050</td>\n",
       "      <td>Medium metro</td>\n",
       "      <td>NaN</td>\n",
       "    </tr>\n",
       "    <tr>\n",
       "      <th>1</th>\n",
       "      <td>09/27/2023</td>\n",
       "      <td>01/01/2020</td>\n",
       "      <td>09/23/2023</td>\n",
       "      <td>AK</td>\n",
       "      <td>Anchorage Municipality</td>\n",
       "      <td>3</td>\n",
       "      <td>2</td>\n",
       "      <td>20</td>\n",
       "      <td>2020</td>\n",
       "      <td>Distribution of COVID-19 deaths (%)</td>\n",
       "      <td>...</td>\n",
       "      <td>787</td>\n",
       "      <td>0.452</td>\n",
       "      <td>0.037</td>\n",
       "      <td>0.255</td>\n",
       "      <td>0.111</td>\n",
       "      <td>0.074</td>\n",
       "      <td>0.038</td>\n",
       "      <td>0.033</td>\n",
       "      <td>Medium metro</td>\n",
       "      <td>NaN</td>\n",
       "    </tr>\n",
       "    <tr>\n",
       "      <th>2</th>\n",
       "      <td>09/27/2023</td>\n",
       "      <td>01/01/2020</td>\n",
       "      <td>09/23/2023</td>\n",
       "      <td>AK</td>\n",
       "      <td>Anchorage Municipality</td>\n",
       "      <td>3</td>\n",
       "      <td>2</td>\n",
       "      <td>20</td>\n",
       "      <td>2020</td>\n",
       "      <td>Distribution of population (%)</td>\n",
       "      <td>...</td>\n",
       "      <td>787</td>\n",
       "      <td>0.564</td>\n",
       "      <td>0.052</td>\n",
       "      <td>0.083</td>\n",
       "      <td>0.098</td>\n",
       "      <td>0.031</td>\n",
       "      <td>0.095</td>\n",
       "      <td>0.077</td>\n",
       "      <td>Medium metro</td>\n",
       "      <td>NaN</td>\n",
       "    </tr>\n",
       "    <tr>\n",
       "      <th>3</th>\n",
       "      <td>09/27/2023</td>\n",
       "      <td>01/01/2020</td>\n",
       "      <td>09/23/2023</td>\n",
       "      <td>AK</td>\n",
       "      <td>Fairbanks North Star Borough</td>\n",
       "      <td>4</td>\n",
       "      <td>2</td>\n",
       "      <td>90</td>\n",
       "      <td>2090</td>\n",
       "      <td>Distribution of all-cause deaths (%)</td>\n",
       "      <td>...</td>\n",
       "      <td>214</td>\n",
       "      <td>0.710</td>\n",
       "      <td>0.024</td>\n",
       "      <td>0.173</td>\n",
       "      <td>0.020</td>\n",
       "      <td>NaN</td>\n",
       "      <td>0.027</td>\n",
       "      <td>0.044</td>\n",
       "      <td>Small metro</td>\n",
       "      <td>One or more data cells have counts between 1-9...</td>\n",
       "    </tr>\n",
       "    <tr>\n",
       "      <th>4</th>\n",
       "      <td>09/27/2023</td>\n",
       "      <td>01/01/2020</td>\n",
       "      <td>09/23/2023</td>\n",
       "      <td>AK</td>\n",
       "      <td>Fairbanks North Star Borough</td>\n",
       "      <td>4</td>\n",
       "      <td>2</td>\n",
       "      <td>90</td>\n",
       "      <td>2090</td>\n",
       "      <td>Distribution of COVID-19 deaths (%)</td>\n",
       "      <td>...</td>\n",
       "      <td>214</td>\n",
       "      <td>0.626</td>\n",
       "      <td>NaN</td>\n",
       "      <td>0.257</td>\n",
       "      <td>NaN</td>\n",
       "      <td>NaN</td>\n",
       "      <td>NaN</td>\n",
       "      <td>0.056</td>\n",
       "      <td>Small metro</td>\n",
       "      <td>One or more data cells have counts between 1-9...</td>\n",
       "    </tr>\n",
       "  </tbody>\n",
       "</table>\n",
       "<p>5 rows × 21 columns</p>\n",
       "</div>"
      ],
      "text/plain": [
       "   Data as of  Start Date    End Date State                   County Name  \\\n",
       "0  09/27/2023  01/01/2020  09/23/2023    AK        Anchorage Municipality   \n",
       "1  09/27/2023  01/01/2020  09/23/2023    AK        Anchorage Municipality   \n",
       "2  09/27/2023  01/01/2020  09/23/2023    AK        Anchorage Municipality   \n",
       "3  09/27/2023  01/01/2020  09/23/2023    AK  Fairbanks North Star Borough   \n",
       "4  09/27/2023  01/01/2020  09/23/2023    AK  Fairbanks North Star Borough   \n",
       "\n",
       "   Urban Rural Code  FIPS State  FIPS County  FIPS Code  \\\n",
       "0                 3           2           20       2020   \n",
       "1                 3           2           20       2020   \n",
       "2                 3           2           20       2020   \n",
       "3                 4           2           90       2090   \n",
       "4                 4           2           90       2090   \n",
       "\n",
       "                              Indicator  ...  COVID-19 Deaths  \\\n",
       "0  Distribution of all-cause deaths (%)  ...              787   \n",
       "1   Distribution of COVID-19 deaths (%)  ...              787   \n",
       "2        Distribution of population (%)  ...              787   \n",
       "3  Distribution of all-cause deaths (%)  ...              214   \n",
       "4   Distribution of COVID-19 deaths (%)  ...              214   \n",
       "\n",
       "   Non-Hispanic White  Non-Hispanic Black  \\\n",
       "0               0.568               0.044   \n",
       "1               0.452               0.037   \n",
       "2               0.564               0.052   \n",
       "3               0.710               0.024   \n",
       "4               0.626                 NaN   \n",
       "\n",
       "   Non-Hispanic American Indian or Alaska Native  Non-Hispanic Asian  \\\n",
       "0                                          0.216               0.058   \n",
       "1                                          0.255               0.111   \n",
       "2                                          0.083               0.098   \n",
       "3                                          0.173               0.020   \n",
       "4                                          0.257                 NaN   \n",
       "\n",
       "   Non-Hispanic Native Hawaiian or Other Pacific Islander  Hispanic  Other  \\\n",
       "0                                              0.030          0.033  0.050   \n",
       "1                                              0.074          0.038  0.033   \n",
       "2                                              0.031          0.095  0.077   \n",
       "3                                                NaN          0.027  0.044   \n",
       "4                                                NaN            NaN  0.056   \n",
       "\n",
       "   Urban Rural Description                                           Footnote  \n",
       "0             Medium metro                                                NaN  \n",
       "1             Medium metro                                                NaN  \n",
       "2             Medium metro                                                NaN  \n",
       "3              Small metro  One or more data cells have counts between 1-9...  \n",
       "4              Small metro  One or more data cells have counts between 1-9...  \n",
       "\n",
       "[5 rows x 21 columns]"
      ]
     },
     "execution_count": 3,
     "metadata": {},
     "output_type": "execute_result"
    }
   ],
   "source": [
    "# How does the file look like\n",
    "df.head()"
   ]
  },
  {
   "cell_type": "code",
   "execution_count": 4,
   "metadata": {},
   "outputs": [],
   "source": [
    "# Clean Data to only include rows for deaths from COVID-19\n",
    "df = df[df['Indicator'] == 'Distribution of COVID-19 deaths (%)']\n",
    "df.reset_index(drop=True, inplace=True)"
   ]
  },
  {
   "cell_type": "code",
   "execution_count": 5,
   "metadata": {},
   "outputs": [
    {
     "data": {
      "text/plain": [
       "(500, 22)"
      ]
     },
     "execution_count": 5,
     "metadata": {},
     "output_type": "execute_result"
    }
   ],
   "source": [
    "# Clean Data to only include coastal states(Column with East, West)\n",
    "coast_states = ['WA', 'OR', 'CA', 'ME', 'NH', 'MA', 'RI', 'CT', 'NY', 'NJ', 'PA', 'DE', 'MD', 'VA', 'NC', 'SC', 'GA', 'FL']\n",
    "df['Coast'] = df['State'].apply(lambda x: 'West' if x in ['CA', 'OR', 'WA'] else 'East')\n",
    "df = df[df['State'].isin(coast_states)]\n",
    "df.shape"
   ]
  },
  {
   "cell_type": "code",
   "execution_count": 6,
   "metadata": {},
   "outputs": [],
   "source": [
    "# 170 coastal counties where theres info for Non-Hispanic Whites, Non-Hispanic Blacks, Hispanics, Non-Hispanic Asians\n",
    "mask_white = df['Non-Hispanic White'].notna()\n",
    "mask_black = df['Non-Hispanic Black'].notna()\n",
    "mask_asian = df['Non-Hispanic Asian'].notna()\n",
    "mask_hispanic = df['Hispanic'].notna()\n",
    "combined_mask = mask_white & mask_black & mask_hispanic &mask_asian\n",
    "num_rows_non_nan = combined_mask.sum()\n",
    "\n"
   ]
  },
  {
   "cell_type": "code",
   "execution_count": 7,
   "metadata": {},
   "outputs": [],
   "source": [
    "#One of the biggest challenges we were thinking about was that a lot of counties had different or missing information for ethnicities. Some counties have information for every ethnicity, while others have missing data for one ethnicity only or for many ethnicities. Taking a look at the data, at least a significant number of counties had information for Non-Hispanic White, Black and Asians and Hispanics, which we felt was strong enough to analyze racial data trends for these counties. Thus we kept counties which had information for these categories and added one which were all ethnicities outside of these.\n",
    "# Drop counties where theres missing info in any of aforementioned columns\n",
    "df = df[combined_mask]\n",
    "df.reset_index(drop=True, inplace=True)\n",
    "df['Non-White, Non-Black, Non-Hispanic, Non-Asian'] = 1 - df['Non-Hispanic White'] - df['Non-Hispanic Black'] - df['Hispanic'] - df['Non-Hispanic Asian']\n"
   ]
  },
  {
   "cell_type": "code",
   "execution_count": 8,
   "metadata": {},
   "outputs": [],
   "source": [
    "# Drop unnecessary columns, Remember Data is from 01/01/2020 to 09/23/2023\n",
    "df = df.drop(['Data as of', 'Total deaths', 'Start Date', 'End Date', 'Urban Rural Code', 'FIPS State', 'FIPS Code','FIPS County', 'Indicator'], axis=1)"
   ]
  },
  {
   "cell_type": "code",
   "execution_count": 9,
   "metadata": {},
   "outputs": [],
   "source": [
    "# Rearrange the columns to have data arranged in desirable order\n",
    "df = df[[\"State\",\"County Name\", \"Coast\",\"COVID-19 Deaths\",\"Non-Hispanic White\",\"Non-Hispanic Black\", \"Hispanic\", \"Non-Hispanic Asian\", \"Non-White, Non-Black, Non-Hispanic, Non-Asian\", \"Non-Hispanic American Indian or Alaska Native\",\"Non-Hispanic Native Hawaiian or Other Pacific Islander\",\"Other\",\"Urban Rural Description\",\"Footnote\"]]"
   ]
  },
  {
   "cell_type": "code",
   "execution_count": 10,
   "metadata": {},
   "outputs": [
    {
     "data": {
      "text/html": [
       "<div>\n",
       "<style scoped>\n",
       "    .dataframe tbody tr th:only-of-type {\n",
       "        vertical-align: middle;\n",
       "    }\n",
       "\n",
       "    .dataframe tbody tr th {\n",
       "        vertical-align: top;\n",
       "    }\n",
       "\n",
       "    .dataframe thead th {\n",
       "        text-align: right;\n",
       "    }\n",
       "</style>\n",
       "<table border=\"1\" class=\"dataframe\">\n",
       "  <thead>\n",
       "    <tr style=\"text-align: right;\">\n",
       "      <th></th>\n",
       "      <th>State</th>\n",
       "      <th>County Name</th>\n",
       "      <th>Coast</th>\n",
       "      <th>COVID-19 Deaths</th>\n",
       "      <th>Non-Hispanic White</th>\n",
       "      <th>Non-Hispanic Black</th>\n",
       "      <th>Hispanic</th>\n",
       "      <th>Non-Hispanic Asian</th>\n",
       "      <th>Non-White, Non-Black, Non-Hispanic, Non-Asian</th>\n",
       "      <th>Urban Rural Description</th>\n",
       "    </tr>\n",
       "  </thead>\n",
       "  <tbody>\n",
       "    <tr>\n",
       "      <th>0</th>\n",
       "      <td>CA</td>\n",
       "      <td>Alameda County</td>\n",
       "      <td>West</td>\n",
       "      <td>2628</td>\n",
       "      <td>0.312</td>\n",
       "      <td>0.191</td>\n",
       "      <td>0.239</td>\n",
       "      <td>0.219</td>\n",
       "      <td>0.039</td>\n",
       "      <td>Large central metro</td>\n",
       "    </tr>\n",
       "    <tr>\n",
       "      <th>1</th>\n",
       "      <td>CA</td>\n",
       "      <td>Butte County</td>\n",
       "      <td>West</td>\n",
       "      <td>789</td>\n",
       "      <td>0.790</td>\n",
       "      <td>0.015</td>\n",
       "      <td>0.119</td>\n",
       "      <td>0.041</td>\n",
       "      <td>0.035</td>\n",
       "      <td>Small metro</td>\n",
       "    </tr>\n",
       "    <tr>\n",
       "      <th>2</th>\n",
       "      <td>CA</td>\n",
       "      <td>Contra Costa County</td>\n",
       "      <td>West</td>\n",
       "      <td>1754</td>\n",
       "      <td>0.536</td>\n",
       "      <td>0.127</td>\n",
       "      <td>0.198</td>\n",
       "      <td>0.111</td>\n",
       "      <td>0.028</td>\n",
       "      <td>Large fringe metro</td>\n",
       "    </tr>\n",
       "    <tr>\n",
       "      <th>3</th>\n",
       "      <td>CA</td>\n",
       "      <td>Fresno County</td>\n",
       "      <td>West</td>\n",
       "      <td>3278</td>\n",
       "      <td>0.393</td>\n",
       "      <td>0.046</td>\n",
       "      <td>0.450</td>\n",
       "      <td>0.092</td>\n",
       "      <td>0.019</td>\n",
       "      <td>Medium metro</td>\n",
       "    </tr>\n",
       "    <tr>\n",
       "      <th>4</th>\n",
       "      <td>CA</td>\n",
       "      <td>Kern County</td>\n",
       "      <td>West</td>\n",
       "      <td>2711</td>\n",
       "      <td>0.373</td>\n",
       "      <td>0.058</td>\n",
       "      <td>0.505</td>\n",
       "      <td>0.040</td>\n",
       "      <td>0.024</td>\n",
       "      <td>Medium metro</td>\n",
       "    </tr>\n",
       "  </tbody>\n",
       "</table>\n",
       "</div>"
      ],
      "text/plain": [
       "  State          County Name Coast  COVID-19 Deaths  Non-Hispanic White  \\\n",
       "0    CA       Alameda County  West             2628               0.312   \n",
       "1    CA         Butte County  West              789               0.790   \n",
       "2    CA  Contra Costa County  West             1754               0.536   \n",
       "3    CA        Fresno County  West             3278               0.393   \n",
       "4    CA          Kern County  West             2711               0.373   \n",
       "\n",
       "   Non-Hispanic Black  Hispanic  Non-Hispanic Asian  \\\n",
       "0               0.191     0.239               0.219   \n",
       "1               0.015     0.119               0.041   \n",
       "2               0.127     0.198               0.111   \n",
       "3               0.046     0.450               0.092   \n",
       "4               0.058     0.505               0.040   \n",
       "\n",
       "   Non-White, Non-Black, Non-Hispanic, Non-Asian Urban Rural Description  \n",
       "0                                          0.039     Large central metro  \n",
       "1                                          0.035             Small metro  \n",
       "2                                          0.028      Large fringe metro  \n",
       "3                                          0.019            Medium metro  \n",
       "4                                          0.024            Medium metro  "
      ]
     },
     "execution_count": 10,
     "metadata": {},
     "output_type": "execute_result"
    }
   ],
   "source": [
    "# Because we standardized the ethnicity data above, we decide to remove all data for specific ethnicities which we are not observing and only keep the ones that we described above.\n",
    "df = df.drop(['Non-Hispanic American Indian or Alaska Native','Non-Hispanic Native Hawaiian or Other Pacific Islander', 'Other', 'Footnote'], axis=1)\n",
    "df.head()"
   ]
  },
  {
   "cell_type": "code",
   "execution_count": 11,
   "metadata": {},
   "outputs": [
    {
     "data": {
      "text/plain": [
       "(170, 10)"
      ]
     },
     "execution_count": 11,
     "metadata": {},
     "output_type": "execute_result"
    }
   ],
   "source": [
    "# Cleaned dataset\n",
    "df.shape"
   ]
  },
  {
   "cell_type": "markdown",
   "metadata": {},
   "source": [
    "### Data Cleaning\n",
    "\n",
    "To get the data into a usable format, we first had to keep only the parts of the data that were deaths specific to COVID, as the data also included non-COVID deaths. Based on our research question, we wanted to analyze states on the east and west coast. So, we only kept the remaining data that were for counties in east and west coast states. Then, we had to analyze which parts of the data were missing. Even though there were columns for specific ethnicities such as American Indian or Native Hawaiian, a lot of counties had missing information for these columns and only had data for few columns Non-Hispanic Whites and Non-Hispanic Blacks and NaN for others. In order to standardize the data, while still having a decent number of obvservations, we decided to see how many counties had data for Non-Hispanic Whites, Non-Hispanic Blacks, Non-Hispanic Asians, and Hispanics, which was 170, and removed those which didn’t. Then, we added essentially a column that was for the proportion of the population not in those ethnicities (the remainder/other column basically). Finally, we dropped a lot of columns which were unnecessary to our data, such as codes for counties and states (which do not provide as easily understandable info as county names and state names) and date-range, which was standard across the whole data set (1/2020 to 9/2023). We also removed total deaths, as we only cared about COVID-19 deaths."
   ]
  },
  {
   "cell_type": "markdown",
   "metadata": {},
   "source": [
    "# Results\n",
    "\n",
    "## Exploratory Data Analysis\n",
    "\n",
    "Before we delve into the EDA, it is important to note that our data comprises of small units that cumulate together to answer our research question. Therefore, creating the characteristics table in order to understand our data better first requires the collation of county-wise mortality counts into state and coastal levels of granularity. Moreoever, all data must also be reorganized as per differing Rural Urban Descriptions, in order for us to better understand our dataset's ability to explore the relationships between different urbanization levels and racial backgrounds in the context of COVID-19 Deaths."
   ]
  },
  {
   "cell_type": "markdown",
   "metadata": {},
   "source": [
    "### Section 1: Shifting from county to coastal levels of granularity\n",
    "\n",
    "In order to compare east and west coast states, we must transform our data from county-wise proportions to a much higher level of granularity. By doing that, we can much easier observe patterns/comprehend if there is any preliminary relationships/distributions that can be seen in our cleaned dataset."
   ]
  },
  {
   "cell_type": "code",
   "execution_count": null,
   "metadata": {},
   "outputs": [
    {
     "data": {
      "text/html": [
       "<div>\n",
       "<style scoped>\n",
       "    .dataframe tbody tr th:only-of-type {\n",
       "        vertical-align: middle;\n",
       "    }\n",
       "\n",
       "    .dataframe tbody tr th {\n",
       "        vertical-align: top;\n",
       "    }\n",
       "\n",
       "    .dataframe thead th {\n",
       "        text-align: right;\n",
       "    }\n",
       "</style>\n",
       "<table border=\"1\" class=\"dataframe\">\n",
       "  <thead>\n",
       "    <tr style=\"text-align: right;\">\n",
       "      <th></th>\n",
       "      <th>COVID-19 Deaths</th>\n",
       "      <th>Non-Hispanic White</th>\n",
       "      <th>Non-Hispanic Black</th>\n",
       "      <th>Hispanic</th>\n",
       "      <th>Non-Hispanic Asian</th>\n",
       "      <th>Non-White, Non-Black, Non-Hispanic, Non-Asian</th>\n",
       "    </tr>\n",
       "  </thead>\n",
       "  <tbody>\n",
       "    <tr>\n",
       "      <th>East</th>\n",
       "      <td>308361</td>\n",
       "      <td>0.604031</td>\n",
       "      <td>0.197201</td>\n",
       "      <td>0.150331</td>\n",
       "      <td>0.038731</td>\n",
       "      <td>0.009706</td>\n",
       "    </tr>\n",
       "    <tr>\n",
       "      <th>West</th>\n",
       "      <td>116605</td>\n",
       "      <td>0.409395</td>\n",
       "      <td>0.068750</td>\n",
       "      <td>0.382217</td>\n",
       "      <td>0.114059</td>\n",
       "      <td>0.025578</td>\n",
       "    </tr>\n",
       "    <tr>\n",
       "      <th>CA</th>\n",
       "      <td>103793</td>\n",
       "      <td>0.365473</td>\n",
       "      <td>0.071580</td>\n",
       "      <td>0.420816</td>\n",
       "      <td>0.119665</td>\n",
       "      <td>0.022466</td>\n",
       "    </tr>\n",
       "    <tr>\n",
       "      <th>CT</th>\n",
       "      <td>11220</td>\n",
       "      <td>0.736910</td>\n",
       "      <td>0.130128</td>\n",
       "      <td>0.111873</td>\n",
       "      <td>0.015340</td>\n",
       "      <td>0.005749</td>\n",
       "    </tr>\n",
       "    <tr>\n",
       "      <th>DE</th>\n",
       "      <td>1785</td>\n",
       "      <td>0.711000</td>\n",
       "      <td>0.229000</td>\n",
       "      <td>0.047000</td>\n",
       "      <td>0.011000</td>\n",
       "      <td>0.002000</td>\n",
       "    </tr>\n",
       "  </tbody>\n",
       "</table>\n",
       "</div>"
      ],
      "text/plain": [
       "      COVID-19 Deaths  Non-Hispanic White  Non-Hispanic Black  Hispanic  \\\n",
       "East           308361            0.604031            0.197201  0.150331   \n",
       "West           116605            0.409395            0.068750  0.382217   \n",
       "CA             103793            0.365473            0.071580  0.420816   \n",
       "CT              11220            0.736910            0.130128  0.111873   \n",
       "DE               1785            0.711000            0.229000  0.047000   \n",
       "\n",
       "      Non-Hispanic Asian  Non-White, Non-Black, Non-Hispanic, Non-Asian  \n",
       "East            0.038731                                       0.009706  \n",
       "West            0.114059                                       0.025578  \n",
       "CA              0.119665                                       0.022466  \n",
       "CT              0.015340                                       0.005749  \n",
       "DE              0.011000                                       0.002000  "
      ]
     },
     "metadata": {},
     "output_type": "display_data"
    }
   ],
   "source": [
    "state_deaths = df.groupby('State').agg({'COVID-19 Deaths': 'sum'})\n",
    "race_columns = ['Non-Hispanic White', 'Non-Hispanic Black', 'Hispanic', 'Non-Hispanic Asian', 'Non-White, Non-Black, Non-Hispanic, Non-Asian']\n",
    "race_deaths = pd.DataFrame()\n",
    "for col in race_columns:\n",
    "    race_deaths[col] = df[col] * df['COVID-19 Deaths']\n",
    "state_race_deaths = race_deaths.groupby(df['State']).sum()\n",
    "state_race_death_proportions = state_race_deaths.div(state_deaths['COVID-19 Deaths'], axis=0)\n",
    "state_df = pd.concat([state_deaths, state_race_death_proportions], axis=1)\n",
    "\n",
    "coast_deaths = df.groupby('Coast').agg({'COVID-19 Deaths':'sum'})\n",
    "race_deaths_coast = pd.DataFrame()\n",
    "for col in race_columns:\n",
    "    race_deaths_coast[col] = df[col] * df['COVID-19 Deaths']\n",
    "coast_race_deaths = race_deaths_coast.groupby(df['Coast']).sum()\n",
    "coast_race_death_proportions = coast_race_deaths.div(coast_deaths['COVID-19 Deaths'], axis=0)\n",
    "coast_df = pd.concat([coast_deaths, coast_race_death_proportions], axis=1)\n",
    "\n",
    "location_df = pd.concat([coast_df, state_df], axis=0)\n",
    "coastal_mean = pd.DataFrame(coast_df[race_columns].mean())\n",
    "\n",
    "location_df.head()\n"
   ]
  },
  {
   "cell_type": "markdown",
   "metadata": {},
   "source": [
    "### Section 2 : Shifting from county to urbanization levels of granularity\n",
    "\n",
    "This section helps us look at different counties's central tendency when collated into distinct Urban Rural Descriptions. For it, we need to follow a similar process to the earlier shift in granularity."
   ]
  },
  {
   "cell_type": "code",
   "execution_count": null,
   "metadata": {},
   "outputs": [
    {
     "data": {
      "text/html": [
       "<div>\n",
       "<style scoped>\n",
       "    .dataframe tbody tr th:only-of-type {\n",
       "        vertical-align: middle;\n",
       "    }\n",
       "\n",
       "    .dataframe tbody tr th {\n",
       "        vertical-align: top;\n",
       "    }\n",
       "\n",
       "    .dataframe thead th {\n",
       "        text-align: right;\n",
       "    }\n",
       "</style>\n",
       "<table border=\"1\" class=\"dataframe\">\n",
       "  <thead>\n",
       "    <tr style=\"text-align: right;\">\n",
       "      <th></th>\n",
       "      <th>COVID-19 Deaths</th>\n",
       "      <th>Non-Hispanic White</th>\n",
       "      <th>Non-Hispanic Black</th>\n",
       "      <th>Hispanic</th>\n",
       "      <th>Non-Hispanic Asian</th>\n",
       "      <th>Non-White, Non-Black, Non-Hispanic, Non-Asian</th>\n",
       "    </tr>\n",
       "    <tr>\n",
       "      <th>Urban Rural Description</th>\n",
       "      <th></th>\n",
       "      <th></th>\n",
       "      <th></th>\n",
       "      <th></th>\n",
       "      <th></th>\n",
       "      <th></th>\n",
       "    </tr>\n",
       "  </thead>\n",
       "  <tbody>\n",
       "    <tr>\n",
       "      <th>Large central metro</th>\n",
       "      <td>191458</td>\n",
       "      <td>0.417235</td>\n",
       "      <td>0.180711</td>\n",
       "      <td>0.295912</td>\n",
       "      <td>0.087729</td>\n",
       "      <td>0.018414</td>\n",
       "    </tr>\n",
       "    <tr>\n",
       "      <th>Large fringe metro</th>\n",
       "      <td>127965</td>\n",
       "      <td>0.629158</td>\n",
       "      <td>0.162205</td>\n",
       "      <td>0.153517</td>\n",
       "      <td>0.045279</td>\n",
       "      <td>0.009841</td>\n",
       "    </tr>\n",
       "    <tr>\n",
       "      <th>Medium metro</th>\n",
       "      <td>99183</td>\n",
       "      <td>0.696529</td>\n",
       "      <td>0.130604</td>\n",
       "      <td>0.136558</td>\n",
       "      <td>0.025022</td>\n",
       "      <td>0.011288</td>\n",
       "    </tr>\n",
       "    <tr>\n",
       "      <th>Small metro</th>\n",
       "      <td>6360</td>\n",
       "      <td>0.710745</td>\n",
       "      <td>0.081267</td>\n",
       "      <td>0.169957</td>\n",
       "      <td>0.026856</td>\n",
       "      <td>0.011176</td>\n",
       "    </tr>\n",
       "  </tbody>\n",
       "</table>\n",
       "</div>"
      ],
      "text/plain": [
       "                         COVID-19 Deaths  Non-Hispanic White  \\\n",
       "Urban Rural Description                                        \n",
       "Large central metro               191458            0.417235   \n",
       "Large fringe metro                127965            0.629158   \n",
       "Medium metro                       99183            0.696529   \n",
       "Small metro                         6360            0.710745   \n",
       "\n",
       "                         Non-Hispanic Black  Hispanic  Non-Hispanic Asian  \\\n",
       "Urban Rural Description                                                     \n",
       "Large central metro                0.180711  0.295912            0.087729   \n",
       "Large fringe metro                 0.162205  0.153517            0.045279   \n",
       "Medium metro                       0.130604  0.136558            0.025022   \n",
       "Small metro                        0.081267  0.169957            0.026856   \n",
       "\n",
       "                         Non-White, Non-Black, Non-Hispanic, Non-Asian  \n",
       "Urban Rural Description                                                 \n",
       "Large central metro                                           0.018414  \n",
       "Large fringe metro                                            0.009841  \n",
       "Medium metro                                                  0.011288  \n",
       "Small metro                                                   0.011176  "
      ]
     },
     "metadata": {},
     "output_type": "display_data"
    }
   ],
   "source": [
    "urban_deaths = df.groupby('Urban Rural Description').agg({'COVID-19 Deaths': 'sum'})\n",
    "race_columns = ['Non-Hispanic White', 'Non-Hispanic Black', 'Hispanic', 'Non-Hispanic Asian', 'Non-White, Non-Black, Non-Hispanic, Non-Asian']\n",
    "race_deaths = pd.DataFrame()\n",
    "for col in race_columns:\n",
    "    race_deaths[col] = df[col] * df['COVID-19 Deaths']\n",
    "urban_race_deaths = race_deaths.groupby(df['Urban Rural Description']).sum()\n",
    "urban_death_proportions = urban_race_deaths.div(urban_deaths['COVID-19 Deaths'], axis=0)\n",
    "urban_df = pd.concat([urban_deaths, urban_death_proportions], axis=1)\n",
    "\n",
    "urban_mean = pd.DataFrame(urban_df[race_columns].mean())\n",
    "\n",
    "urban_df.head()"
   ]
  },
  {
   "cell_type": "markdown",
   "metadata": {},
   "source": [
    "Upon running some basic operations on our cleaned dataset, we now have a clearer picture of it. Through the operations, we were able to collate county-wide data into state and then eventually coast-based data on how differing racial backgrounds contribute to COVID-19 Deaths. \n",
    "\n",
    "| Location                | COVID-19 Deaths | Non-Hispanic White | Non-Hispanic Black | Hispanic | Non-Hispanic Asian | Non-White, Non-Black, Non-Hispanic, Non-Asian |\n",
    "| ----------------------- | --------------- | ------------------ | ------------------ | -------- | ------------------ | --------------------------------------------- |\n",
    "| East Coast              | 308361          | 0.604031           | 0.197201           | 0.150331 | 0.038731           | 0.009706                                      |\n",
    "| PA                      | 32841           | 0.76695            | 0.155161           | 0.050191 | 0.023392           | 0.004307                                      |\n",
    "| RI                      | 3090            | 0.825              | 0.048              | 0.098    | 0.021              | 0.008                                         |\n",
    "| SC                      | 9118            | 0.683834           | 0.2721             | 0.030526 | 0.008786           | 0.004755                                      |\n",
    "| VA                      | 8754            | 0.560425           | 0.269564           | 0.093352 | 0.065306           | 0.011353                                      |\n",
    "| CT                      | 11220           | 0.73691            | 0.130128           | 0.111873 | 0.01534            | 0.005749                                      |\n",
    "| DE                      | 1785            | 0.711              | 0.229              | 0.047    | 0.011              | 0.002                                         |\n",
    "| FL                      | 71835           | 0.579327           | 0.163834           | 0.235863 | 0.015229           | 0.005747                                      |\n",
    "| GA                      | 17831           | 0.524462           | 0.37907            | 0.064399 | 0.027953           | 0.004117                                      |\n",
    "| MA                      | 18331           | 0.797811           | 0.069738           | 0.081987 | 0.03539            | 0.015074                                      |\n",
    "| MD                      | 13712           | 0.467536           | 0.404675           | 0.079256 | 0.043006           | 0.005526                                      |\n",
    "| NC                      | 14094           | 0.67063            | 0.246959           | 0.055425 | 0.017636           | 0.00935                                       |\n",
    "| NH                      | 1120            | 0.929              | 0.018              | 0.037    | 0.012              | 0.004                                         |\n",
    "| NJ                      | 33862           | 0.596163           | 0.163926           | 0.180358 | 0.055443           | 0.00411                                       |\n",
    "| NY                      | 70768           | 0.49686            | 0.204164           | 0.202909 | 0.07484            | 0.021227                                      |\n",
    "| West Coast              | 116605          | 0.409395           | 0.06875            | 0.382217 | 0.114059           | 0.025578                                      |\n",
    "| CA                      | 103793          | 0.365473           | 0.07158            | 0.420816 | 0.119665           | 0.022466                                      |\n",
    "| OR                      | 2922            | 0.76077            | 0.044697           | 0.105151 | 0.053705           | 0.035676                                      |\n",
    "| WA                      | 9890            | 0.766532           | 0.046158           | 0.058991 | 0.073065           | 0.055254                                      |\n",
    "|                         |                 |                    |                    |          |                    |                                               |\n",
    "| Urban Rural Description | COVID-19 Deaths | Non-Hispanic White | Non-Hispanic Black | Hispanic | Non-Hispanic Asian | Non-White, Non-Black, Non-Hispanic, Non-Asian |\n",
    "| Large central metro     | 191458          | 0.417235           | 0.180711           | 0.295912 | 0.087729           | 0.018414                                      |\n",
    "| Large fringe metro      | 127965          | 0.629158           | 0.162205           | 0.153517 | 0.045279           | 0.009841                                      |\n",
    "| Medium metro            | 99183           | 0.696529           | 0.130604           | 0.136558 | 0.025022           | 0.011288                                      |\n",
    "| Small metro             | 6360            | 0.710745           | 0.081267           | 0.169957 | 0.026856           | 0.011176                                      |"
   ]
  },
  {
   "cell_type": "markdown",
   "metadata": {},
   "source": [
    "##### Size\n",
    "There have been 170 observations (rows) and 10 columns as established earlier upon the cleaning of our data. Then, all of that data is "
   ]
  },
  {
   "cell_type": "markdown",
   "metadata": {},
   "source": [
    "### Exploring Relationships between variables and COVID-19 Mortality Rates\n",
    "\n",
    "In this section we will be looking at the correlations between our variables and the COVID-19 mortality rates."
   ]
  },
  {
   "cell_type": "code",
   "execution_count": 38,
   "metadata": {},
   "outputs": [
    {
     "name": "stderr",
     "output_type": "stream",
     "text": [
      "/tmp/ipykernel_3042/854540682.py:4: FutureWarning: \n",
      "\n",
      "Passing `palette` without assigning `hue` is deprecated and will be removed in v0.14.0. Assign the `x` variable to `hue` and set `legend=False` for the same effect.\n",
      "\n",
      "  boxplot = sns.boxplot(data = df, y = 'COVID-19 Deaths', x = 'Coast', palette = ['r', 'g'])\n"
     ]
    },
    {
     "data": {
      "text/plain": [
       "Text(0.5, 1.0, 'COVID-19 Deaths for West and East Coast')"
      ]
     },
     "execution_count": 38,
     "metadata": {},
     "output_type": "execute_result"
    },
    {
     "data": {
      "image/png": "[encoded data removed]",
      "text/plain": [
       "<Figure size 1200x800 with 1 Axes>"
      ]
     },
     "metadata": {},
     "output_type": "display_data"
    }
   ],
   "source": [
    "plt.figure(figsize = (12, 8))\n",
    "\n",
    "boxplot = sns.boxplot(data = df, y = 'COVID-19 Deaths', x = 'Coast', palette = ['r', 'g'])\n",
    "boxplot.set_xlabel('Coast')\n",
    "boxplot.set_title('COVID-19 Deaths for West and East Coast')\n",
    "\n"
   ]
  },
  {
   "cell_type": "markdown",
   "metadata": {},
   "source": [
    "Looking at this graph, we can see the general distributions of COVID-19 Deaths between the West and East Coast. We can see that the East Coast has more outliers than the West Coast. We can also see that the interquartile range between the West and East Coast are fairly similar."
   ]
  },
  {
   "cell_type": "code",
   "execution_count": 58,
   "metadata": {},
   "outputs": [
    {
     "name": "stderr",
     "output_type": "stream",
     "text": [
      "/tmp/ipykernel_3042/3455874404.py:3: UserWarning: set_ticklabels() should only be used with a fixed number of ticks, i.e. after set_ticks() or using a FixedLocator.\n",
      "  boxplot.set_xticklabels(boxplot.get_xticklabels(), rotation=40, ha=\"right\")\n"
     ]
    },
    {
     "data": {
      "text/plain": [
       "[Text(0, 0, 'Small metro'),\n",
       " Text(1, 0, 'Medium metro'),\n",
       " Text(2, 0, 'Large fringe metro'),\n",
       " Text(3, 0, 'Large central metro')]"
      ]
     },
     "execution_count": 58,
     "metadata": {},
     "output_type": "execute_result"
    },
    {
     "data": {
      "image/png": "[encoded data removed]",
      "text/plain": [
       "<Figure size 640x480 with 1 Axes>"
      ]
     },
     "metadata": {},
     "output_type": "display_data"
    }
   ],
   "source": [
    "barplot = sns.barplot(data = df, y = 'COVID-19 Deaths', x = 'Urban Rural Description', hue = 'Coast', order = ['Small metro', 'Medium metro', 'Large fringe metro', 'Large central metro'],)\n",
    "barplot.set_title('COVID-19 Deaths for West and East Coast and their Urbanizations')\n",
    "barplot.set_xticklabels(barplot.get_xticklabels(), rotation=40, ha=\"right\")\n",
    "\n"
   ]
  },
  {
   "cell_type": "markdown",
   "metadata": {},
   "source": [
    "Looking at this graph, we can see that the West Coast has less COVID-19 Deaths for small metro, similar COVID-19 Deaths for medium metro and large fringe metro, and more COVID-19 Deaths for large central metro when compared to the East Coast."
   ]
  },
  {
   "cell_type": "markdown",
   "metadata": {},
   "source": [
    "# Ethics & Privacy"
   ]
  },
  {
   "cell_type": "markdown",
   "metadata": {},
   "source": [
    "We do not believe there would be issues regarding the confidentiality of patient/personal information as no names or specific data from one particular person would be used. All results were aggregated ensuring privacy at an individual level.\n",
    "\n",
    "Moreover, our data is sourced from reputable organizations such as the Health data organization, which adheres to strict ethical and data collection guidelines. Overall we believe our findings could prove to be beneficial to prepare for another pandemic in the future. \n",
    "\n",
    "However, it is also very crucial to approach any correlations with caution, avoiding misrepresentation of certain groups/populations of people when dealing with such diseases. Especially when dealing with our dataset that includes some missing values for race categories in a few counties. To account for this, we remove counties that lack proper representation of groups and make sure to only include those who include these values. By addressing these issues earlier during our cleaning portion of the data set we reduce biases before analyzing our data. To reduce bias after creating graphs, we plan on adding captions and carefully explain why we made certain choices: like what data to include, show or talk about for our project. Additionally, we took particular care in our project to ensure that no group is unfairly \"blamed\" or misrepresented based on their race. Especially given the increasing incidents of Asian hate during the COVID-19 pandemic, we are committed to presenting the data impartially and avoiding prejudice against any group. \n"
   ]
  },
  {
   "cell_type": "markdown",
   "metadata": {},
   "source": [
    "# Team Expectations "
   ]
  },
  {
   "cell_type": "markdown",
   "metadata": {},
   "source": [
    "* *Team Expectation 1*\n",
    "    * Have weekly meetings where everyone can attend. If someone cannot attend then they will get a summary, documenting our meeting’s goals and discussions. In each meeting we will talk about how we can make improvements on our previous checkpoint if needed. Then the rest of the meeting will go over the upcoming checkpoint, assigning what task everyone should do and our goals for that week.\n",
    "* *Team Expectation 2*\n",
    "    * Split up work from data wrangling, code, video, and write-up about data: we expect everyone to take a part in the project that plays to their strengths. Those who are good or confident at coding will split the coding portions among themselves (data, wranging, creating graphs etc), and those who are not as confident, would take up the majority of the writing or analysis portion. If all the parts are taken, we plan on having one or two people look over the entire project or step in when help is needed in the coding or writing parts of the project.\n",
    "* *Team Expecation 3*\n",
    "    * Overall expectations: We expect every member in our group to contribute equally and be able to respond to our group chat in a reasonable amount of time. We also expect everyone to try to go to our group meetings and if not possible to check in with the group after to see what they missed.\n"
   ]
  },
  {
   "cell_type": "markdown",
   "metadata": {},
   "source": [
    "# Project Timeline Proposal"
   ]
  },
  {
   "cell_type": "markdown",
   "metadata": {},
   "source": [
    "| Week #      | Meeting Time | Weekly Goals |\n",
    "|------------|--------------|--------------------|\n",
    "| Week 6     | Sat. 6 PM    | For week 6, we found datasets that fit our research question. Once the best possible dataset was found for our specific topic, we divided the work to conduct some wrangling and cleaning on it, such as detecting redundant columns and tidying the data (e.g., converting age values to only years, weight to only pounds, etc.). |\n",
    "| Week 7     | Sat. 7 AM    | In week 7, we will start thinking about how to effectively present the data. We'll decide on the types of graphs to use, the reasons behind our choices, explore relationships within our dataset, and ensure the graphs are easily understandable to the viewer. Another words, discuss what we can do with the dataset |\n",
    "| Week 8     | Sat. 5 PM    | Week 8 will involve cleaning the data frame we chose and correcting any errors outlined by our TA/Professor from the proposal grading|\n",
    "| Week 9     | Fri. 10 AM   | During week 9, we will work on EDA- creating graphs based on our dataset and correct any additional errors that were pointed our in our previous checkpoint |\n",
    "| Week 10    |  Sat 5 PM        | Finally, in week 10, we will conduct a final review of our project, ensuring that we meet all the requirements outlined in the project rubric. |\n"
   ]
  },
  {
   "cell_type": "markdown",
   "metadata": {},
   "source": []
  }
 ],
 "metadata": {
  "kernelspec": {
   "display_name": "Python 3 (ipykernel)",
   "language": "python",
   "name": "python3"
  },
  "language_info": {
   "codemirror_mode": {
    "name": "ipython",
    "version": 3
   },
   "file_extension": ".py",
   "mimetype": "text/x-python",
   "name": "python",
   "nbconvert_exporter": "python",
   "pygments_lexer": "ipython3",
   "version": "3.10.13"
  }
 },
 "nbformat": 4,
 "nbformat_minor": 2
}
