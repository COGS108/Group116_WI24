{
 "cells": [
  {
   "cell_type": "markdown",
   "metadata": {},
   "source": [
    "# COGS 108 - Project Proposal"
   ]
  },
  {
   "cell_type": "markdown",
   "metadata": {},
   "source": [
    "# Names\n",
    "\n",
    "- Benjamin Hinnant\n",
    "- Desmond Vu\n",
    "- Kayla Maldonado\n",
    "- Alexander Gao\n",
    "- Keshav Tiwari"
   ]
  },
  {
   "cell_type": "markdown",
   "metadata": {},
   "source": [
    "# Research Question"
   ]
  },
  {
   "cell_type": "markdown",
   "metadata": {},
   "source": [
    "Is there a correlation between hospital overcrowding and the severity of COVID-19 symptoms and mortality in hospitalized patients?\n",
    "\n"
   ]
  },
  {
   "cell_type": "markdown",
   "metadata": {},
   "source": [
    "## Background and Prior Work"
   ]
  },
  {
   "cell_type": "markdown",
   "metadata": {},
   "source": [
    "During the COVID-19 pandemic, it was often reported that hospitals found it difficult to efficiently process the influx of new patients infected with COVID-19. As such, there are several analyses that have investigated a link between intensive care unit bed use and severity of COVID-19 symptoms. For example, French et al. utilized data from the U.S. Department of Health and Human Services (HHS) and examined the relationship between excess deaths from all causes and hospital strain. They discovered that “intensive care unit bed use at 75% capacity is associated with an estimated additional 12,000 excess deaths 2 weeks later” <a name=\"cite_ref-1\"></a>[<sup>1</sup>](#cite_note-1). \n",
    "\n",
    "Another related example we found was that for overcrowded hospitals, longer wait times resulted in higher risk of error during surgeries, categorized as patient safety events and adverse events, with each minute spent in the emergency waiting room resulting in a 0.2% increase in patient safety events. Also, another effect of overcrowded hospitals lead to many qualified nurses and doctors quitting due to extreme work conditions and deterring new medical personnel <a name=\"cite_ref-2\"></a>[<sup>2</sup>](#cite_note-2).\n",
    "\n",
    "References:\n",
    "1. <a name=\"cite_note-1\"></a> [^](#cite_ref-1) “Impact of Hospital Strain on Excess Deaths During the COVID-19 Pandemic — United States, July 2020–July 2021”\n",
    "2. <a name=\"cite_note-2\"></a> [^](#cite_ref-2) https://journals.lww.com/journalpatientsafety/Abstract/2022/01000/Analysis_of_Risk_Factors_for_Patient_Safety_Events.26.aspx cited by https://www.washingtonpost.com/health/2022/11/20/hospital-capacity-rsv-flu-covid/"
   ]
  },
  {
   "cell_type": "markdown",
   "metadata": {},
   "source": [
    "# Hypothesis\n"
   ]
  },
  {
   "cell_type": "markdown",
   "metadata": {},
   "source": [
    "Our hypothesis is that hospital overcrowding will lead to more severe COVID-19 symptoms in hospitals. We think that this is because with less medical equipment, staff, and care, patients generally will have worse treatment and worse COVID symptoms. "
   ]
  },
  {
   "cell_type": "markdown",
   "metadata": {},
   "source": [
    "# Data"
   ]
  },
  {
   "cell_type": "markdown",
   "metadata": {},
   "source": [
    "Some variables that we would like to have are:\n",
    "- Number of hospital beds\n",
    "- Number of available hospital beds\n",
    "- Number of staff\n",
    "- Number of patients\n",
    "- Number of patients that are confirmed to have COVID\n",
    "- Date\n",
    "\n",
    "Preferably these variables should be stored as integers rather than objects or strings as well as the numbers being consistent, i.e. if there are 100 patients then there should be at most 100 patients that are confirmed to have COVID.\n",
    "\n",
    "The number of preferred observations we would like our data to have is at least 100. 100 Observations should be sufficient enough to allow us to compare observations with each other as well as group up multiple observations together and compare those to other groupings.\n",
    "\n",
    "Our ideal observations will consist of hospital information, preferably over a monthly time period, allowing us to see which hospitals have and don’t have overcrowding. On top of that it would be ideal for there to be a monthly time period so we can see if overcrowding is a continuous issue and if that has a positive correlation with COVID patients.\n",
    "\n",
    "This dataset: https://healthdata.gov/dataset/COVID-19-Reported-Patient-Impact-and-Hospital-Capa/6xf2-c3ie/about_data, is close to our ideal dataset with differing issues such as it is organized in terms of states rather than hospitals and that the data is constantly being replaced by updated data rather than being added to it. "
   ]
  },
  {
   "cell_type": "markdown",
   "metadata": {},
   "source": [
    "# Ethics & Privacy"
   ]
  },
  {
   "cell_type": "markdown",
   "metadata": {},
   "source": [
    "We do not believe there would be issues regarding the confidentiality of patient/personal information as no names or specific data from one particular person would be used. All results were aggregated ensuring privacy at an individual level.\n",
    "\n",
    "Moreover, our data is sourced from reputable organizations such as the Center for Disease Control and Prevention (CDC), United States Official government datasets and Health data which adhere to strict ethical and data collection guidelines. Overall we believe our findings could prove to be beneficial for hospital preparedness when encountering another pandemic in the future. However, it is also very crucial to approach any correlations with caution, avoiding oversimplifying the complexities of hospital operations when dealing with such diseases."
   ]
  },
  {
   "cell_type": "markdown",
   "metadata": {},
   "source": [
    "# Team Expectations "
   ]
  },
  {
   "cell_type": "markdown",
   "metadata": {},
   "source": [
    "\n",
    "- Have weekly(ish) meetings where everyone can attend\n",
    "- Split up work from data wrangling, code, video, write-up about data\n"
   ]
  },
  {
   "cell_type": "markdown",
   "metadata": {},
   "source": [
    "# Project Timeline Proposal"
   ]
  },
  {
   "cell_type": "markdown",
   "metadata": {},
   "source": [
    "| Week | Task |\n",
    "| --- | --- |\n",
    "|6 |  Find datasets that would fit our research question and do some wrangling/cleaning on the dataset. |\n",
    "| 7| Start coding the graphs using the datasets we found and discuss any relationships/correlations found |\n",
    "|8|Start making an outline on our github final project and start filling up sections. |\n",
    "|9|Fix errors, put in our graphs and final annotations.|\n",
    "|10|Make final improvements and submit project |"
   ]
  }
 ],
 "metadata": {
  "kernelspec": {
   "display_name": "Python 3 (ipykernel)",
   "language": "python",
   "name": "python3"
  },
  "language_info": {
   "codemirror_mode": {
    "name": "ipython",
    "version": 3
   },
   "file_extension": ".py",
   "mimetype": "text/x-python",
   "name": "python",
   "nbconvert_exporter": "python",
   "pygments_lexer": "ipython3",
   "version": "3.9.7"
  }
 },
 "nbformat": 4,
 "nbformat_minor": 2
}
